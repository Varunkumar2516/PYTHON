{
 "cells": [
  {
   "cell_type": "markdown",
   "id": "e19269c2",
   "metadata": {},
   "source": [
    "Q.\n",
    "Can We Store Python Objects (like lists, dicts, tuples) Directly in Files?"
   ]
  },
  {
   "cell_type": "markdown",
   "id": "73738858",
   "metadata": {},
   "source": [
    "Sol.\n",
    "Not,directly.\n",
    "Even if you open a file in:\n",
    "\n",
    "\"w\" (text mode)\n",
    "\n",
    "\"wb\" (binary mode)\n",
    "\n",
    "You can't just write a Python object like this:\n"
   ]
  },
  {
   "cell_type": "code",
   "execution_count": 92,
   "id": "0ccdf2af",
   "metadata": {},
   "outputs": [],
   "source": [
    "#like this \n",
    "dict={\"Name\":\"Varun\",\n",
    "      \"class\":\"CSE\",\n",
    "      \"age\":18}"
   ]
  },
  {
   "cell_type": "code",
   "execution_count": 93,
   "id": "24a1d4be",
   "metadata": {},
   "outputs": [
    {
     "ename": "TypeError",
     "evalue": "write() argument must be str, not dict",
     "output_type": "error",
     "traceback": [
      "\u001b[31m---------------------------------------------------------------------------\u001b[39m",
      "\u001b[31mTypeError\u001b[39m                                 Traceback (most recent call last)",
      "\u001b[36mCell\u001b[39m\u001b[36m \u001b[39m\u001b[32mIn[93]\u001b[39m\u001b[32m, line 2\u001b[39m\n\u001b[32m      1\u001b[39m \u001b[38;5;28;01mwith\u001b[39;00m \u001b[38;5;28mopen\u001b[39m(\u001b[33m\"\u001b[39m\u001b[33mFiles/myfile.txt\u001b[39m\u001b[33m\"\u001b[39m,\u001b[33m'\u001b[39m\u001b[33mw\u001b[39m\u001b[33m'\u001b[39m) \u001b[38;5;28;01mas\u001b[39;00m F:\n\u001b[32m----> \u001b[39m\u001b[32m2\u001b[39m     \u001b[43mF\u001b[49m\u001b[43m.\u001b[49m\u001b[43mwrite\u001b[49m\u001b[43m(\u001b[49m\u001b[38;5;28;43mdict\u001b[39;49m\u001b[43m)\u001b[49m\n",
      "\u001b[31mTypeError\u001b[39m: write() argument must be str, not dict"
     ]
    }
   ],
   "source": [
    "with open(\"Files/myfile.txt\",'w') as F:\n",
    "    F.write(dict)"
   ]
  },
  {
   "cell_type": "markdown",
   "id": "ca56a16b",
   "metadata": {},
   "source": [
    "So what We can DO ??\n",
    "Python objects like lists, dicts, tuples, sets, classes → must be serialized into a storable format (string or bytes)\n",
    "Only after that, they can be saved to a file using \"w\" or \"wb\"\n"
   ]
  },
  {
   "cell_type": "markdown",
   "id": "b8dda343",
   "metadata": {},
   "source": [
    "# Serialization\n",
    "Serialization is the process of converting a Python object into a byte stream (binary format) so that it can be:\n",
    "\n",
    "Saved to a file\n",
    "\n",
    "Sent over a network\n",
    "\n",
    "Stored in a database\n",
    "\n",
    "Shared between programs"
   ]
  },
  {
   "cell_type": "markdown",
   "id": "8466d35a",
   "metadata": {},
   "source": [
    "# Deserialization?\n",
    "\n",
    "Deserialization is the reverse process — it converts the byte stream back into a Python object."
   ]
  },
  {
   "cell_type": "markdown",
   "id": "1f048e6a",
   "metadata": {},
   "source": [
    "TWO WAYS TO SERIALIZE\n",
    "1. pickle MODULE\n",
    "\n",
    "2. json MODULE"
   ]
  },
  {
   "cell_type": "markdown",
   "id": "db960dc8",
   "metadata": {},
   "source": [
    "1.Pickle MODULE\n",
    "\n",
    "Pickle serializes Python objects into binary data (0s and 1s).\n",
    "\n",
    "To write binary, the file must be opened in:\n",
    "\n",
    "Use \"wb\" and \"rb\" modes to write and read\n",
    "\n"
   ]
  },
  {
   "cell_type": "code",
   "execution_count": null,
   "id": "8a2de36f",
   "metadata": {},
   "outputs": [],
   "source": [
    "#like this \n",
    "dict={\"Name\":\"Varun\",\n",
    "      \"class\":\"CSE\",\n",
    "      \"age\":18}"
   ]
  },
  {
   "cell_type": "code",
   "execution_count": null,
   "id": "1694a8fa",
   "metadata": {},
   "outputs": [],
   "source": [
    "# pickle Module \n",
    "import pickle\n",
    "\n",
    "#write\n",
    "with open(\"Files/Myfirstpickle.pkl\",'wb') as F:\n",
    "    pickle.dump(dict,F)"
   ]
  },
  {
   "cell_type": "code",
   "execution_count": null,
   "id": "fed2e395",
   "metadata": {},
   "outputs": [
    {
     "name": "stdout",
     "output_type": "stream",
     "text": [
      "{'Name': 'Varun', 'class': 'CSE', 'age': 18}\n"
     ]
    }
   ],
   "source": [
    "#read\n",
    "with open(\"Files/Myfirstpickle.pkl\",'rb') as F:\n",
    "    data=pickle.load(F)\n",
    "print(data)"
   ]
  },
  {
   "cell_type": "markdown",
   "id": "8b9cdd1d",
   "metadata": {},
   "source": [
    "2. json → Text Format (UTF-8)\n",
    "\n",
    "JSON creates textual representations (like: {\"name\": \"Alice\"}).\n",
    "\n",
    "So we use:\n",
    "\n",
    "\"w\" → write text\n",
    "\n",
    "\"r\" → read text"
   ]
  },
  {
   "cell_type": "code",
   "execution_count": null,
   "id": "1a12d169",
   "metadata": {},
   "outputs": [],
   "source": [
    "#like this \n",
    "dict={\"Name\":\"arun\",\n",
    "      \"class\":\"CSE\",\n",
    "      \"age\":18}"
   ]
  },
  {
   "cell_type": "code",
   "execution_count": null,
   "id": "423ffb66",
   "metadata": {},
   "outputs": [],
   "source": [
    "import json\n",
    "\n",
    "#write\n",
    "with open(\"Files/Myjson.json\",\"w\") as F:\n",
    "    json.dump(dict,F,indent=4)"
   ]
  },
  {
   "cell_type": "code",
   "execution_count": null,
   "id": "e6748720",
   "metadata": {},
   "outputs": [
    {
     "name": "stdout",
     "output_type": "stream",
     "text": [
      "{'Name': 'arun', 'class': 'CSE', 'age': 18}\n",
      "<class 'dict'>\n"
     ]
    }
   ],
   "source": [
    "#read\n",
    "with open(\"Files/Myjson.json\",\"r\") as F:\n",
    "    mydata=json.load(F)\n",
    "print(mydata)\n",
    "print(type(dict))"
   ]
  },
  {
   "cell_type": "markdown",
   "id": "a36db209",
   "metadata": {},
   "source": [
    "JSON only supports:\n",
    "\n",
    "object (→ Python dict)\n",
    "\n",
    "array (→ Python list)\n",
    "\n",
    "string (→ str)\n",
    "\n",
    "number (→ int, float)\n",
    "\n",
    "true/false/null (→ True/False/None)"
   ]
  },
  {
   "cell_type": "code",
   "execution_count": null,
   "id": "a64ea9b1",
   "metadata": {},
   "outputs": [
    {
     "name": "stdout",
     "output_type": "stream",
     "text": [
      "(0, 1, 4, 9, 16, 25, 36, 49, 64, 81, 100)\n",
      "<class 'tuple'>\n"
     ]
    }
   ],
   "source": [
    "#serialize and deserialize the tuple\n",
    "square_tuple=tuple(i**2 for i in range(0,11))\n",
    "print(square_tuple)\n",
    "print(type(square_tuple))"
   ]
  },
  {
   "cell_type": "code",
   "execution_count": 2,
   "id": "3540ccf7",
   "metadata": {},
   "outputs": [],
   "source": [
    "#serialize it\n",
    "import json\n",
    "\n",
    "with open(\"Files/demo.json\",\"w\") as F:\n",
    "    json.dump(square_tuple,F)\n"
   ]
  },
  {
   "cell_type": "code",
   "execution_count": 3,
   "id": "b3ed08e0",
   "metadata": {},
   "outputs": [
    {
     "name": "stdout",
     "output_type": "stream",
     "text": [
      "[0, 1, 4, 9, 16, 25, 36, 49, 64, 81, 100]\n",
      "<class 'list'>\n"
     ]
    }
   ],
   "source": [
    "#deserialize it \n",
    "with open(\"Files/demo.json\",\"r\") as F:\n",
    "    data=json.load(F)\n",
    "print(data)\n",
    "print(type(data))"
   ]
  },
  {
   "cell_type": "markdown",
   "id": "8ebc10c2",
   "metadata": {},
   "source": [
    "We get the output as list \n",
    "but we have to serialize the tuple\n",
    "\n",
    "so here Tuples become lists, and you lose the immutability of tuples."
   ]
  },
  {
   "cell_type": "markdown",
   "id": "7abd2b2e",
   "metadata": {},
   "source": [
    "we know the dictionary works well with the json \n",
    "so we can convert the tuple in list such that \"type\" : \"tuple\" and \"items\" : Tuple"
   ]
  },
  {
   "cell_type": "code",
   "execution_count": 4,
   "id": "fd7b4505",
   "metadata": {},
   "outputs": [
    {
     "name": "stdout",
     "output_type": "stream",
     "text": [
      "(0, 1, 4, 9, 16, 25, 36, 49, 64, 81, 100)\n"
     ]
    }
   ],
   "source": [
    "#serialize and deserialize the tuple\n",
    "square_tuple=tuple(i**2 for i in range(0,11))\n",
    "\n",
    "mydata={\n",
    "    \"type\":\"tuple\",\n",
    "    \"items\":square_tuple\n",
    "}\n",
    "print(square_tuple)\n",
    "#write\n",
    "with open(\"Files/Tuplecase.json\",\"w\") as F:\n",
    "    json.dump(mydata,F)\n",
    "\n"
   ]
  },
  {
   "cell_type": "code",
   "execution_count": 5,
   "id": "eafb63b3",
   "metadata": {},
   "outputs": [
    {
     "name": "stdout",
     "output_type": "stream",
     "text": [
      "(0, 1, 4, 9, 16, 25, 36, 49, 64, 81, 100)\n",
      "<class 'tuple'>\n"
     ]
    }
   ],
   "source": [
    "#read \n",
    "with open(\"Files/Tuplecase.json\",'r') as F:\n",
    "    takendata=json.load(F)\n",
    "if takendata[\"type\"]==\"tuple\":\n",
    "    result=tuple(takendata[\"items\"])\n",
    "print(result)\n",
    "print(type(result))"
   ]
  },
  {
   "cell_type": "code",
   "execution_count": null,
   "id": "db5efd38",
   "metadata": {},
   "outputs": [],
   "source": [
    "import json\n",
    "# Serialization / Deserializtion of custom Object\n",
    "class Person:\n",
    "    def __init__(self,name,age,Course,rollnumber):\n",
    "        self.name=name\n",
    "        self.age=age\n",
    "        self.Course=Course\n",
    "        self.rollno=rollnumber\n",
    "    def myobject(self):\n",
    "\n",
    "        return f\"Name:{self.name} => Age:{self.age} => Course :{self.Course} => Roll-Number: {self.rollno}\"\n",
    "    \n",
    "    #object\n",
    "P1=Person(\"sourav\",18,\"CSE\",2301705)"
   ]
  },
  {
   "cell_type": "code",
   "execution_count": null,
   "metadata": {},
   "outputs": [
    {
     "ename": "TypeError",
     "evalue": "Object of type Person is not JSON serializable",
     "output_type": "error",
     "traceback": [
      "\u001b[31m---------------------------------------------------------------------------\u001b[39m",
      "\u001b[31mTypeError\u001b[39m                                 Traceback (most recent call last)",
      "\u001b[36mCell\u001b[39m\u001b[36m \u001b[39m\u001b[32mIn[9]\u001b[39m\u001b[32m, line 3\u001b[39m\n\u001b[32m      1\u001b[39m \u001b[38;5;66;03m# Serialize the Object of class\u001b[39;00m\n\u001b[32m      2\u001b[39m \u001b[38;5;28;01mwith\u001b[39;00m \u001b[38;5;28mopen\u001b[39m(\u001b[33m\"\u001b[39m\u001b[33mFiles/Object.json\u001b[39m\u001b[33m\"\u001b[39m,\u001b[33m\"\u001b[39m\u001b[33mw\u001b[39m\u001b[33m\"\u001b[39m) \u001b[38;5;28;01mas\u001b[39;00m F:\n\u001b[32m----> \u001b[39m\u001b[32m3\u001b[39m     \u001b[43mjson\u001b[49m\u001b[43m.\u001b[49m\u001b[43mdump\u001b[49m\u001b[43m(\u001b[49m\u001b[43mP1\u001b[49m\u001b[43m,\u001b[49m\u001b[43mF\u001b[49m\u001b[43m)\u001b[49m\n",
      "\u001b[36mFile \u001b[39m\u001b[32mc:\\Users\\a\\AppData\\Local\\Programs\\Python\\Python313\\Lib\\json\\__init__.py:179\u001b[39m, in \u001b[36mdump\u001b[39m\u001b[34m(obj, fp, skipkeys, ensure_ascii, check_circular, allow_nan, cls, indent, separators, default, sort_keys, **kw)\u001b[39m\n\u001b[32m    173\u001b[39m     iterable = \u001b[38;5;28mcls\u001b[39m(skipkeys=skipkeys, ensure_ascii=ensure_ascii,\n\u001b[32m    174\u001b[39m         check_circular=check_circular, allow_nan=allow_nan, indent=indent,\n\u001b[32m    175\u001b[39m         separators=separators,\n\u001b[32m    176\u001b[39m         default=default, sort_keys=sort_keys, **kw).iterencode(obj)\n\u001b[32m    177\u001b[39m \u001b[38;5;66;03m# could accelerate with writelines in some versions of Python, at\u001b[39;00m\n\u001b[32m    178\u001b[39m \u001b[38;5;66;03m# a debuggability cost\u001b[39;00m\n\u001b[32m--> \u001b[39m\u001b[32m179\u001b[39m \u001b[43m\u001b[49m\u001b[38;5;28;43;01mfor\u001b[39;49;00m\u001b[43m \u001b[49m\u001b[43mchunk\u001b[49m\u001b[43m \u001b[49m\u001b[38;5;129;43;01min\u001b[39;49;00m\u001b[43m \u001b[49m\u001b[43miterable\u001b[49m\u001b[43m:\u001b[49m\n\u001b[32m    180\u001b[39m \u001b[43m    \u001b[49m\u001b[43mfp\u001b[49m\u001b[43m.\u001b[49m\u001b[43mwrite\u001b[49m\u001b[43m(\u001b[49m\u001b[43mchunk\u001b[49m\u001b[43m)\u001b[49m\n",
      "\u001b[36mFile \u001b[39m\u001b[32mc:\\Users\\a\\AppData\\Local\\Programs\\Python\\Python313\\Lib\\json\\encoder.py:440\u001b[39m, in \u001b[36m_make_iterencode.<locals>._iterencode\u001b[39m\u001b[34m(o, _current_indent_level)\u001b[39m\n\u001b[32m    438\u001b[39m         \u001b[38;5;28;01mraise\u001b[39;00m \u001b[38;5;167;01mValueError\u001b[39;00m(\u001b[33m\"\u001b[39m\u001b[33mCircular reference detected\u001b[39m\u001b[33m\"\u001b[39m)\n\u001b[32m    439\u001b[39m     markers[markerid] = o\n\u001b[32m--> \u001b[39m\u001b[32m440\u001b[39m o = \u001b[43m_default\u001b[49m\u001b[43m(\u001b[49m\u001b[43mo\u001b[49m\u001b[43m)\u001b[49m\n\u001b[32m    441\u001b[39m \u001b[38;5;28;01myield from\u001b[39;00m _iterencode(o, _current_indent_level)\n\u001b[32m    442\u001b[39m \u001b[38;5;28;01mif\u001b[39;00m markers \u001b[38;5;129;01mis\u001b[39;00m \u001b[38;5;129;01mnot\u001b[39;00m \u001b[38;5;28;01mNone\u001b[39;00m:\n",
      "\u001b[36mFile \u001b[39m\u001b[32mc:\\Users\\a\\AppData\\Local\\Programs\\Python\\Python313\\Lib\\json\\encoder.py:180\u001b[39m, in \u001b[36mJSONEncoder.default\u001b[39m\u001b[34m(self, o)\u001b[39m\n\u001b[32m    161\u001b[39m \u001b[38;5;28;01mdef\u001b[39;00m\u001b[38;5;250m \u001b[39m\u001b[34mdefault\u001b[39m(\u001b[38;5;28mself\u001b[39m, o):\n\u001b[32m    162\u001b[39m \u001b[38;5;250m    \u001b[39m\u001b[33;03m\"\"\"Implement this method in a subclass such that it returns\u001b[39;00m\n\u001b[32m    163\u001b[39m \u001b[33;03m    a serializable object for ``o``, or calls the base implementation\u001b[39;00m\n\u001b[32m    164\u001b[39m \u001b[33;03m    (to raise a ``TypeError``).\u001b[39;00m\n\u001b[32m   (...)\u001b[39m\u001b[32m    178\u001b[39m \n\u001b[32m    179\u001b[39m \u001b[33;03m    \"\"\"\u001b[39;00m\n\u001b[32m--> \u001b[39m\u001b[32m180\u001b[39m     \u001b[38;5;28;01mraise\u001b[39;00m \u001b[38;5;167;01mTypeError\u001b[39;00m(\u001b[33mf\u001b[39m\u001b[33m'\u001b[39m\u001b[33mObject of type \u001b[39m\u001b[38;5;132;01m{\u001b[39;00mo.\u001b[34m__class__\u001b[39m.\u001b[34m__name__\u001b[39m\u001b[38;5;132;01m}\u001b[39;00m\u001b[33m \u001b[39m\u001b[33m'\u001b[39m\n\u001b[32m    181\u001b[39m                     \u001b[33mf\u001b[39m\u001b[33m'\u001b[39m\u001b[33mis not JSON serializable\u001b[39m\u001b[33m'\u001b[39m)\n",
      "\u001b[31mTypeError\u001b[39m: Object of type Person is not JSON serializable"
     ]
    }
   ],
   "source": [
    "# Serialize the Object of class\n",
    "with open(\"Files/Object.json\",\"w\") as F:\n",
    "    json.dump(P1,F)\n",
    "#WE CANNOT DIRECLTY SERIALIZE THE OBJECTS BECAUSE IT IS NOT SUPPORTED BY THE JSON"
   ]
  },
  {
   "cell_type": "code",
   "execution_count": null,
   "id": "188d0b34",
   "metadata": {},
   "outputs": [],
   "source": [
    "#custom class Object serialize using function selection as default parameter\n",
    "def myselection(obj):\n",
    "    if isinstance(obj,Person):\n",
    "     return f\"Name:{obj.name} => Age:{obj.age} => Course :{obj.Course} => Roll-Number: {obj.rollno}\"\n",
    "# Serialize the Object of class\n",
    "with open(\"Files/Object.json\",\"w\") as F:\n",
    "    json.dump(P1,F,default=myselection)"
   ]
  },
  {
   "cell_type": "code",
   "execution_count": 1,
   "id": "a7830b4e",
   "metadata": {},
   "outputs": [
    {
     "name": "stdout",
     "output_type": "stream",
     "text": [
      "{'student_info': ('Alice', 20, 'CSE'), 'coordinates': (12.5, 45.3), 'empty_tuple': (), 'nested_tuple': (1, (2, 3), (4, (5, 6))), 'mixed_tuple': ('Bob', 99, 3.14, True, None), 'tuple_of_tuples': ((1, 2), (3, 4), (5, 6)), 'tuple_with_list': ([1, 2, 3], 'hello'), 'tuple_with_dict': ({'a': 1, 'b': 2}, 'test')}\n"
     ]
    }
   ],
   "source": [
    "# lets try to serialize the dictionary of tuples\n",
    "tuples_dict = {\n",
    "    \"student_info\": (\"Alice\", 20, \"CSE\"),\n",
    "    \"coordinates\": (12.5, 45.3),\n",
    "    \"empty_tuple\": (),\n",
    "    \"nested_tuple\": (1, (2, 3), (4, (5, 6))),\n",
    "    \"mixed_tuple\": (\"Bob\", 99, 3.14, True, None),\n",
    "    \"tuple_of_tuples\": ((1, 2), (3, 4), (5, 6)),\n",
    "    \"tuple_with_list\": ([1, 2, 3], \"hello\"),\n",
    "    \"tuple_with_dict\": ({\"a\": 1, \"b\": 2}, \"test\"),\n",
    "}\n",
    "print(tuples_dict)"
   ]
  },
  {
   "cell_type": "code",
   "execution_count": 9,
   "id": "3060b2b7",
   "metadata": {},
   "outputs": [
    {
     "name": "stdout",
     "output_type": "stream",
     "text": [
      "{'student_info': {'type': 'tuple', 'items': ['Alice', 20, 'CSE']}, 'coordinates': {'type': 'tuple', 'items': [12.5, 45.3]}, 'empty_tuple': {'type': 'tuple', 'items': []}, 'nested_tuple': {'type': 'tuple', 'items': [1, {'type': 'tuple', 'items': [2, 3]}, {'type': 'tuple', 'items': [4, {'type': 'tuple', 'items': [5, 6]}]}]}, 'mixed_tuple': {'type': 'tuple', 'items': ['Bob', 99, 3.14, True, None]}, 'tuple_of_tuples': {'type': 'tuple', 'items': [{'type': 'tuple', 'items': [1, 2]}, {'type': 'tuple', 'items': [3, 4]}, {'type': 'tuple', 'items': [5, 6]}]}, 'tuple_with_list': {'type': 'tuple', 'items': [[1, 2, 3], 'hello']}, 'tuple_with_dict': {'type': 'tuple', 'items': [{'a': 1, 'b': 2}, 'test']}}\n",
      "Decoded format\n",
      " {'student_info': ('Alice', 20, 'CSE'), 'coordinates': (12.5, 45.3), 'empty_tuple': (), 'nested_tuple': (1, (2, 3), (4, (5, 6))), 'mixed_tuple': ('Bob', 99, 3.14, True, None), 'tuple_of_tuples': ((1, 2), (3, 4), (5, 6)), 'tuple_with_list': ([1, 2, 3], 'hello'), 'tuple_with_dict': ({'a': 1, 'b': 2}, 'test')}\n"
     ]
    }
   ],
   "source": [
    "# try this with code \n",
    "import json\n",
    "#recursive way to check for each obejct inside the given data\n",
    "def encode_special(obj):\n",
    "    if isinstance(obj,tuple):\n",
    "      return {\"type\":\"tuple\",\"items\":list(encode_special(i) for i in obj)}\n",
    "    elif isinstance(obj,set):\n",
    "      return {\"type\":\"set\",\"items\":list(encode_special(i) for i in obj)}\n",
    "    elif isinstance(obj,list):\n",
    "       return [encode_special(i) for i in obj]\n",
    "    elif isinstance(obj,dict):\n",
    "       return {k:encode_special(i) for k,i in obj.items()}\n",
    "    else : return obj\n",
    "\n",
    "encoded_data=encode_special(tuples_dict)\n",
    "print(encoded_data)\n",
    "#writing data\n",
    "with open(\"Files/PracticeFile.json\",\"w\") as F:\n",
    "   json.dump(encoded_data,F,indent=1)\n",
    "\n",
    "# to decode them back \n",
    "def decode_special(obj):\n",
    "   if isinstance(obj,dict):\n",
    "      if \"type\" in obj and \"items\" in obj:\n",
    "         if obj[\"type\"]==\"tuple\" :\n",
    "            return tuple(decode_special(i) for i in obj[\"items\"])\n",
    "         elif obj[\"type\"]==\"set\":\n",
    "            return set(decode_special(i) for i  in obj[\"items\"])\n",
    "         \n",
    "         else :\n",
    "            return obj\n",
    "      else:\n",
    "         return {k:decode_special(i) for k,i in obj.items()}\n",
    "   elif isinstance(obj,list):\n",
    "      return [decode_special(i) for i in obj ]\n",
    "   else:\n",
    "      return obj\n",
    "   \n",
    "with open(\"Files/PracticeFile.json\",\"r\") as F:\n",
    "   mydata=json.load(F)\n",
    "\n",
    "decoded_data=decode_special(mydata)\n",
    "print(\"Decoded format\\n\",decoded_data)\n",
    "         "
   ]
  },
  {
   "cell_type": "code",
   "execution_count": 2,
   "id": "a864bb88",
   "metadata": {},
   "outputs": [
    {
     "name": "stdout",
     "output_type": "stream",
     "text": [
      "encoded_data {'tuple1': {'type': 'tuple', 'items': ['arun', 18, 'CSE']}, 'tuple2': {'type': 'tuple', 'items': [2, 3, 4, 5, 6, 7, 8, 9]}, 'set1': {'type': 'set', 'items': [18, 'arun', 'CSE']}, 'set2': {'type': 'set', 'items': ['AI', 'PYTHON']}}\n",
      "decoded_data {'tuple1': ('arun', 18, 'CSE'), 'tuple2': (2, 3, 4, 5, 6, 7, 8, 9), 'set1': {18, 'arun', 'CSE'}, 'set2': {'AI', 'PYTHON'}}\n"
     ]
    }
   ],
   "source": [
    "#to dump the multiple data objects as list\n",
    "#we need to use two functions encode and decode (that recursiverly check for each object )\n",
    "# Input data\n",
    "mydata = {\n",
    "    \"tuple1\": (\"arun\", 18, \"CSE\"),\n",
    "    \"tuple2\": (2, 3, 4, 5, 6, 7, 8, 9),\n",
    "    \"set1\": {\"arun\", 18, \"CSE\"},\n",
    "    \"set2\": {\"PYTHON\", \"AI\"}\n",
    "}\n",
    "\n",
    "import json\n",
    "\n",
    "# Recursive encoder: converts tuples and sets into special dicts\n",
    "def encode_special(obj):\n",
    "    if isinstance(obj,tuple):\n",
    "        return {\"type\":\"tuple\" ,\"items\":[encode_special(i) for i in obj]}\n",
    "    if isinstance(obj,set):\n",
    "        return {\"type\":\"set\" ,\"items\":[encode_special(i) for i in obj]}\n",
    "    if isinstance(obj,list):\n",
    "        return [encode_special(i) for i in obj]\n",
    "    if isinstance(obj,dict):\n",
    "        return {k:encode_special(i) for k,i in obj.items()}\n",
    "    else:\n",
    "        return obj\n",
    "    \n",
    "def decode(obj):\n",
    "    if isinstance(obj,dict):\n",
    "        if \"type\" in obj and \"items\" in obj :\n",
    "            if obj[\"type\"]==\"tuple\":\n",
    "                return tuple(decode(i) for i in obj[\"items\"])\n",
    "            elif obj[\"type\"]==\"set\":\n",
    "                return set(decode(i) for i in obj[\"items\"])\n",
    "            else:return obj\n",
    "        else:\n",
    "            return {k:decode(i) for k,i in obj.items()}\n",
    "    elif isinstance(obj,list):\n",
    "        return [decode(i) for i in obj]\n",
    "    else:\n",
    "        return obj\n",
    "    \n",
    "\n",
    "\n",
    "converted=encode_special(mydata)\n",
    "\n",
    "\n",
    "with open(\"Files/mydata.json\",'w') as F:\n",
    "    #using default parameter does not work here for tuples ,becuase it only trigger for objects that cannot \n",
    "    #supported by the json file\n",
    "    #so we can convert the data before dumping\n",
    "    json.dump(converted,F,indent=1)\n",
    "\n",
    "with open(\"Files/mydata.json\",\"r\") as F:\n",
    "    data=json.load(F)\n",
    "\n",
    "print(\"encoded_data\",data)\n",
    "decode_data=decode(data)\n",
    "print(\"decoded_data\",decode_data)"
   ]
  },
  {
   "cell_type": "markdown",
   "id": "fdc82072",
   "metadata": {},
   "source": [
    "With Pickiling:\n",
    "its really simple just write and read from Binary file"
   ]
  },
  {
   "cell_type": "code",
   "execution_count": 2,
   "id": "ef7cf6cc",
   "metadata": {},
   "outputs": [
    {
     "name": "stdout",
     "output_type": "stream",
     "text": [
      "{'student_info': ('Alice', 20, 'CSE'), 'coordinates': (12.5, 45.3), 'empty_tuple': (), 'nested_tuple': (1, (2, 3), (4, (5, 6))), 'mixed_tuple': ('Bob', 99, 3.14, True, None), 'tuple_of_tuples': ((1, 2), (3, 4), (5, 6)), 'tuple_with_list': ([1, 2, 3], 'hello'), 'tuple_with_dict': ({'a': 1, 'b': 2}, 'test')}\n"
     ]
    }
   ],
   "source": [
    "import pickle\n",
    "tuples_dict = {\n",
    "    \"student_info\": (\"Alice\", 20, \"CSE\"),\n",
    "    \"coordinates\": (12.5, 45.3),\n",
    "    \"empty_tuple\": (),\n",
    "    \"nested_tuple\": (1, (2, 3), (4, (5, 6))),\n",
    "    \"mixed_tuple\": (\"Bob\", 99, 3.14, True, None),\n",
    "    \"tuple_of_tuples\": ((1, 2), (3, 4), (5, 6)),\n",
    "    \"tuple_with_list\": ([1, 2, 3], \"hello\"),\n",
    "    \"tuple_with_dict\": ({\"a\": 1, \"b\": 2}, \"test\"),\n",
    "}\n",
    "\n",
    "with open(\"Files/mypractice.pkl\",\"wb\") as F:\n",
    "    pickle.dump(tuples_dict,F)\n",
    "   \n",
    "with open(\"Files/mypractice.pkl\",\"rb\") as F:\n",
    "    mydata=pickle.load(F)\n",
    "print(mydata)\n"
   ]
  }
 ],
 "metadata": {
  "kernelspec": {
   "display_name": "Python 3",
   "language": "python",
   "name": "python3"
  },
  "language_info": {
   "codemirror_mode": {
    "name": "ipython",
    "version": 3
   },
   "file_extension": ".py",
   "mimetype": "text/x-python",
   "name": "python",
   "nbconvert_exporter": "python",
   "pygments_lexer": "ipython3",
   "version": "3.13.5"
  }
 },
 "nbformat": 4,
 "nbformat_minor": 5
}
