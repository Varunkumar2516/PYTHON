{
 "cells": [
  {
   "cell_type": "markdown",
   "id": "0070b2b9",
   "metadata": {},
   "source": [
    "__Q1..What is Module??__:\n",
    "\n",
    "A module in Python is a file containing Python code (functions, classes, or variables) that you can reuse in other programs. It helps in organizing code into manageable, reusable components.\n",
    "\n",
    "Modules can be:\n",
    "\n",
    "Built-in (e.g., math, os, sys)\n",
    "\n",
    "User-defined (a .py file you create, like mymodule.py)"
   ]
  },
  {
   "cell_type": "markdown",
   "id": "b2b17651",
   "metadata": {},
   "source": [
    "A module in Python is any .py file — regardless of whether it’s run on its own or imported into another script.\n",
    "\n",
    "If it's a .py file, it's a module.\n",
    "\n",
    "It can be run independently, or\n",
    "\n",
    "It can be imported into another script."
   ]
  },
  {
   "cell_type": "markdown",
   "id": "1db2a605",
   "metadata": {},
   "source": [
    "__Q2.WHat is mean of ?__ "
   ]
  },
  {
   "cell_type": "code",
   "execution_count": null,
   "id": "f7228066",
   "metadata": {},
   "outputs": [],
   "source": [
    "__name__ == \"__main__\""
   ]
  },
  {
   "cell_type": "markdown",
   "id": "9afedb10",
   "metadata": {},
   "source": [
    "__name__ is a special built-in variable in Python.\n",
    "\n",
    "When a script is run directly, __name__ is set to '__main__'.\n",
    "\n",
    "When it is imported, __name__ is set to the module’s name."
   ]
  },
  {
   "cell_type": "code",
   "execution_count": null,
   "id": "e3a4e6fa",
   "metadata": {},
   "outputs": [
    {
     "name": "stdout",
     "output_type": "stream",
     "text": [
      "helllo\n",
      "__main__\n"
     ]
    }
   ],
   "source": [
    "# so everytime when the current python file (module)\n",
    "# its __name__ is equal to __main__\n",
    "# example\n",
    "def hello():\n",
    "    print(\"helllo\")\n",
    "\n",
    "hello()\n",
    "print(__name__) # __main__\n",
    "# python "
   ]
  },
  {
   "cell_type": "markdown",
   "id": "61465039",
   "metadata": {},
   "source": [
    "Whenwe run a Python file directly ..\n",
    "\n",
    "The Python interpreter sets the built-in variable __name__ to \"__main__\" inside that file only.\n"
   ]
  },
  {
   "cell_type": "code",
   "execution_count": 6,
   "id": "a8e9c24b",
   "metadata": {},
   "outputs": [
    {
     "name": "stdout",
     "output_type": "stream",
     "text": [
      "__name__ in file __main__\n",
      "__name__ of Mymodule Mymodule\n"
     ]
    }
   ],
   "source": [
    "import Mymodule\n",
    "from Mymodule import SquareClass\n",
    "\n",
    "obj=SquareClass(5)\n",
    "print(\"__name__ in file\",__name__)\n",
    "print(\"__name__ of Mymodule\",Mymodule.__name__)\n"
   ]
  },
  {
   "cell_type": "code",
   "execution_count": null,
   "id": "cf34841e",
   "metadata": {},
   "outputs": [
    {
     "data": {
      "text/plain": [
       "'When you run main.py:\\nPython executes main.py as the entry point.\\n\\nSo in main.py, __name__ == \"__main__\".\\n\\nPython sees the from Mymodule import ... and imports Mymodule.py.\\n\\nIn Mymodule.py, __name__ == \"Mymodule\" because it is being imported, not run directly.\\n'"
      ]
     },
     "execution_count": 5,
     "metadata": {},
     "output_type": "execute_result"
    }
   ],
   "source": [
    "\"\"\"When you run main.py:\n",
    "Python executes main.py as the entry point.\n",
    "\n",
    "So in main.py, __name__ == \"__main__\".\n",
    "\n",
    "Python sees the from Mymodule import ... and imports Mymodule.py.\n",
    "\n",
    "In Mymodule.py, __name__ == \"Mymodule\" because it is being imported, not run directly.\n",
    "\"\"\"\n",
    "# when we run the file directly it runs with (__name__=__main__ )\n",
    "# and when it is imported it runs with its File name (__name__ = Mymodule)"
   ]
  },
  {
   "cell_type": "code",
   "execution_count": null,
   "id": "2f67bb37",
   "metadata": {},
   "outputs": [],
   "source": [
    "# Usage:\n",
    "\"\"\"# use\n",
    "so this concept is used to make sure that the test code\n",
    "of the mymodule.py not runs by checking the condition\n",
    "\"\"\"\n",
    "def main():\n",
    "    print(\"testing code\")\n",
    "if __name__ == \"__main__\":\n",
    "    # run this only when executed directly\n",
    "    # so if the module is imported this part of code not runs\n",
    "    main()"
   ]
  },
  {
   "cell_type": "markdown",
   "id": "9badf73a",
   "metadata": {},
   "source": [
    "__Q3. Different Ways IMporting a Module__\n"
   ]
  },
  {
   "cell_type": "markdown",
   "id": "c64d1dd5",
   "metadata": {},
   "source": [
    "- what is need to import a module?\n",
    "We import a module in Python to reuse code written in other, instead of writing everything from scratch.\n",
    "Main Reasons : COde REusability and Code Modularity, organized format of code"
   ]
  },
  {
   "cell_type": "markdown",
   "id": "17728677",
   "metadata": {},
   "source": [
    "- Importing the module"
   ]
  },
  {
   "cell_type": "code",
   "execution_count": 3,
   "id": "41f9f29f",
   "metadata": {},
   "outputs": [
    {
     "name": "stdout",
     "output_type": "stream",
     "text": [
      "36\n"
     ]
    }
   ],
   "source": [
    "# simple way \n",
    "import Mymodule \n",
    "obj=Mymodule.SquareClass(6)\n",
    "area=obj.area()\n",
    "print(area)\n"
   ]
  },
  {
   "cell_type": "code",
   "execution_count": null,
   "id": "73c5ad57",
   "metadata": {},
   "outputs": [
    {
     "name": "stdout",
     "output_type": "stream",
     "text": [
      "25\n",
      "2.23606797749979\n"
     ]
    }
   ],
   "source": [
    "# Import multiple modules at once  \n",
    "import Mymodule,math\n",
    "\n",
    "\n",
    "print(Mymodule.SquareClass(5).area())\n",
    "print(math.sqrt(25))"
   ]
  },
  {
   "cell_type": "code",
   "execution_count": null,
   "id": "15fe3fbe",
   "metadata": {},
   "outputs": [
    {
     "name": "stdout",
     "output_type": "stream",
     "text": [
      "c:\\Users\\a\\AppData\\Local\\Programs\\Python\\Python313\\python313.zip\n",
      "c:\\Users\\a\\AppData\\Local\\Programs\\Python\\Python313\\DLLs\n",
      "c:\\Users\\a\\AppData\\Local\\Programs\\Python\\Python313\\Lib\n",
      "c:\\Users\\a\\AppData\\Local\\Programs\\Python\\Python313\n",
      "\n",
      "C:\\Users\\a\\AppData\\Roaming\\Python\\Python313\\site-packages\n",
      "C:\\Users\\a\\AppData\\Roaming\\Python\\Python313\\site-packages\\win32\n",
      "C:\\Users\\a\\AppData\\Roaming\\Python\\Python313\\site-packages\\win32\\lib\n",
      "C:\\Users\\a\\AppData\\Roaming\\Python\\Python313\\site-packages\\Pythonwin\n",
      "c:\\Users\\a\\AppData\\Local\\Programs\\Python\\Python313\\Lib\\site-packages\n"
     ]
    }
   ],
   "source": [
    "# to view the Built in Modules\n",
    "import sys\n",
    "for i in sys.path:\n",
    "  print(i)\n",
    "# Third path Provides you the all Moduls files\n",
    "# "
   ]
  },
  {
   "cell_type": "code",
   "execution_count": 11,
   "id": "a811ff11",
   "metadata": {},
   "outputs": [
    {
     "name": "stdout",
     "output_type": "stream",
     "text": [
      "120\n",
      "13\n"
     ]
    }
   ],
   "source": [
    "# importing specific functions or classes from modules\n",
    "from math import factorial,floor\n",
    "\n",
    "print(factorial(5))\n",
    "print(floor(13.2))"
   ]
  },
  {
   "cell_type": "code",
   "execution_count": 12,
   "id": "a8001737",
   "metadata": {},
   "outputs": [
    {
     "data": {
      "text/plain": [
       "120"
      ]
     },
     "execution_count": 12,
     "metadata": {},
     "output_type": "execute_result"
    }
   ],
   "source": [
    "# renaming modules\n",
    "import math as n\n",
    "n.factorial(5)"
   ]
  },
  {
   "cell_type": "code",
   "execution_count": 13,
   "id": "892324df",
   "metadata": {},
   "outputs": [
    {
     "name": "stdout",
     "output_type": "stream",
     "text": [
      "120\n"
     ]
    }
   ],
   "source": [
    "# specific function or class rename\n",
    "\n",
    "from math import factorial as fact\n",
    "print(fact(5))"
   ]
  },
  {
   "cell_type": "code",
   "execution_count": null,
   "id": "2959a695",
   "metadata": {},
   "outputs": [
    {
     "name": "stdout",
     "output_type": "stream",
     "text": [
      "c:\\Users\\a\\AppData\\Local\\Programs\\Python\\Python313\\python313.zip\n",
      "c:\\Users\\a\\AppData\\Local\\Programs\\Python\\Python313\\DLLs\n",
      "c:\\Users\\a\\AppData\\Local\\Programs\\Python\\Python313\\Lib\n",
      "c:\\Users\\a\\AppData\\Local\\Programs\\Python\\Python313\n",
      "\n",
      "C:\\Users\\a\\AppData\\Roaming\\Python\\Python313\\site-packages\n",
      "C:\\Users\\a\\AppData\\Roaming\\Python\\Python313\\site-packages\\win32\n",
      "C:\\Users\\a\\AppData\\Roaming\\Python\\Python313\\site-packages\\win32\\lib\n",
      "C:\\Users\\a\\AppData\\Roaming\\Python\\Python313\\site-packages\\Pythonwin\n",
      "c:\\Users\\a\\AppData\\Local\\Programs\\Python\\Python313\\Lib\\site-packages\n"
     ]
    }
   ],
   "source": [
    "# order of execution of module\n",
    "\n",
    "import sys\n",
    "for i in sys.path:\n",
    "    print(i)\n",
    "\n",
    "# it means in this order interpreter find the modules "
   ]
  },
  {
   "cell_type": "markdown",
   "id": "f8034069",
   "metadata": {},
   "source": [
    "__Q4. What are The Packages in python?__"
   ]
  },
  {
   "cell_type": "markdown",
   "id": "2ea606f6",
   "metadata": {},
   "source": [
    "A package in python is a directory containing similar sub packages and modules.\n",
    "- A particular direcotry is treated a package if it has (__ init __.py) file in it.\n",
    "- The __ init__.py file may be empty or contains some initlization code relateed to the package"
   ]
  },
  {
   "cell_type": "markdown",
   "id": "8ecda090",
   "metadata": {},
   "source": [
    "__we have done this on Project of 2D Cordinate Gerometry on day 14 or OOPs project section 4th project WHile creating the app.py__\n",
    "\n",
    "__[Click_this](../../OOPS/OOPSPROJECT/BASICLEVEL/4Coordinat_Geometry_Project/GUIBASEDVERSION/GUI/app.py)__"
   ]
  },
  {
   "cell_type": "markdown",
   "id": "d7b77520",
   "metadata": {},
   "source": [
    "__What are 3rd Party Packages?__\n",
    "- The Python community creates packages and makes them available for other programmers.\n",
    "\n",
    "Website ::\n",
    "\n",
    "PyPI → Python Package Index (a repository of Python packages).\n",
    "\n",
    "We can upload our own package to PyPI.\n",
    "\n",
    "we can also install packages from PyPI using the __pip command__.\n",
    "\n",
    "pip is a package manager utility used to install, upgrade, and manage Python packages.\n",
    "\n",
    "It is automatically installed with Python (version 3.4+)."
   ]
  }
 ],
 "metadata": {
  "kernelspec": {
   "display_name": "Python 3",
   "language": "python",
   "name": "python3"
  },
  "language_info": {
   "codemirror_mode": {
    "name": "ipython",
    "version": 3
   },
   "file_extension": ".py",
   "mimetype": "text/x-python",
   "name": "python",
   "nbconvert_exporter": "python",
   "pygments_lexer": "ipython3",
   "version": "3.13.5"
  }
 },
 "nbformat": 4,
 "nbformat_minor": 5
}
