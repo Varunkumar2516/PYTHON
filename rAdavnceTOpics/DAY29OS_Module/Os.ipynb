{
 "cells": [
  {
   "cell_type": "code",
   "execution_count": 1,
   "id": "4cee9e21",
   "metadata": {},
   "outputs": [],
   "source": [
    "import os"
   ]
  },
  {
   "cell_type": "code",
   "execution_count": 2,
   "id": "6c4838c5",
   "metadata": {},
   "outputs": [
    {
     "name": "stdout",
     "output_type": "stream",
     "text": [
      "c:\\Users\\a\\Desktop\\PYTHON\\rAdavnceTOpics\\DAY29OS_Module\n"
     ]
    }
   ],
   "source": [
    "# Current Working Directory\n",
    "print(os.getcwd())"
   ]
  },
  {
   "cell_type": "code",
   "execution_count": 3,
   "id": "ebbb4d4a",
   "metadata": {},
   "outputs": [
    {
     "name": "stdout",
     "output_type": "stream",
     "text": [
      "c:\\Users\\a\\Desktop\\PYTHON\\rAdavnceTOpics\\DAY24\n"
     ]
    }
   ],
   "source": [
    "# Change Working Directory\n",
    "os.chdir('c:/Users/a/Desktop/PYTHON/rAdavnceTOpics/DAY24')\n",
    "print(os.getcwd())"
   ]
  },
  {
   "cell_type": "code",
   "execution_count": 4,
   "id": "6bdc0e06",
   "metadata": {},
   "outputs": [
    {
     "data": {
      "text/plain": [
       "'c:\\\\Users\\\\a\\\\Desktop\\\\PYTHON\\\\rAdavnceTOpics\\\\DAY29OS_Module'"
      ]
     },
     "execution_count": 4,
     "metadata": {},
     "output_type": "execute_result"
    }
   ],
   "source": [
    "# changing back to same directory\n",
    "os.chdir('c:/Users/a/Desktop/PYTHON/rAdavnceTOpics/DAY29OS_Module')\n",
    "os.getcwd()"
   ]
  },
  {
   "cell_type": "code",
   "execution_count": 5,
   "id": "5b19dadb",
   "metadata": {},
   "outputs": [
    {
     "name": "stdout",
     "output_type": "stream",
     "text": [
      "['new.txt', 'Os.ipynb']\n"
     ]
    }
   ],
   "source": [
    "#2 Directory Operations\n",
    "# List files and directories\n",
    "print(os.listdir())\n",
    "\n"
   ]
  },
  {
   "cell_type": "code",
   "execution_count": 6,
   "id": "44d1d07a",
   "metadata": {},
   "outputs": [],
   "source": [
    "\n",
    "# # Create a directory\n",
    "os.mkdir('new_folder')"
   ]
  },
  {
   "cell_type": "code",
   "execution_count": 7,
   "id": "5e265099",
   "metadata": {},
   "outputs": [],
   "source": [
    "\n",
    "# Remove a directory\n",
    "os.rmdir('new_folder')  # Only if it's empty"
   ]
  },
  {
   "cell_type": "code",
   "execution_count": 8,
   "id": "9fdf3af3",
   "metadata": {},
   "outputs": [],
   "source": [
    "\n",
    "# Create nested directories\n",
    "os.makedirs('folder/folder2')"
   ]
  },
  {
   "cell_type": "code",
   "execution_count": 9,
   "id": "0bf476d1",
   "metadata": {},
   "outputs": [],
   "source": [
    "# Remove nested directories\n",
    "os.removedirs('folder/folder2')"
   ]
  },
  {
   "cell_type": "code",
   "execution_count": null,
   "id": "946c020c",
   "metadata": {},
   "outputs": [
    {
     "name": "stdout",
     "output_type": "stream",
     "text": [
      "c:\\Users\\a\\Desktop\\PYTHON\\rAdavnceTOpics\\DAY29OS_Module\n",
      "['Os.ipynb']\n"
     ]
    },
    {
     "ename": "FileNotFoundError",
     "evalue": "[WinError 2] The system cannot find the file specified: 'old.txt' -> 'new.txt'",
     "output_type": "error",
     "traceback": [
      "\u001b[31m---------------------------------------------------------------------------\u001b[39m",
      "\u001b[31mFileNotFoundError\u001b[39m                         Traceback (most recent call last)",
      "\u001b[36mCell\u001b[39m\u001b[36m \u001b[39m\u001b[32mIn[25]\u001b[39m\u001b[32m, line 5\u001b[39m\n\u001b[32m      3\u001b[39m \u001b[38;5;28mprint\u001b[39m(os.getcwd())\n\u001b[32m      4\u001b[39m \u001b[38;5;28mprint\u001b[39m(os.listdir())\n\u001b[32m----> \u001b[39m\u001b[32m5\u001b[39m \u001b[43mos\u001b[49m\u001b[43m.\u001b[49m\u001b[43mrename\u001b[49m\u001b[43m(\u001b[49m\u001b[33;43m'\u001b[39;49m\u001b[33;43mold.txt\u001b[39;49m\u001b[33;43m'\u001b[39;49m\u001b[43m,\u001b[49m\u001b[43m \u001b[49m\u001b[33;43m'\u001b[39;49m\u001b[33;43mnew.txt\u001b[39;49m\u001b[33;43m'\u001b[39;49m\u001b[43m)\u001b[49m\n\u001b[32m      7\u001b[39m \u001b[38;5;66;03m# Remove a file\u001b[39;00m\n\u001b[32m      8\u001b[39m os.remove(\u001b[33m'\u001b[39m\u001b[33mnew.txt\u001b[39m\u001b[33m'\u001b[39m)\n",
      "\u001b[31mFileNotFoundError\u001b[39m: [WinError 2] The system cannot find the file specified: 'old.txt' -> 'new.txt'"
     ]
    }
   ],
   "source": [
    "# File operations\n",
    "# Rename a file\n",
    "print(os.getcwd())\n",
    "print(os.listdir())\n",
    "with open(\"old.txt\",'w') as F:\n",
    "    F.write(\"Originial file\")\n",
    "    \n",
    "os.rename('old.txt', 'new.txt')\n",
    "\n",
    "# Remove a file\n",
    "os.remove('new.txt')\n"
   ]
  },
  {
   "cell_type": "code",
   "execution_count": null,
   "id": "1f49f374",
   "metadata": {},
   "outputs": [
    {
     "name": "stdout",
     "output_type": "stream",
     "text": [
      "None\n"
     ]
    }
   ],
   "source": [
    "# Get environment variable\n",
    "print(os.environ.get('HOME'))\n",
    "\n",
    "# Set environment variable (only for current session)\n",
    "os.environ['MY_VAR'] = 'some_value'"
   ]
  },
  {
   "cell_type": "code",
   "execution_count": null,
   "id": "14e791dc",
   "metadata": {},
   "outputs": [
    {
     "name": "stdout",
     "output_type": "stream",
     "text": [
      " Volume in drive C has no label.\n",
      " Volume Serial Number is 3A73-877D\n",
      "\n",
      " Directory of c:\\Users\\a\\Desktop\\PYTHON\\rAdavnceTOpics\\DAY29OS_Module\n",
      "\n",
      "07/12/2025  11:44 PM    <DIR>          .\n",
      "07/12/2025  11:44 PM    <DIR>          ..\n",
      "07/12/2025  11:44 PM                 0 new.txt\n",
      "07/12/2025  11:46 PM             4,091 Os.ipynb\n",
      "               2 File(s)          4,091 bytes\n",
      "               2 Dir(s)  71,303,385,088 bytes free\n"
     ]
    }
   ],
   "source": [
    "ls"
   ]
  }
 ],
 "metadata": {
  "kernelspec": {
   "display_name": "Python 3",
   "language": "python",
   "name": "python3"
  },
  "language_info": {
   "codemirror_mode": {
    "name": "ipython",
    "version": 3
   },
   "file_extension": ".py",
   "mimetype": "text/x-python",
   "name": "python",
   "nbconvert_exporter": "python",
   "pygments_lexer": "ipython3",
   "version": "3.13.5"
  }
 },
 "nbformat": 4,
 "nbformat_minor": 5
}
