{
 "cells": [
  {
   "cell_type": "markdown",
   "id": "09dc8572",
   "metadata": {},
   "source": [
    "OS_Module:\n",
    "- The os module in Python provides a way of using operating system-dependent functionality like reading or writing to the file system, handling directories, environment variables, and more.\n",
    "\n"
   ]
  },
  {
   "cell_type": "code",
   "execution_count": 2,
   "id": "4cee9e21",
   "metadata": {},
   "outputs": [],
   "source": [
    "import os"
   ]
  },
  {
   "cell_type": "code",
   "execution_count": 54,
   "id": "6c4838c5",
   "metadata": {},
   "outputs": [
    {
     "name": "stdout",
     "output_type": "stream",
     "text": [
      "c:\\Users\\a\\Documents\\GitHub\\Python-DataAnalysis-Lib\\PYTHON\\rAdavnceTOpics\\DAY29OS_Module\n"
     ]
    }
   ],
   "source": [
    "# Current Working Directory\n",
    "print(os.getcwd())\n"
   ]
  },
  {
   "cell_type": "code",
   "execution_count": 19,
   "id": "ebbb4d4a",
   "metadata": {},
   "outputs": [
    {
     "name": "stdout",
     "output_type": "stream",
     "text": [
      "c:\\Users\\a\\Desktop\\PYTHON\\rAdavnceTOpics\\DAY24\n"
     ]
    }
   ],
   "source": [
    "# Change Working Directory\n",
    "os.chdir('c:/Users/a/Desktop/PYTHON/rAdavnceTOpics/DAY24')\n",
    "print(os.getcwd())"
   ]
  },
  {
   "cell_type": "code",
   "execution_count": 20,
   "id": "6bdc0e06",
   "metadata": {},
   "outputs": [
    {
     "data": {
      "text/plain": [
       "'c:\\\\Users\\\\a\\\\Desktop\\\\PYTHON\\\\rAdavnceTOpics\\\\DAY29OS_Module'"
      ]
     },
     "execution_count": 20,
     "metadata": {},
     "output_type": "execute_result"
    }
   ],
   "source": [
    "# changing back to same directory\n",
    "os.chdir('c:/Users/a/Desktop/PYTHON/rAdavnceTOpics/DAY29OS_Module')\n",
    "os.getcwd()"
   ]
  },
  {
   "cell_type": "markdown",
   "id": "8e35b298",
   "metadata": {},
   "source": [
    "# 1. Directory Operations"
   ]
  },
  {
   "cell_type": "code",
   "execution_count": 39,
   "id": "5b19dadb",
   "metadata": {},
   "outputs": [
    {
     "name": "stdout",
     "output_type": "stream",
     "text": [
      "c:\\Users\\a\\Documents\\GitHub\\Python-DataAnalysis-Lib\\PYTHON\\rAdavnceTOpics\\DAY29OS_Module\n",
      "['CheckingFOlder', 'folder', 'Os.ipynb', 'PdfForamt.pdf']\n",
      "['NestedFolder']\n",
      "CheckingFOlder\n",
      "folder\n",
      "Os.ipynb\n",
      "PdfForamt.pdf\n"
     ]
    }
   ],
   "source": [
    "\n",
    "# List files and directories\n",
    "print(os.getcwd())\n",
    "print(os.listdir())\n",
    "\n",
    "# Inside the folder \n",
    "print(os.listdir('CheckingFOlder'))\n",
    "\n",
    "#USING FOR lOOP\n",
    "for i in os.listdir():\n",
    "    print(i)\n"
   ]
  },
  {
   "cell_type": "code",
   "execution_count": 23,
   "id": "44d1d07a",
   "metadata": {},
   "outputs": [],
   "source": [
    "# # Create a directory\n",
    "os.mkdir('new_folder')"
   ]
  },
  {
   "cell_type": "code",
   "execution_count": 24,
   "id": "5e265099",
   "metadata": {},
   "outputs": [],
   "source": [
    "# Remove a directory\n",
    "os.rmdir('new_folder')  # Only if it's empty"
   ]
  },
  {
   "cell_type": "code",
   "execution_count": 33,
   "id": "9fdf3af3",
   "metadata": {},
   "outputs": [],
   "source": [
    "# Create nested directories\n",
    "os.makedirs('folder/folder2')\n",
    "\n"
   ]
  },
  {
   "cell_type": "code",
   "execution_count": 32,
   "id": "0bf476d1",
   "metadata": {},
   "outputs": [],
   "source": [
    "# Remove nested directories\n",
    "os.removedirs('folder/folder2')"
   ]
  },
  {
   "cell_type": "markdown",
   "id": "a2574b95",
   "metadata": {},
   "source": [
    "# 2. File operations"
   ]
  },
  {
   "cell_type": "code",
   "execution_count": null,
   "id": "946c020c",
   "metadata": {},
   "outputs": [
    {
     "name": "stdout",
     "output_type": "stream",
     "text": [
      "['Os.ipynb', 'Python_OS_Module_Day29.pdf']\n"
     ]
    },
    {
     "data": {
      "text/plain": [
       "['new.txt', 'Os.ipynb', 'Python_OS_Module_Day29.pdf']"
      ]
     },
     "execution_count": 11,
     "metadata": {},
     "output_type": "execute_result"
    }
   ],
   "source": [
    "\n",
    "# 1 Rename a file\n",
    "\n",
    " \n",
    "# list all the Directories and files\n",
    "print(os.listdir())\n",
    "\n",
    "with open(\"old.txt\",'w') as F:\n",
    "    F.write(\"Originial file\")\n",
    "\n",
    "os.rename('old.txt', 'new.txt')\n",
    "\n",
    "os.listdir()\n"
   ]
  },
  {
   "cell_type": "code",
   "execution_count": 12,
   "id": "6fe23b23",
   "metadata": {},
   "outputs": [],
   "source": [
    "# Remove a file\n",
    "os.remove(\"new.txt\")\n"
   ]
  },
  {
   "cell_type": "markdown",
   "id": "b119f7d2",
   "metadata": {},
   "source": [
    "# 3. os.path FUnctions"
   ]
  },
  {
   "cell_type": "code",
   "execution_count": 28,
   "id": "8dbabadc",
   "metadata": {},
   "outputs": [
    {
     "name": "stdout",
     "output_type": "stream",
     "text": [
      "file.txt\n",
      "folder/folder2\n",
      "True\n",
      "True\n",
      "False\n",
      "('folder/folder2/file', '.txt')\n",
      "c:\\Users\\a\\Documents\\GitHub\\Python-DataAnalysis-Lib\\PYTHON\\rAdavnceTOpics\\DAY29OS_Module\\file.txt\n",
      "folder\\subfolder\\file.txt\n",
      "0\n",
      "True\n",
      "Last Modified Time As TimeStamp 1752507351.0997186\n",
      "Mon Jul 14 21:05:51 2025\n",
      "Mon Jul 14 21:05:51 2025\n"
     ]
    }
   ],
   "source": [
    "import os,datetime\n",
    "import time\n",
    "path = \"folder/folder2/file.txt\"\n",
    "\n",
    "#basename() gives you just the file name.\n",
    "#dirname() gives you the folder path.\n",
    "print(os.path.basename(path))  # file.txt\n",
    "print(os.path.dirname(path))   # folder/folder2\n",
    "\n",
    "\n",
    "#Checks if a path exists.\n",
    "print(os.path.exists(path))    # True/False\n",
    "\n",
    "#Check if the path is a file or a directory.\n",
    "print(os.path.isfile(path))    # True/False\n",
    "print(os.path.isdir(path))     # True/False\n",
    "\n",
    "#Splits the file name and its extension.\n",
    "print(os.path.splitext(path))  # ('/home/user/file', '.txt')\n",
    "\n",
    "#Returns the absolute path of the given path.\n",
    "print(os.path.abspath(\"file.txt\"))\n",
    "\n",
    "#Joins two or more pathname components \\\n",
    "print(os.path.join(\"folder\", \"subfolder\", \"file.txt\"))\n",
    "# Output: folder/subfolder/file.txt \n",
    "\n",
    "#Returns the size of the file in bytes.\n",
    "print(os.path.getsize(\"CheckingFOlder\")) # size of our file\n",
    "\n",
    "\n",
    "#Checks if two paths refer to the same file.\n",
    "print(os.path.samefile(\"a.txt\", \"./a.txt\"))  # True\n",
    "\n",
    "x=os.path.getmtime(path)\n",
    "print(\"Last Modified Time As TimeStamp\",x)\n",
    "# change that into human readable time\n",
    "obj=time.ctime(x)\n",
    "print(obj)\n",
    "myobj=datetime.datetime.fromtimestamp(x).strftime(\"%c\")\n",
    "print(myobj)"
   ]
  },
  {
   "cell_type": "markdown",
   "id": "d22ea966",
   "metadata": {},
   "source": [
    " __Task: File and Directory Analyzer__\n",
    "\n",
    "Create a Python script that takes a directory path as input, analyzes all the files within it (non-recursively), and outputs the following information for each file:\n",
    "\n",
    "\n",
    "1.Check if the given path exists and is a directory.\n",
    "\n",
    "Use: os.path.exists(), os.path.isdir()\n",
    "\n",
    "2.List all entries in the directory.\n",
    "\n",
    "Use: os.listdir()\n",
    "\n",
    "- For each entry:\n",
    "Check if it is a file.\n",
    "Use: os.path.isfile()\n",
    "\n",
    "- Print the following details:\n",
    "\n",
    "1.Absolute path → os.path.abspath()\n",
    "\n",
    "2.File size in bytes → os.path.getsize()\n",
    "\n",
    "3.File name and extension → os.path.splitext()\n",
    "\n",
    "4.Relative path from the current directory → os.path.relpath()\n",
    "\n",
    "5.Use os.path.join() to construct full paths.\n",
    "\n"
   ]
  },
  {
   "cell_type": "code",
   "execution_count": null,
   "id": "20c6f040",
   "metadata": {},
   "outputs": [
    {
     "name": "stdout",
     "output_type": "stream",
     "text": [
      "\tValid Path\n",
      "\n",
      "Directory Path\n",
      "\t\t:Nested Content: ['checking.img', 'Hello.txt', 'myfile.py', 'NestedFolder']\n",
      "\n",
      "\tFile : checking.img\n",
      "\t1.Absolute Path c:\\Users\\a\\Documents\\GitHub\\Python-DataAnalysis-Lib\\PYTHON\\rAdavnceTOpics\\DAY29OS_Module\\CheckingFOlder\\checking.img\n",
      "\t2.Size of file  0\n",
      "\t3. Filename checking\n",
      "\t  FileExtension .img\n",
      "\t4.Relative Path  CheckingFOlder\\checking.img\n",
      "\t5. Last Modified Time Mon Jul 14 21:18:10 2025\n",
      "\n",
      "\tFile : Hello.txt\n",
      "\t1.Absolute Path c:\\Users\\a\\Documents\\GitHub\\Python-DataAnalysis-Lib\\PYTHON\\rAdavnceTOpics\\DAY29OS_Module\\CheckingFOlder\\Hello.txt\n",
      "\t2.Size of file  0\n",
      "\t3. Filename Hello\n",
      "\t  FileExtension .txt\n",
      "\t4.Relative Path  CheckingFOlder\\Hello.txt\n",
      "\t5. Last Modified Time Mon Jul 14 21:17:58 2025\n",
      "\n",
      "\tFile : myfile.py\n",
      "\t1.Absolute Path c:\\Users\\a\\Documents\\GitHub\\Python-DataAnalysis-Lib\\PYTHON\\rAdavnceTOpics\\DAY29OS_Module\\CheckingFOlder\\myfile.py\n",
      "\t2.Size of file  14\n",
      "\t3. Filename myfile\n",
      "\t  FileExtension .py\n",
      "\t4.Relative Path  CheckingFOlder\\myfile.py\n",
      "\t5. Last Modified Time Mon Jul 14 21:18:25 2025\n",
      "\n",
      "\tDirectory : NestedFolder\n",
      "\t\t:Nested Content: ['ABC', 'system']\n",
      "\n",
      "\tDirectory : ABC\n",
      "\t\t:Nested Content: ['Function']\n",
      "\n",
      "\tDirectory : Function\n",
      "\t\t:Nested Content: []\n",
      "\n",
      "\tDirectory : system\n",
      "\t\t:Nested Content: []\n"
     ]
    }
   ],
   "source": [
    "import os\n",
    "\n",
    "Path=input(\"Enter the Directory Path :\")\n",
    "def checkdirectory(path):\n",
    "    try:\n",
    "        mylist=os.listdir(path)\n",
    "    except PermissionError:\n",
    "        print(\"Permission Denied\")\n",
    "        return\n",
    "    print(\"\\tNested Content:\",mylist)\n",
    "    for i in mylist:\n",
    "        full_path=os.path.join(path,i)\n",
    "        if os.path.isfile(full_path):\n",
    "         print(\"\\n\\tFile :\",i)\n",
    "            \n",
    "         print(\"\\t1.Absolute Path\",os.path.abspath(full_path))\n",
    "         print(\"\\t2.Size of file \",os.path.getsize(full_path))\n",
    "         print(f\"\\t3. Filename {os.path.splitext(i)[0]}\\n\\t  FileExtension {os.path.splitext(i)[1]}\")\n",
    "         print(\"\\t4.Relative Path \",os.path.relpath(full_path))\n",
    "         x=os.path.getmtime(full_path)\n",
    "         print(\"\\t5. Last Modified Time\",time.ctime(x))\n",
    "        else:\n",
    "            print(\"\\n\\tDirectory :\",i)  \n",
    "            checkdirectory(full_path)\n",
    "\n",
    "\n",
    "if os.path.exists(Path):\n",
    "    print(\"\\tValid Path\\n\")\n",
    "    # Check if the Path COntains the FIles or not\n",
    "    if os.path.isdir(Path):\n",
    "       print(\"Directory Path\")\n",
    "       checkdirectory(Path)\n",
    "    else:\n",
    "        print(\"File Path\")\n",
    "\n",
    "else:\n",
    "    print(\"Not A Valid Path\")"
   ]
  },
  {
   "cell_type": "code",
   "execution_count": null,
   "id": "6c808761",
   "metadata": {},
   "outputs": [],
   "source": [
    "# Bulk Directories Creation \n",
    "# let us suppose we haveto create the 1000 directories \n",
    "# by manually its very hard , We can use the Python codes to make things easy using os module\n",
    "\n",
    "os.mkdir(\"text\")\n",
    "# create 1000 folders in  Text folder \n",
    "for i in range(0,1000):\n",
    "    os.mkdir(f\"Text/myfolder{i+1}\")\n"
   ]
  },
  {
   "cell_type": "code",
   "execution_count": 57,
   "id": "ddf5d586",
   "metadata": {},
   "outputs": [],
   "source": [
    "# hierarchical Bulk Directories Creation\n",
    "# like \n",
    "\"\"\"\n",
    "Text 1\n",
    "    ->Folder 1\n",
    "    ->Folder 2\n",
    "    ->Folder 3\n",
    "Text 2\n",
    "    ->Folder 1\n",
    "    ->Folder 2\n",
    "    ->Folder 3\n",
    "Text 3\n",
    "    ->Folder 1\n",
    "    ->Folder 2\n",
    "    ->Folder 3\n",
    "\"\"\"\n",
    "# write the Program to acheive this structure of folders\n",
    "os.mkdir(\"Master\")\n",
    "for i in range(3):\n",
    "    path=f\"Master/Text {i+1}\"\n",
    "    os.mkdir(path)\n",
    "    for j in range(3):\n",
    "        path1=f\"Master/Text {i+1}/Folder{j+1}\"\n",
    "        os.makedirs(path1)\n",
    "\n",
    "\n"
   ]
  }
 ],
 "metadata": {
  "kernelspec": {
   "display_name": "Python 3",
   "language": "python",
   "name": "python3"
  },
  "language_info": {
   "codemirror_mode": {
    "name": "ipython",
    "version": 3
   },
   "file_extension": ".py",
   "mimetype": "text/x-python",
   "name": "python",
   "nbconvert_exporter": "python",
   "pygments_lexer": "ipython3",
   "version": "3.13.5"
  }
 },
 "nbformat": 4,
 "nbformat_minor": 5
}
