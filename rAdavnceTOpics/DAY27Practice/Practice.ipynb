{
  "cells": [
    {
      "cell_type": "markdown",
      "metadata": {
        "id": "hM8V4LxHKV6x"
      },
      "source": [
        "## Namespace and Scope"
      ]
    },
    {
      "cell_type": "markdown",
      "metadata": {
        "id": "Kl3s2TonKYgY"
      },
      "source": [
        "###`Q1:` Write `Person` Class as given below and then display it's namespace.\n",
        "\n"
      ]
    },
    {
      "cell_type": "markdown",
      "metadata": {
        "id": "grudG97hL83C"
      },
      "source": [
        "```\n",
        "Class Name - Person\n",
        "\n",
        "Attributes:\n",
        "name - public\n",
        "state - public\n",
        "city - private\n",
        "age - private\n",
        "\n",
        "Methods:\n",
        "address - public\n",
        "It give address of the person as \"<name>, <city>, <state>\"\n",
        "```"
      ]
    },
    {
      "cell_type": "code",
      "execution_count": null,
      "metadata": {
        "id": "BRq-I4jmKX0U"
      },
      "outputs": [],
      "source": [
        "#Write your code here\n",
        "class Person:\n",
        "    def __init__(self,name,state,city,age):\n",
        "        self.name=name\n",
        "        self.state=state\n",
        "        self.__city=city\n",
        "        self.__age=age\n",
        "        self.locals=locals()\n",
        "    \n",
        "    def address(self):\n",
        "        return f\"<{self.name}> ,<{self.getCity() } > ,<{self.state}>\"\n",
        "    def getCity(self):\n",
        "        return self.__city\n",
        "    def getAge(self):\n",
        "        return self.__age\n",
        "    \n",
        "    # this method is usefull to print the Namespace of Object \n",
        "    def getNamespace(self):\n",
        "        for i in self.locals.items():\n",
        "            print(i)\n"
      ]
    },
    {
      "cell_type": "code",
      "execution_count": 17,
      "metadata": {
        "id": "8XD7YgT-L_ZU"
      },
      "outputs": [
        {
          "name": "stdout",
          "output_type": "stream",
          "text": [
            "__module__\n",
            "__firstlineno__\n",
            "__init__\n",
            "address\n",
            "getCity\n",
            "getAge\n",
            "getNamespace\n",
            "__static_attributes__\n",
            "__dict__\n",
            "__weakref__\n",
            "__doc__\n"
          ]
        }
      ],
      "source": [
        "\n",
        "# to view the Person CLass Namespace \n",
        "# we can use the __dict__ \n",
        "for i in Person.__dict__:\n",
        "    print(i)\n"
      ]
    },
    {
      "cell_type": "markdown",
      "metadata": {
        "id": "NLtOPOXDL_zB"
      },
      "source": [
        "###`Q2:` Write a program to show namespace of object/instance of above(Person) class."
      ]
    },
    {
      "cell_type": "code",
      "execution_count": 27,
      "metadata": {
        "id": "w3fj9tf0MJ3Z"
      },
      "outputs": [
        {
          "name": "stdout",
          "output_type": "stream",
          "text": [
            "<arun> ,<Jalandhar > ,<Punjab>\n",
            "All Namespace\n",
            "('self', <__main__.Person object at 0x00000209D984FD50>)\n",
            "('name', 'arun')\n",
            "('state', 'Punjab')\n",
            "('city', 'Jalandhar')\n",
            "('age', 18)\n",
            "None\n",
            "\n",
            "\n",
            " Using Locals\n",
            "{'self': <__main__.Person object at 0x00000209D984FD50>, 'name': 'arun', 'state': 'Punjab', 'city': 'Jalandhar', 'age': 18}\n",
            "self : <__main__.Person object at 0x00000209D984FD50>\n",
            "name : arun\n",
            "state : Punjab\n",
            "city : Jalandhar\n",
            "age : 18\n",
            "\n",
            "\n",
            " Using __dict__\n",
            "('name', 'arun')\n",
            "('state', 'Punjab')\n",
            "('_Person__city', 'Jalandhar')\n",
            "('_Person__age', 18)\n",
            "('locals', {'self': <__main__.Person object at 0x00000209D984FD50>, 'name': 'arun', 'state': 'Punjab', 'city': 'Jalandhar', 'age': 18})\n"
          ]
        }
      ],
      "source": [
        "# Write your code here\n",
        "obj=Person(\"arun\",\"Punjab\",\"Jalandhar\",18)\n",
        "\n",
        "print(obj.address())\n",
        "\n",
        "#using the method defined in class\n",
        "print(\"All Namespace\")\n",
        "print(obj.getNamespace())\n",
        "\n",
        "print(\"\\n\\n Using Locals\") \n",
        "#similarly using the locals\n",
        "A=obj.locals\n",
        "print(A)\n",
        "for i,j in A.items():\n",
        "    print(i,\":\",j)\n",
        "\n",
        "print(\"\\n\\n Using __dict__\") \n",
        "for i in obj.__dict__.items():\n",
        "    print(i)\n",
        "\n",
        "\n"
      ]
    },
    {
      "cell_type": "code",
      "execution_count": 29,
      "metadata": {
        "id": "J2C13ZiuNGP3"
      },
      "outputs": [
        {
          "name": "stdout",
          "output_type": "stream",
          "text": [
            "\n",
            "=== dir(self) ===\n",
            "['__class__', '__delattr__', '__dict__', '__dir__', '__doc__', '__eq__', '__firstlineno__', '__format__', '__ge__', '__getattribute__', '__getstate__', '__gt__', '__hash__', '__init__', '__init_subclass__', '__le__', '__lt__', '__module__', '__ne__', '__new__', '__reduce__', '__reduce_ex__', '__repr__', '__setattr__', '__sizeof__', '__static_attributes__', '__str__', '__subclasshook__', '__weakref__', 'attr1', 'attr2', 'class_var', 'method']\n",
            "\n",
            "=== self.__dir__() ===\n",
            "['attr1', 'attr2', '__module__', '__firstlineno__', 'class_var', '__init__', 'method', '__static_attributes__', '__dict__', '__weakref__', '__doc__', '__new__', '__repr__', '__hash__', '__str__', '__getattribute__', '__setattr__', '__delattr__', '__lt__', '__le__', '__eq__', '__ne__', '__gt__', '__ge__', '__reduce_ex__', '__reduce__', '__getstate__', '__subclasshook__', '__init_subclass__', '__format__', '__sizeof__', '__dir__', '__class__']\n",
            "\n",
            "=== self.__dict__ ===\n",
            "{'attr1': 'hello', 'attr2': 42}\n",
            "\n",
            "=== locals() in method ===\n",
            "{'self': <__main__.MyClass object at 0x00000209D9A22CF0>, 'local_var': 'I am local'}\n",
            "\n",
            "=== globals() in method ===\n",
            "{'__name__': '__main__', '__doc__': '\\nsimple Example that provide all ways to use \\n', '__package__': None, '__loader__': None, '__spec__': None, '__builtin__': <module 'builtins' (built-in)>, '__builtins__': <module 'builtins' (built-in)>, '_ih': ['', '#Write your code here\\nclass Person:\\n    def __init__(self,name,state,city,age):\\n        self.name=name\\n        self.state=state\\n        self.__city=city\\n        self.__age=age\\n        self.locals=locals()\\n\\n    def address(self):\\n        return f\"<{self.name}> ,<{self.getCity() } > ,<{self.state}>\"\\n    def getCity(self):\\n        return self.__city\\n    def getAge(self):\\n        return self.__age\\n    def getNamespace(self):\\n        print(self.locals)\\n        for i in self.locals:\\n            print(i)', '#Write your code here\\nclass Person:\\n    def __init__(self,name,state,city,age):\\n        self.name=name\\n        self.state=state\\n        self.__city=city\\n        self.__age=age\\n        self.locals=locals()\\n\\n    def address(self):\\n        return f\"<{self.name}> ,<{self.getCity() } > ,<{self.state}>\"\\n    def getCity(self):\\n        return self.__city\\n    def getAge(self):\\n        return self.__age\\n\\n\\n    def getNamespace(self):\\n        print(self.locals)\\n        for i in self.locals:\\n            print(i)', '#Write your code here\\nclass Person:\\n    def __init__(self,name,state,city,age):\\n        self.name=name\\n        self.state=state\\n        self.__city=city\\n        self.__age=age\\n        self.locals=locals()\\n\\n    def address(self):\\n        return f\"<{self.name}> ,<{self.getCity() } > ,<{self.state}>\"\\n    def getCity(self):\\n        return self.__city\\n    def getAge(self):\\n        return self.__age\\n\\n\\n    def getNamespace(self):\\n        print(self.locals)\\n        for i in self.locals:\\n            print(i)\\n\\nobj=Person()\\nobj.__dict___()', '#Write your code here\\nclass Person:\\n    def __init__(self,name,state,city,age):\\n        self.name=name\\n        self.state=state\\n        self.__city=city\\n        self.__age=age\\n        self.locals=locals()\\n\\n    def address(self):\\n        return f\"<{self.name}> ,<{self.getCity() } > ,<{self.state}>\"\\n    def getCity(self):\\n        return self.__city\\n    def getAge(self):\\n        return self.__age\\n\\n\\n    def getNamespace(self):\\n        print(self.locals)\\n        for i in self.locals:\\n            print(i)\\n\\nobj=Person\\nobj.__dict___()', '#Write your code here\\nclass Person:\\n    def __init__(self,name,state,city,age):\\n        self.name=name\\n        self.state=state\\n        self.__city=city\\n        self.__age=age\\n        self.locals=locals()\\n\\n    def address(self):\\n        return f\"<{self.name}> ,<{self.getCity() } > ,<{self.state}>\"\\n    def getCity(self):\\n        return self.__city\\n    def getAge(self):\\n        return self.__age\\n\\n\\n    def getNamespace(self):\\n        print(self.locals)\\n        for i in self.locals:\\n            print(i)\\n\\nobj=Person(\"varun\",\"Punjab\",\"Jalandhar\",18)\\nobj.__dict___()', '#Write your code here\\nclass Person:\\n    def __init__(self,name,state,city,age):\\n        self.name=name\\n        self.state=state\\n        self.__city=city\\n        self.__age=age\\n        self.locals=locals()\\n\\n    def address(self):\\n        return f\"<{self.name}> ,<{self.getCity() } > ,<{self.state}>\"\\n    def getCity(self):\\n        return self.__city\\n    def getAge(self):\\n        return self.__age\\n\\n\\n    def getNamespace(self):\\n        print(self.locals)\\n        for i in self.locals:\\n            print(i)\\n\\n# to view the Person CLass Namespace \\n# we can use the __dict__ \\nPerson.__dict__', '#Write your code here\\nclass Person:\\n    def __init__(self,name,state,city,age):\\n        self.name=name\\n        self.state=state\\n        self.__city=city\\n        self.__age=age\\n        self.locals=locals()\\n\\n    def address(self):\\n        return f\"<{self.name}> ,<{self.getCity() } > ,<{self.state}>\"\\n    def getCity(self):\\n        return self.__city\\n    def getAge(self):\\n        return self.__age\\n\\n\\n    def getNamespace(self):\\n        print(self.locals)\\n        for i in self.locals:\\n            print(i)\\n\\n# to view the Person CLass Namespace \\n# we can use the __dict__ \\nfor i in Person.__dict__:\\n    print(i)', '#Write your code here\\nclass Person:\\n    def __init__(self,name,state,city,age):\\n        self.name=name\\n        self.state=state\\n        self.__city=city\\n        self.__age=age\\n        self.locals=locals()\\n\\n    def address(self):\\n        return f\"<{self.name}> ,<{self.getCity() } > ,<{self.state}>\"\\n    def getCity(self):\\n        return self.__city\\n    def getAge(self):\\n        return self.__age\\n\\n\\n    def getNamespace(self):\\n        print(self.locals)\\n        for i in self.locals:\\n            print(i)\\n\\n# to view the Person CLass Namespace \\n# we can use the __dict__ \\nfor i in Person.__dict__:\\n    print(i)\\nobj=Person(\"varun\",\"Punjab\",\"Jalandhar\",18)\\nprint(obj.getNamespace())', '#Write your code here\\nclass Person:\\n    def __init__(self,name,state,city,age):\\n        self.name=name\\n        self.state=state\\n        self.__city=city\\n        self.__age=age\\n        self.locals=locals()\\n\\n    def address(self):\\n        return f\"<{self.name}> ,<{self.getCity() } > ,<{self.state}>\"\\n    def getCity(self):\\n        return self.__city\\n    def getAge(self):\\n        return self.__age\\n\\n\\n    def getNamespace(self):\\n        print(self.locals)\\n        for i in self.locals:\\n            print(i)\\n\\n# to view the Person CLass Namespace \\n# we can use the __dict__ \\nfor i in Person.__dict__:\\n    print(i)', '#Write your code here\\nclass Person:\\n    def __init__(self,name,state,city,age):\\n        self.name=name\\n        self.state=state\\n        self.__city=city\\n        self.__age=age\\n        self.locals=locals()\\n\\n    def address(self):\\n        return f\"<{self.name}> ,<{self.getCity() } > ,<{self.state}>\"\\n    def getCity(self):\\n        return self.__city\\n    def getAge(self):\\n        return self.__age\\n\\n\\n    def getNamespace(self):\\n        print(self.locals)\\n        for i in self.locals:\\n            print(i)', '# to view the Person CLass Namespace \\n# we can use the __dict__ \\nfor i in Person.__dict__:\\n    print(i)', '# Write your code here\\nobj=Person(\"arun\",\"Punjab\",\"Jalandhar\",18)\\n\\nprint(obj.address())\\nprint(\"All Namespace\")\\nprint(obj.getNamespace())', '#Write your code here\\nclass Person:\\n    def __init__(self,name,state,city,age):\\n        self.name=name\\n        self.state=state\\n        self.__city=city\\n        self.__age=age\\n        self.locals=locals()\\n\\n    def address(self):\\n        return f\"<{self.name}> ,<{self.getCity() } > ,<{self.state}>\"\\n    def getCity(self):\\n        return self.__city\\n    def getAge(self):\\n        return self.__age\\n\\n\\n    def getNamespace(self):\\n        for i in self.locals():\\n            print(i)', '# to view the Person CLass Namespace \\n# we can use the __dict__ \\nfor i in Person.__dict__:\\n    print(i)', '# Write your code here\\nobj=Person(\"arun\",\"Punjab\",\"Jalandhar\",18)\\n\\nprint(obj.address())\\nprint(\"All Namespace\")\\nprint(obj.getNamespace())', '#Write your code here\\nclass Person:\\n    def __init__(self,name,state,city,age):\\n        self.name=name\\n        self.state=state\\n        self.__city=city\\n        self.__age=age\\n        self.locals=locals()\\n\\n    def address(self):\\n        return f\"<{self.name}> ,<{self.getCity() } > ,<{self.state}>\"\\n    def getCity(self):\\n        return self.__city\\n    def getAge(self):\\n        return self.__age\\n    def getNamespace(self):\\n        for i in self.locals.items():\\n            print(i)', '# to view the Person CLass Namespace \\n# we can use the __dict__ \\nfor i in Person.__dict__:\\n    print(i)', '# Write your code here\\nobj=Person(\"arun\",\"Punjab\",\"Jalandhar\",18)\\n\\nprint(obj.address())\\nprint(\"All Namespace\")\\nprint(obj.getNamespace())', '# Write your code here\\nobj=Person(\"arun\",\"Punjab\",\"Jalandhar\",18)\\n\\nprint(obj.address())\\n\\nprint(\"All Namespace\")\\nprint(obj.getNamespace())', '# Write your code here\\nobj=Person(\"arun\",\"Punjab\",\"Jalandhar\",18)\\n\\nprint(obj.address())\\n\\nprint(\"All Namespace\")\\nprint(obj.getNamespace())', '# Write your code here\\nobj=Person(\"arun\",\"Punjab\",\"Jalandhar\",18)\\n\\nprint(obj.address())\\n\\n#using the method defined in class\\nprint(\"All Namespace\")\\nprint(obj.getNamespace())\\n\\n# similarly using the locals\\nA=obj.locals()\\nfor i in A:\\n    print(i)', '# Write your code here\\nobj=Person(\"arun\",\"Punjab\",\"Jalandhar\",18)\\n\\nprint(obj.address())\\n\\n#using the method defined in class\\nprint(\"All Namespace\")\\nprint(obj.getNamespace())\\n\\n# similarly using the locals\\nA=obj.locals\\nfor i in A:\\n    print(i)', '# Write your code here\\nobj=Person(\"arun\",\"Punjab\",\"Jalandhar\",18)\\n\\nprint(obj.address())\\n\\n#using the method defined in class\\nprint(\"All Namespace\")\\nprint(obj.getNamespace())\\n\\n# similarly using the locals\\nA=obj.locals\\nprint(A)\\nfor i in A:\\n    print(i)', '# Write your code here\\nobj=Person(\"arun\",\"Punjab\",\"Jalandhar\",18)\\n\\nprint(obj.address())\\n\\n#using the method defined in class\\nprint(\"All Namespace\")\\nprint(obj.getNamespace())\\n\\n# similarly using the locals\\nA=obj.locals\\nprint(A)\\nfor i,j in A.items():\\n    print(i,\":\",j)', '# Write your code here\\nobj=Person(\"arun\",\"Punjab\",\"Jalandhar\",18)\\n\\nprint(obj.address())\\n\\n#using the method defined in class\\nprint(\"All Namespace\")\\nprint(obj.getNamespace())\\n\\nprint(\"\\\\n\\\\n Using Locals\") \\n#similarly using the locals\\nA=obj.locals\\nprint(A)\\nfor i,j in A.items():\\n    print(i,\":\",j)', '# Write your code here\\nobj=Person(\"arun\",\"Punjab\",\"Jalandhar\",18)\\n\\nprint(obj.address())\\n\\n#using the method defined in class\\nprint(\"All Namespace\")\\nprint(obj.getNamespace())\\n\\nprint(\"\\\\n\\\\n Using Locals\") \\n#similarly using the locals\\nA=obj.locals\\nprint(A)\\nfor i,j in A.items():\\n    print(i,\":\",j)\\n\\nprint(\"\\\\n\\\\n Using __dict__\") \\nfor i in obj.__dict__:\\n    print(i)', '# Write your code here\\nobj=Person(\"arun\",\"Punjab\",\"Jalandhar\",18)\\n\\nprint(obj.address())\\n\\n#using the method defined in class\\nprint(\"All Namespace\")\\nprint(obj.getNamespace())\\n\\nprint(\"\\\\n\\\\n Using Locals\") \\n#similarly using the locals\\nA=obj.locals\\nprint(A)\\nfor i,j in A.items():\\n    print(i,\":\",j)\\n\\nprint(\"\\\\n\\\\n Using __dict__\") \\nfor i in obj.__dict__.items():\\n    print(i)', '\"\"\"\\nsimple Example that provide all ways to use \\n\"\"\"\\nx = 100  # Global variable\\n\\nclass MyClass:\\n    class_var = \"class level\"\\n\\n    def __init__(self):\\n        self.attr1 = \"hello\"\\n        self.attr2 = 42\\n\\n    def method(self):\\n        local_var = \"I am local\"\\n\\n        print(\"\\\\n=== dir(self) ===\")\\n        print(dir(self))\\n\\n        print(\"\\\\n=== self.__dir__() ===\")\\n        print(self.__dir__())\\n\\n        print(\"\\\\n=== self.__dict__ ===\")\\n        print(self.__dict__)\\n\\n        print(\"\\\\n=== locals() in method ===\")\\n        print(locals())\\n\\n        print(\"\\\\n=== globals() in method ===\")\\n        print(globals().get(\\'x\\'))\\n\\n# Create instance\\nobj = MyClass()\\nobj.method()\\n\\nprint(\"\\\\n=== obj.__dict__ outside method ===\")\\nprint(obj.__dict__)\\n\\nprint(\"\\\\n=== MyClass.__dict__ (class attributes/methods) ===\")\\nprint(MyClass.__dict__)\\n\\nprint(\"\\\\n=== globals() outside ===\")\\nprint(globals())\\n\\nprint(\"\\\\n=== locals() outside ===\")\\nprint(locals())', '\"\"\"\\nsimple Example that provide all ways to use \\n\"\"\"\\nx = 100  # Global variable\\n\\nclass MyClass:\\n    class_var = \"class level\"\\n\\n    def __init__(self):\\n        self.attr1 = \"hello\"\\n        self.attr2 = 42\\n\\n    def method(self):\\n        local_var = \"I am local\"\\n\\n        print(\"\\\\n=== dir(self) ===\")\\n        print(dir(self))\\n\\n        print(\"\\\\n=== self.__dir__() ===\")\\n        print(self.__dir__())\\n\\n        print(\"\\\\n=== self.__dict__ ===\")\\n        print(self.__dict__)\\n\\n        print(\"\\\\n=== locals() in method ===\")\\n        print(locals())\\n\\n        print(\"\\\\n=== globals() in method ===\")\\n        print(globals())\\n\\n# Create instance\\nobj = MyClass()\\nobj.method()\\n\\nprint(\"\\\\n=== obj.__dict__ outside method ===\")\\nprint(obj.__dict__)\\n\\nprint(\"\\\\n=== MyClass.__dict__ (class attributes/methods) ===\")\\nprint(MyClass.__dict__)\\n\\nprint(\"\\\\n=== globals() outside ===\")\\nprint(globals())\\n\\nprint(\"\\\\n=== locals() outside ===\")\\nprint(locals())'], '_oh': {6: mappingproxy({'__module__': '__main__', '__firstlineno__': 2, '__init__': <function Person.__init__ at 0x00000209DA0585E0>, 'address': <function Person.address at 0x00000209DA0587C0>, 'getCity': <function Person.getCity at 0x00000209DA058680>, 'getAge': <function Person.getAge at 0x00000209DA058D60>, 'getNamespace': <function Person.getNamespace at 0x00000209DA058AE0>, '__static_attributes__': ('__age', '__city', 'locals', 'name', 'state'), '__dict__': <attribute '__dict__' of 'Person' objects>, '__weakref__': <attribute '__weakref__' of 'Person' objects>, '__doc__': None})}, '_dh': [WindowsPath('c:/Users/a/Desktop/PYTHON/rAdavnceTOpics/DAY27Practice')], 'In': ['', '#Write your code here\\nclass Person:\\n    def __init__(self,name,state,city,age):\\n        self.name=name\\n        self.state=state\\n        self.__city=city\\n        self.__age=age\\n        self.locals=locals()\\n\\n    def address(self):\\n        return f\"<{self.name}> ,<{self.getCity() } > ,<{self.state}>\"\\n    def getCity(self):\\n        return self.__city\\n    def getAge(self):\\n        return self.__age\\n    def getNamespace(self):\\n        print(self.locals)\\n        for i in self.locals:\\n            print(i)', '#Write your code here\\nclass Person:\\n    def __init__(self,name,state,city,age):\\n        self.name=name\\n        self.state=state\\n        self.__city=city\\n        self.__age=age\\n        self.locals=locals()\\n\\n    def address(self):\\n        return f\"<{self.name}> ,<{self.getCity() } > ,<{self.state}>\"\\n    def getCity(self):\\n        return self.__city\\n    def getAge(self):\\n        return self.__age\\n\\n\\n    def getNamespace(self):\\n        print(self.locals)\\n        for i in self.locals:\\n            print(i)', '#Write your code here\\nclass Person:\\n    def __init__(self,name,state,city,age):\\n        self.name=name\\n        self.state=state\\n        self.__city=city\\n        self.__age=age\\n        self.locals=locals()\\n\\n    def address(self):\\n        return f\"<{self.name}> ,<{self.getCity() } > ,<{self.state}>\"\\n    def getCity(self):\\n        return self.__city\\n    def getAge(self):\\n        return self.__age\\n\\n\\n    def getNamespace(self):\\n        print(self.locals)\\n        for i in self.locals:\\n            print(i)\\n\\nobj=Person()\\nobj.__dict___()', '#Write your code here\\nclass Person:\\n    def __init__(self,name,state,city,age):\\n        self.name=name\\n        self.state=state\\n        self.__city=city\\n        self.__age=age\\n        self.locals=locals()\\n\\n    def address(self):\\n        return f\"<{self.name}> ,<{self.getCity() } > ,<{self.state}>\"\\n    def getCity(self):\\n        return self.__city\\n    def getAge(self):\\n        return self.__age\\n\\n\\n    def getNamespace(self):\\n        print(self.locals)\\n        for i in self.locals:\\n            print(i)\\n\\nobj=Person\\nobj.__dict___()', '#Write your code here\\nclass Person:\\n    def __init__(self,name,state,city,age):\\n        self.name=name\\n        self.state=state\\n        self.__city=city\\n        self.__age=age\\n        self.locals=locals()\\n\\n    def address(self):\\n        return f\"<{self.name}> ,<{self.getCity() } > ,<{self.state}>\"\\n    def getCity(self):\\n        return self.__city\\n    def getAge(self):\\n        return self.__age\\n\\n\\n    def getNamespace(self):\\n        print(self.locals)\\n        for i in self.locals:\\n            print(i)\\n\\nobj=Person(\"varun\",\"Punjab\",\"Jalandhar\",18)\\nobj.__dict___()', '#Write your code here\\nclass Person:\\n    def __init__(self,name,state,city,age):\\n        self.name=name\\n        self.state=state\\n        self.__city=city\\n        self.__age=age\\n        self.locals=locals()\\n\\n    def address(self):\\n        return f\"<{self.name}> ,<{self.getCity() } > ,<{self.state}>\"\\n    def getCity(self):\\n        return self.__city\\n    def getAge(self):\\n        return self.__age\\n\\n\\n    def getNamespace(self):\\n        print(self.locals)\\n        for i in self.locals:\\n            print(i)\\n\\n# to view the Person CLass Namespace \\n# we can use the __dict__ \\nPerson.__dict__', '#Write your code here\\nclass Person:\\n    def __init__(self,name,state,city,age):\\n        self.name=name\\n        self.state=state\\n        self.__city=city\\n        self.__age=age\\n        self.locals=locals()\\n\\n    def address(self):\\n        return f\"<{self.name}> ,<{self.getCity() } > ,<{self.state}>\"\\n    def getCity(self):\\n        return self.__city\\n    def getAge(self):\\n        return self.__age\\n\\n\\n    def getNamespace(self):\\n        print(self.locals)\\n        for i in self.locals:\\n            print(i)\\n\\n# to view the Person CLass Namespace \\n# we can use the __dict__ \\nfor i in Person.__dict__:\\n    print(i)', '#Write your code here\\nclass Person:\\n    def __init__(self,name,state,city,age):\\n        self.name=name\\n        self.state=state\\n        self.__city=city\\n        self.__age=age\\n        self.locals=locals()\\n\\n    def address(self):\\n        return f\"<{self.name}> ,<{self.getCity() } > ,<{self.state}>\"\\n    def getCity(self):\\n        return self.__city\\n    def getAge(self):\\n        return self.__age\\n\\n\\n    def getNamespace(self):\\n        print(self.locals)\\n        for i in self.locals:\\n            print(i)\\n\\n# to view the Person CLass Namespace \\n# we can use the __dict__ \\nfor i in Person.__dict__:\\n    print(i)\\nobj=Person(\"varun\",\"Punjab\",\"Jalandhar\",18)\\nprint(obj.getNamespace())', '#Write your code here\\nclass Person:\\n    def __init__(self,name,state,city,age):\\n        self.name=name\\n        self.state=state\\n        self.__city=city\\n        self.__age=age\\n        self.locals=locals()\\n\\n    def address(self):\\n        return f\"<{self.name}> ,<{self.getCity() } > ,<{self.state}>\"\\n    def getCity(self):\\n        return self.__city\\n    def getAge(self):\\n        return self.__age\\n\\n\\n    def getNamespace(self):\\n        print(self.locals)\\n        for i in self.locals:\\n            print(i)\\n\\n# to view the Person CLass Namespace \\n# we can use the __dict__ \\nfor i in Person.__dict__:\\n    print(i)', '#Write your code here\\nclass Person:\\n    def __init__(self,name,state,city,age):\\n        self.name=name\\n        self.state=state\\n        self.__city=city\\n        self.__age=age\\n        self.locals=locals()\\n\\n    def address(self):\\n        return f\"<{self.name}> ,<{self.getCity() } > ,<{self.state}>\"\\n    def getCity(self):\\n        return self.__city\\n    def getAge(self):\\n        return self.__age\\n\\n\\n    def getNamespace(self):\\n        print(self.locals)\\n        for i in self.locals:\\n            print(i)', '# to view the Person CLass Namespace \\n# we can use the __dict__ \\nfor i in Person.__dict__:\\n    print(i)', '# Write your code here\\nobj=Person(\"arun\",\"Punjab\",\"Jalandhar\",18)\\n\\nprint(obj.address())\\nprint(\"All Namespace\")\\nprint(obj.getNamespace())', '#Write your code here\\nclass Person:\\n    def __init__(self,name,state,city,age):\\n        self.name=name\\n        self.state=state\\n        self.__city=city\\n        self.__age=age\\n        self.locals=locals()\\n\\n    def address(self):\\n        return f\"<{self.name}> ,<{self.getCity() } > ,<{self.state}>\"\\n    def getCity(self):\\n        return self.__city\\n    def getAge(self):\\n        return self.__age\\n\\n\\n    def getNamespace(self):\\n        for i in self.locals():\\n            print(i)', '# to view the Person CLass Namespace \\n# we can use the __dict__ \\nfor i in Person.__dict__:\\n    print(i)', '# Write your code here\\nobj=Person(\"arun\",\"Punjab\",\"Jalandhar\",18)\\n\\nprint(obj.address())\\nprint(\"All Namespace\")\\nprint(obj.getNamespace())', '#Write your code here\\nclass Person:\\n    def __init__(self,name,state,city,age):\\n        self.name=name\\n        self.state=state\\n        self.__city=city\\n        self.__age=age\\n        self.locals=locals()\\n\\n    def address(self):\\n        return f\"<{self.name}> ,<{self.getCity() } > ,<{self.state}>\"\\n    def getCity(self):\\n        return self.__city\\n    def getAge(self):\\n        return self.__age\\n    def getNamespace(self):\\n        for i in self.locals.items():\\n            print(i)', '# to view the Person CLass Namespace \\n# we can use the __dict__ \\nfor i in Person.__dict__:\\n    print(i)', '# Write your code here\\nobj=Person(\"arun\",\"Punjab\",\"Jalandhar\",18)\\n\\nprint(obj.address())\\nprint(\"All Namespace\")\\nprint(obj.getNamespace())', '# Write your code here\\nobj=Person(\"arun\",\"Punjab\",\"Jalandhar\",18)\\n\\nprint(obj.address())\\n\\nprint(\"All Namespace\")\\nprint(obj.getNamespace())', '# Write your code here\\nobj=Person(\"arun\",\"Punjab\",\"Jalandhar\",18)\\n\\nprint(obj.address())\\n\\nprint(\"All Namespace\")\\nprint(obj.getNamespace())', '# Write your code here\\nobj=Person(\"arun\",\"Punjab\",\"Jalandhar\",18)\\n\\nprint(obj.address())\\n\\n#using the method defined in class\\nprint(\"All Namespace\")\\nprint(obj.getNamespace())\\n\\n# similarly using the locals\\nA=obj.locals()\\nfor i in A:\\n    print(i)', '# Write your code here\\nobj=Person(\"arun\",\"Punjab\",\"Jalandhar\",18)\\n\\nprint(obj.address())\\n\\n#using the method defined in class\\nprint(\"All Namespace\")\\nprint(obj.getNamespace())\\n\\n# similarly using the locals\\nA=obj.locals\\nfor i in A:\\n    print(i)', '# Write your code here\\nobj=Person(\"arun\",\"Punjab\",\"Jalandhar\",18)\\n\\nprint(obj.address())\\n\\n#using the method defined in class\\nprint(\"All Namespace\")\\nprint(obj.getNamespace())\\n\\n# similarly using the locals\\nA=obj.locals\\nprint(A)\\nfor i in A:\\n    print(i)', '# Write your code here\\nobj=Person(\"arun\",\"Punjab\",\"Jalandhar\",18)\\n\\nprint(obj.address())\\n\\n#using the method defined in class\\nprint(\"All Namespace\")\\nprint(obj.getNamespace())\\n\\n# similarly using the locals\\nA=obj.locals\\nprint(A)\\nfor i,j in A.items():\\n    print(i,\":\",j)', '# Write your code here\\nobj=Person(\"arun\",\"Punjab\",\"Jalandhar\",18)\\n\\nprint(obj.address())\\n\\n#using the method defined in class\\nprint(\"All Namespace\")\\nprint(obj.getNamespace())\\n\\nprint(\"\\\\n\\\\n Using Locals\") \\n#similarly using the locals\\nA=obj.locals\\nprint(A)\\nfor i,j in A.items():\\n    print(i,\":\",j)', '# Write your code here\\nobj=Person(\"arun\",\"Punjab\",\"Jalandhar\",18)\\n\\nprint(obj.address())\\n\\n#using the method defined in class\\nprint(\"All Namespace\")\\nprint(obj.getNamespace())\\n\\nprint(\"\\\\n\\\\n Using Locals\") \\n#similarly using the locals\\nA=obj.locals\\nprint(A)\\nfor i,j in A.items():\\n    print(i,\":\",j)\\n\\nprint(\"\\\\n\\\\n Using __dict__\") \\nfor i in obj.__dict__:\\n    print(i)', '# Write your code here\\nobj=Person(\"arun\",\"Punjab\",\"Jalandhar\",18)\\n\\nprint(obj.address())\\n\\n#using the method defined in class\\nprint(\"All Namespace\")\\nprint(obj.getNamespace())\\n\\nprint(\"\\\\n\\\\n Using Locals\") \\n#similarly using the locals\\nA=obj.locals\\nprint(A)\\nfor i,j in A.items():\\n    print(i,\":\",j)\\n\\nprint(\"\\\\n\\\\n Using __dict__\") \\nfor i in obj.__dict__.items():\\n    print(i)', '\"\"\"\\nsimple Example that provide all ways to use \\n\"\"\"\\nx = 100  # Global variable\\n\\nclass MyClass:\\n    class_var = \"class level\"\\n\\n    def __init__(self):\\n        self.attr1 = \"hello\"\\n        self.attr2 = 42\\n\\n    def method(self):\\n        local_var = \"I am local\"\\n\\n        print(\"\\\\n=== dir(self) ===\")\\n        print(dir(self))\\n\\n        print(\"\\\\n=== self.__dir__() ===\")\\n        print(self.__dir__())\\n\\n        print(\"\\\\n=== self.__dict__ ===\")\\n        print(self.__dict__)\\n\\n        print(\"\\\\n=== locals() in method ===\")\\n        print(locals())\\n\\n        print(\"\\\\n=== globals() in method ===\")\\n        print(globals().get(\\'x\\'))\\n\\n# Create instance\\nobj = MyClass()\\nobj.method()\\n\\nprint(\"\\\\n=== obj.__dict__ outside method ===\")\\nprint(obj.__dict__)\\n\\nprint(\"\\\\n=== MyClass.__dict__ (class attributes/methods) ===\")\\nprint(MyClass.__dict__)\\n\\nprint(\"\\\\n=== globals() outside ===\")\\nprint(globals())\\n\\nprint(\"\\\\n=== locals() outside ===\")\\nprint(locals())', '\"\"\"\\nsimple Example that provide all ways to use \\n\"\"\"\\nx = 100  # Global variable\\n\\nclass MyClass:\\n    class_var = \"class level\"\\n\\n    def __init__(self):\\n        self.attr1 = \"hello\"\\n        self.attr2 = 42\\n\\n    def method(self):\\n        local_var = \"I am local\"\\n\\n        print(\"\\\\n=== dir(self) ===\")\\n        print(dir(self))\\n\\n        print(\"\\\\n=== self.__dir__() ===\")\\n        print(self.__dir__())\\n\\n        print(\"\\\\n=== self.__dict__ ===\")\\n        print(self.__dict__)\\n\\n        print(\"\\\\n=== locals() in method ===\")\\n        print(locals())\\n\\n        print(\"\\\\n=== globals() in method ===\")\\n        print(globals())\\n\\n# Create instance\\nobj = MyClass()\\nobj.method()\\n\\nprint(\"\\\\n=== obj.__dict__ outside method ===\")\\nprint(obj.__dict__)\\n\\nprint(\"\\\\n=== MyClass.__dict__ (class attributes/methods) ===\")\\nprint(MyClass.__dict__)\\n\\nprint(\"\\\\n=== globals() outside ===\")\\nprint(globals())\\n\\nprint(\"\\\\n=== locals() outside ===\")\\nprint(locals())'], 'Out': {6: mappingproxy({'__module__': '__main__', '__firstlineno__': 2, '__init__': <function Person.__init__ at 0x00000209DA0585E0>, 'address': <function Person.address at 0x00000209DA0587C0>, 'getCity': <function Person.getCity at 0x00000209DA058680>, 'getAge': <function Person.getAge at 0x00000209DA058D60>, 'getNamespace': <function Person.getNamespace at 0x00000209DA058AE0>, '__static_attributes__': ('__age', '__city', 'locals', 'name', 'state'), '__dict__': <attribute '__dict__' of 'Person' objects>, '__weakref__': <attribute '__weakref__' of 'Person' objects>, '__doc__': None})}, 'get_ipython': <bound method InteractiveShell.get_ipython of <ipykernel.zmqshell.ZMQInteractiveShell object at 0x00000209D97EEE40>>, 'exit': <IPython.core.autocall.ZMQExitAutocall object at 0x00000209D9880830>, 'quit': <IPython.core.autocall.ZMQExitAutocall object at 0x00000209D9880830>, 'open': <function open at 0x00000209D783CEA0>, '_': mappingproxy({'__module__': '__main__', '__firstlineno__': 2, '__init__': <function Person.__init__ at 0x00000209DA0585E0>, 'address': <function Person.address at 0x00000209DA0587C0>, 'getCity': <function Person.getCity at 0x00000209DA058680>, 'getAge': <function Person.getAge at 0x00000209DA058D60>, 'getNamespace': <function Person.getNamespace at 0x00000209DA058AE0>, '__static_attributes__': ('__age', '__city', 'locals', 'name', 'state'), '__dict__': <attribute '__dict__' of 'Person' objects>, '__weakref__': <attribute '__weakref__' of 'Person' objects>, '__doc__': None}), '__': '', '___': '', '__vsc_ipynb_file__': 'c:\\\\Users\\\\a\\\\Desktop\\\\PYTHON\\\\rAdavnceTOpics\\\\DAY27Practice\\\\Practice.ipynb', '_i': '\"\"\"\\nsimple Example that provide all ways to use \\n\"\"\"\\nx = 100  # Global variable\\n\\nclass MyClass:\\n    class_var = \"class level\"\\n\\n    def __init__(self):\\n        self.attr1 = \"hello\"\\n        self.attr2 = 42\\n\\n    def method(self):\\n        local_var = \"I am local\"\\n\\n        print(\"\\\\n=== dir(self) ===\")\\n        print(dir(self))\\n\\n        print(\"\\\\n=== self.__dir__() ===\")\\n        print(self.__dir__())\\n\\n        print(\"\\\\n=== self.__dict__ ===\")\\n        print(self.__dict__)\\n\\n        print(\"\\\\n=== locals() in method ===\")\\n        print(locals())\\n\\n        print(\"\\\\n=== globals() in method ===\")\\n        print(globals().get(\\'x\\'))\\n\\n# Create instance\\nobj = MyClass()\\nobj.method()\\n\\nprint(\"\\\\n=== obj.__dict__ outside method ===\")\\nprint(obj.__dict__)\\n\\nprint(\"\\\\n=== MyClass.__dict__ (class attributes/methods) ===\")\\nprint(MyClass.__dict__)\\n\\nprint(\"\\\\n=== globals() outside ===\")\\nprint(globals())\\n\\nprint(\"\\\\n=== locals() outside ===\")\\nprint(locals())', '_ii': '# Write your code here\\nobj=Person(\"arun\",\"Punjab\",\"Jalandhar\",18)\\n\\nprint(obj.address())\\n\\n#using the method defined in class\\nprint(\"All Namespace\")\\nprint(obj.getNamespace())\\n\\nprint(\"\\\\n\\\\n Using Locals\") \\n#similarly using the locals\\nA=obj.locals\\nprint(A)\\nfor i,j in A.items():\\n    print(i,\":\",j)\\n\\nprint(\"\\\\n\\\\n Using __dict__\") \\nfor i in obj.__dict__.items():\\n    print(i)', '_iii': '# Write your code here\\nobj=Person(\"arun\",\"Punjab\",\"Jalandhar\",18)\\n\\nprint(obj.address())\\n\\n#using the method defined in class\\nprint(\"All Namespace\")\\nprint(obj.getNamespace())\\n\\nprint(\"\\\\n\\\\n Using Locals\") \\n#similarly using the locals\\nA=obj.locals\\nprint(A)\\nfor i,j in A.items():\\n    print(i,\":\",j)\\n\\nprint(\"\\\\n\\\\n Using __dict__\") \\nfor i in obj.__dict__:\\n    print(i)', '_i1': '#Write your code here\\nclass Person:\\n    def __init__(self,name,state,city,age):\\n        self.name=name\\n        self.state=state\\n        self.__city=city\\n        self.__age=age\\n        self.locals=locals()\\n    \\n    def address(self):\\n        return f\"<{self.name}> ,<{self.getCity() } > ,<{self.state}>\"\\n    def getCity(self):\\n        return self.__city\\n    def getAge(self):\\n        return self.__age\\n    def getNamespace(self):\\n        print(self.locals)\\n        for i in self.locals:\\n            print(i)', 'Person': <class '__main__.Person'>, '_i2': '#Write your code here\\nclass Person:\\n    def __init__(self,name,state,city,age):\\n        self.name=name\\n        self.state=state\\n        self.__city=city\\n        self.__age=age\\n        self.locals=locals()\\n    \\n    def address(self):\\n        return f\"<{self.name}> ,<{self.getCity() } > ,<{self.state}>\"\\n    def getCity(self):\\n        return self.__city\\n    def getAge(self):\\n        return self.__age\\n    \\n    \\n    def getNamespace(self):\\n        print(self.locals)\\n        for i in self.locals:\\n            print(i)', '_i3': '#Write your code here\\nclass Person:\\n    def __init__(self,name,state,city,age):\\n        self.name=name\\n        self.state=state\\n        self.__city=city\\n        self.__age=age\\n        self.locals=locals()\\n    \\n    def address(self):\\n        return f\"<{self.name}> ,<{self.getCity() } > ,<{self.state}>\"\\n    def getCity(self):\\n        return self.__city\\n    def getAge(self):\\n        return self.__age\\n    \\n\\n    def getNamespace(self):\\n        print(self.locals)\\n        for i in self.locals:\\n            print(i)\\n\\nobj=Person()\\nobj.__dict___()', '_i4': '#Write your code here\\nclass Person:\\n    def __init__(self,name,state,city,age):\\n        self.name=name\\n        self.state=state\\n        self.__city=city\\n        self.__age=age\\n        self.locals=locals()\\n    \\n    def address(self):\\n        return f\"<{self.name}> ,<{self.getCity() } > ,<{self.state}>\"\\n    def getCity(self):\\n        return self.__city\\n    def getAge(self):\\n        return self.__age\\n    \\n\\n    def getNamespace(self):\\n        print(self.locals)\\n        for i in self.locals:\\n            print(i)\\n\\nobj=Person\\nobj.__dict___()', 'obj': <__main__.MyClass object at 0x00000209D9A22CF0>, '_i5': '#Write your code here\\nclass Person:\\n    def __init__(self,name,state,city,age):\\n        self.name=name\\n        self.state=state\\n        self.__city=city\\n        self.__age=age\\n        self.locals=locals()\\n    \\n    def address(self):\\n        return f\"<{self.name}> ,<{self.getCity() } > ,<{self.state}>\"\\n    def getCity(self):\\n        return self.__city\\n    def getAge(self):\\n        return self.__age\\n    \\n\\n    def getNamespace(self):\\n        print(self.locals)\\n        for i in self.locals:\\n            print(i)\\n\\nobj=Person(\"varun\",\"Punjab\",\"Jalandhar\",18)\\nobj.__dict___()', '_i6': '#Write your code here\\nclass Person:\\n    def __init__(self,name,state,city,age):\\n        self.name=name\\n        self.state=state\\n        self.__city=city\\n        self.__age=age\\n        self.locals=locals()\\n    \\n    def address(self):\\n        return f\"<{self.name}> ,<{self.getCity() } > ,<{self.state}>\"\\n    def getCity(self):\\n        return self.__city\\n    def getAge(self):\\n        return self.__age\\n    \\n\\n    def getNamespace(self):\\n        print(self.locals)\\n        for i in self.locals:\\n            print(i)\\n\\n# to view the Person CLass Namespace \\n# we can use the __dict__ \\nPerson.__dict__', '_6': mappingproxy({'__module__': '__main__', '__firstlineno__': 2, '__init__': <function Person.__init__ at 0x00000209DA0585E0>, 'address': <function Person.address at 0x00000209DA0587C0>, 'getCity': <function Person.getCity at 0x00000209DA058680>, 'getAge': <function Person.getAge at 0x00000209DA058D60>, 'getNamespace': <function Person.getNamespace at 0x00000209DA058AE0>, '__static_attributes__': ('__age', '__city', 'locals', 'name', 'state'), '__dict__': <attribute '__dict__' of 'Person' objects>, '__weakref__': <attribute '__weakref__' of 'Person' objects>, '__doc__': None}), '_i7': '#Write your code here\\nclass Person:\\n    def __init__(self,name,state,city,age):\\n        self.name=name\\n        self.state=state\\n        self.__city=city\\n        self.__age=age\\n        self.locals=locals()\\n    \\n    def address(self):\\n        return f\"<{self.name}> ,<{self.getCity() } > ,<{self.state}>\"\\n    def getCity(self):\\n        return self.__city\\n    def getAge(self):\\n        return self.__age\\n    \\n\\n    def getNamespace(self):\\n        print(self.locals)\\n        for i in self.locals:\\n            print(i)\\n\\n# to view the Person CLass Namespace \\n# we can use the __dict__ \\nfor i in Person.__dict__:\\n    print(i)', 'i': ('locals', {'self': <__main__.Person object at 0x00000209D984FD50>, 'name': 'arun', 'state': 'Punjab', 'city': 'Jalandhar', 'age': 18}), '_i8': '#Write your code here\\nclass Person:\\n    def __init__(self,name,state,city,age):\\n        self.name=name\\n        self.state=state\\n        self.__city=city\\n        self.__age=age\\n        self.locals=locals()\\n    \\n    def address(self):\\n        return f\"<{self.name}> ,<{self.getCity() } > ,<{self.state}>\"\\n    def getCity(self):\\n        return self.__city\\n    def getAge(self):\\n        return self.__age\\n    \\n\\n    def getNamespace(self):\\n        print(self.locals)\\n        for i in self.locals:\\n            print(i)\\n\\n# to view the Person CLass Namespace \\n# we can use the __dict__ \\nfor i in Person.__dict__:\\n    print(i)\\nobj=Person(\"varun\",\"Punjab\",\"Jalandhar\",18)\\nprint(obj.getNamespace())', '_i9': '#Write your code here\\nclass Person:\\n    def __init__(self,name,state,city,age):\\n        self.name=name\\n        self.state=state\\n        self.__city=city\\n        self.__age=age\\n        self.locals=locals()\\n    \\n    def address(self):\\n        return f\"<{self.name}> ,<{self.getCity() } > ,<{self.state}>\"\\n    def getCity(self):\\n        return self.__city\\n    def getAge(self):\\n        return self.__age\\n    \\n\\n    def getNamespace(self):\\n        print(self.locals)\\n        for i in self.locals:\\n            print(i)\\n\\n# to view the Person CLass Namespace \\n# we can use the __dict__ \\nfor i in Person.__dict__:\\n    print(i)', '_i10': '#Write your code here\\nclass Person:\\n    def __init__(self,name,state,city,age):\\n        self.name=name\\n        self.state=state\\n        self.__city=city\\n        self.__age=age\\n        self.locals=locals()\\n    \\n    def address(self):\\n        return f\"<{self.name}> ,<{self.getCity() } > ,<{self.state}>\"\\n    def getCity(self):\\n        return self.__city\\n    def getAge(self):\\n        return self.__age\\n    \\n\\n    def getNamespace(self):\\n        print(self.locals)\\n        for i in self.locals:\\n            print(i)', '_i11': '\\n# to view the Person CLass Namespace \\n# we can use the __dict__ \\nfor i in Person.__dict__:\\n    print(i)', '_i12': '# Write your code here\\nobj=Person(\"arun\",\"Punjab\",\"Jalandhar\",18)\\n\\nprint(obj.address())\\nprint(\"All Namespace\")\\nprint(obj.getNamespace())', '_i13': '#Write your code here\\nclass Person:\\n    def __init__(self,name,state,city,age):\\n        self.name=name\\n        self.state=state\\n        self.__city=city\\n        self.__age=age\\n        self.locals=locals()\\n    \\n    def address(self):\\n        return f\"<{self.name}> ,<{self.getCity() } > ,<{self.state}>\"\\n    def getCity(self):\\n        return self.__city\\n    def getAge(self):\\n        return self.__age\\n    \\n\\n    def getNamespace(self):\\n        for i in self.locals():\\n            print(i)', '_i14': '\\n# to view the Person CLass Namespace \\n# we can use the __dict__ \\nfor i in Person.__dict__:\\n    print(i)', '_i15': '# Write your code here\\nobj=Person(\"arun\",\"Punjab\",\"Jalandhar\",18)\\n\\nprint(obj.address())\\nprint(\"All Namespace\")\\nprint(obj.getNamespace())', '_i16': '#Write your code here\\nclass Person:\\n    def __init__(self,name,state,city,age):\\n        self.name=name\\n        self.state=state\\n        self.__city=city\\n        self.__age=age\\n        self.locals=locals()\\n    \\n    def address(self):\\n        return f\"<{self.name}> ,<{self.getCity() } > ,<{self.state}>\"\\n    def getCity(self):\\n        return self.__city\\n    def getAge(self):\\n        return self.__age\\n    def getNamespace(self):\\n        for i in self.locals.items():\\n            print(i)', '_i17': '\\n# to view the Person CLass Namespace \\n# we can use the __dict__ \\nfor i in Person.__dict__:\\n    print(i)', '_i18': '# Write your code here\\nobj=Person(\"arun\",\"Punjab\",\"Jalandhar\",18)\\n\\nprint(obj.address())\\nprint(\"All Namespace\")\\nprint(obj.getNamespace())', '_i19': '# Write your code here\\nobj=Person(\"arun\",\"Punjab\",\"Jalandhar\",18)\\n\\nprint(obj.address())\\n\\nprint(\"All Namespace\")\\nprint(obj.getNamespace())', '_i20': '# Write your code here\\nobj=Person(\"arun\",\"Punjab\",\"Jalandhar\",18)\\n\\nprint(obj.address())\\n\\nprint(\"All Namespace\")\\nprint(obj.getNamespace())', '_i21': '# Write your code here\\nobj=Person(\"arun\",\"Punjab\",\"Jalandhar\",18)\\n\\nprint(obj.address())\\n\\n#using the method defined in class\\nprint(\"All Namespace\")\\nprint(obj.getNamespace())\\n\\n# similarly using the locals\\nA=obj.locals()\\nfor i in A:\\n    print(i)', '_i22': '# Write your code here\\nobj=Person(\"arun\",\"Punjab\",\"Jalandhar\",18)\\n\\nprint(obj.address())\\n\\n#using the method defined in class\\nprint(\"All Namespace\")\\nprint(obj.getNamespace())\\n\\n# similarly using the locals\\nA=obj.locals\\nfor i in A:\\n    print(i)', 'A': {'self': <__main__.Person object at 0x00000209D984FD50>, 'name': 'arun', 'state': 'Punjab', 'city': 'Jalandhar', 'age': 18}, '_i23': '# Write your code here\\nobj=Person(\"arun\",\"Punjab\",\"Jalandhar\",18)\\n\\nprint(obj.address())\\n\\n#using the method defined in class\\nprint(\"All Namespace\")\\nprint(obj.getNamespace())\\n\\n# similarly using the locals\\nA=obj.locals\\nprint(A)\\nfor i in A:\\n    print(i)', '_i24': '# Write your code here\\nobj=Person(\"arun\",\"Punjab\",\"Jalandhar\",18)\\n\\nprint(obj.address())\\n\\n#using the method defined in class\\nprint(\"All Namespace\")\\nprint(obj.getNamespace())\\n\\n# similarly using the locals\\nA=obj.locals\\nprint(A)\\nfor i,j in A.items():\\n    print(i,\":\",j)', 'j': 18, '_i25': '# Write your code here\\nobj=Person(\"arun\",\"Punjab\",\"Jalandhar\",18)\\n\\nprint(obj.address())\\n\\n#using the method defined in class\\nprint(\"All Namespace\")\\nprint(obj.getNamespace())\\n\\nprint(\"\\\\n\\\\n Using Locals\") \\n#similarly using the locals\\nA=obj.locals\\nprint(A)\\nfor i,j in A.items():\\n    print(i,\":\",j)', '_i26': '# Write your code here\\nobj=Person(\"arun\",\"Punjab\",\"Jalandhar\",18)\\n\\nprint(obj.address())\\n\\n#using the method defined in class\\nprint(\"All Namespace\")\\nprint(obj.getNamespace())\\n\\nprint(\"\\\\n\\\\n Using Locals\") \\n#similarly using the locals\\nA=obj.locals\\nprint(A)\\nfor i,j in A.items():\\n    print(i,\":\",j)\\n\\nprint(\"\\\\n\\\\n Using __dict__\") \\nfor i in obj.__dict__:\\n    print(i)', '_i27': '# Write your code here\\nobj=Person(\"arun\",\"Punjab\",\"Jalandhar\",18)\\n\\nprint(obj.address())\\n\\n#using the method defined in class\\nprint(\"All Namespace\")\\nprint(obj.getNamespace())\\n\\nprint(\"\\\\n\\\\n Using Locals\") \\n#similarly using the locals\\nA=obj.locals\\nprint(A)\\nfor i,j in A.items():\\n    print(i,\":\",j)\\n\\nprint(\"\\\\n\\\\n Using __dict__\") \\nfor i in obj.__dict__.items():\\n    print(i)', '_i28': '\"\"\"\\nsimple Example that provide all ways to use \\n\"\"\"\\nx = 100  # Global variable\\n\\nclass MyClass:\\n    class_var = \"class level\"\\n\\n    def __init__(self):\\n        self.attr1 = \"hello\"\\n        self.attr2 = 42\\n\\n    def method(self):\\n        local_var = \"I am local\"\\n\\n        print(\"\\\\n=== dir(self) ===\")\\n        print(dir(self))\\n\\n        print(\"\\\\n=== self.__dir__() ===\")\\n        print(self.__dir__())\\n\\n        print(\"\\\\n=== self.__dict__ ===\")\\n        print(self.__dict__)\\n\\n        print(\"\\\\n=== locals() in method ===\")\\n        print(locals())\\n\\n        print(\"\\\\n=== globals() in method ===\")\\n        print(globals().get(\\'x\\'))\\n\\n# Create instance\\nobj = MyClass()\\nobj.method()\\n\\nprint(\"\\\\n=== obj.__dict__ outside method ===\")\\nprint(obj.__dict__)\\n\\nprint(\"\\\\n=== MyClass.__dict__ (class attributes/methods) ===\")\\nprint(MyClass.__dict__)\\n\\nprint(\"\\\\n=== globals() outside ===\")\\nprint(globals())\\n\\nprint(\"\\\\n=== locals() outside ===\")\\nprint(locals())', 'x': 100, 'MyClass': <class '__main__.MyClass'>, '_i29': '\"\"\"\\nsimple Example that provide all ways to use \\n\"\"\"\\nx = 100  # Global variable\\n\\nclass MyClass:\\n    class_var = \"class level\"\\n\\n    def __init__(self):\\n        self.attr1 = \"hello\"\\n        self.attr2 = 42\\n\\n    def method(self):\\n        local_var = \"I am local\"\\n\\n        print(\"\\\\n=== dir(self) ===\")\\n        print(dir(self))\\n\\n        print(\"\\\\n=== self.__dir__() ===\")\\n        print(self.__dir__())\\n\\n        print(\"\\\\n=== self.__dict__ ===\")\\n        print(self.__dict__)\\n\\n        print(\"\\\\n=== locals() in method ===\")\\n        print(locals())\\n\\n        print(\"\\\\n=== globals() in method ===\")\\n        print(globals())\\n\\n# Create instance\\nobj = MyClass()\\nobj.method()\\n\\nprint(\"\\\\n=== obj.__dict__ outside method ===\")\\nprint(obj.__dict__)\\n\\nprint(\"\\\\n=== MyClass.__dict__ (class attributes/methods) ===\")\\nprint(MyClass.__dict__)\\n\\nprint(\"\\\\n=== globals() outside ===\")\\nprint(globals())\\n\\nprint(\"\\\\n=== locals() outside ===\")\\nprint(locals())'}\n",
            "\n",
            "=== obj.__dict__ outside method ===\n",
            "{'attr1': 'hello', 'attr2': 42}\n",
            "\n",
            "=== MyClass.__dict__ (class attributes/methods) ===\n",
            "{'__module__': '__main__', '__firstlineno__': 6, 'class_var': 'class level', '__init__': <function MyClass.__init__ at 0x00000209DA0E7BA0>, 'method': <function MyClass.method at 0x00000209DA0E7B00>, '__static_attributes__': ('attr1', 'attr2'), '__dict__': <attribute '__dict__' of 'MyClass' objects>, '__weakref__': <attribute '__weakref__' of 'MyClass' objects>, '__doc__': None}\n",
            "\n",
            "=== globals() outside ===\n",
            "{'__name__': '__main__', '__doc__': '\\nsimple Example that provide all ways to use \\n', '__package__': None, '__loader__': None, '__spec__': None, '__builtin__': <module 'builtins' (built-in)>, '__builtins__': <module 'builtins' (built-in)>, '_ih': ['', '#Write your code here\\nclass Person:\\n    def __init__(self,name,state,city,age):\\n        self.name=name\\n        self.state=state\\n        self.__city=city\\n        self.__age=age\\n        self.locals=locals()\\n\\n    def address(self):\\n        return f\"<{self.name}> ,<{self.getCity() } > ,<{self.state}>\"\\n    def getCity(self):\\n        return self.__city\\n    def getAge(self):\\n        return self.__age\\n    def getNamespace(self):\\n        print(self.locals)\\n        for i in self.locals:\\n            print(i)', '#Write your code here\\nclass Person:\\n    def __init__(self,name,state,city,age):\\n        self.name=name\\n        self.state=state\\n        self.__city=city\\n        self.__age=age\\n        self.locals=locals()\\n\\n    def address(self):\\n        return f\"<{self.name}> ,<{self.getCity() } > ,<{self.state}>\"\\n    def getCity(self):\\n        return self.__city\\n    def getAge(self):\\n        return self.__age\\n\\n\\n    def getNamespace(self):\\n        print(self.locals)\\n        for i in self.locals:\\n            print(i)', '#Write your code here\\nclass Person:\\n    def __init__(self,name,state,city,age):\\n        self.name=name\\n        self.state=state\\n        self.__city=city\\n        self.__age=age\\n        self.locals=locals()\\n\\n    def address(self):\\n        return f\"<{self.name}> ,<{self.getCity() } > ,<{self.state}>\"\\n    def getCity(self):\\n        return self.__city\\n    def getAge(self):\\n        return self.__age\\n\\n\\n    def getNamespace(self):\\n        print(self.locals)\\n        for i in self.locals:\\n            print(i)\\n\\nobj=Person()\\nobj.__dict___()', '#Write your code here\\nclass Person:\\n    def __init__(self,name,state,city,age):\\n        self.name=name\\n        self.state=state\\n        self.__city=city\\n        self.__age=age\\n        self.locals=locals()\\n\\n    def address(self):\\n        return f\"<{self.name}> ,<{self.getCity() } > ,<{self.state}>\"\\n    def getCity(self):\\n        return self.__city\\n    def getAge(self):\\n        return self.__age\\n\\n\\n    def getNamespace(self):\\n        print(self.locals)\\n        for i in self.locals:\\n            print(i)\\n\\nobj=Person\\nobj.__dict___()', '#Write your code here\\nclass Person:\\n    def __init__(self,name,state,city,age):\\n        self.name=name\\n        self.state=state\\n        self.__city=city\\n        self.__age=age\\n        self.locals=locals()\\n\\n    def address(self):\\n        return f\"<{self.name}> ,<{self.getCity() } > ,<{self.state}>\"\\n    def getCity(self):\\n        return self.__city\\n    def getAge(self):\\n        return self.__age\\n\\n\\n    def getNamespace(self):\\n        print(self.locals)\\n        for i in self.locals:\\n            print(i)\\n\\nobj=Person(\"varun\",\"Punjab\",\"Jalandhar\",18)\\nobj.__dict___()', '#Write your code here\\nclass Person:\\n    def __init__(self,name,state,city,age):\\n        self.name=name\\n        self.state=state\\n        self.__city=city\\n        self.__age=age\\n        self.locals=locals()\\n\\n    def address(self):\\n        return f\"<{self.name}> ,<{self.getCity() } > ,<{self.state}>\"\\n    def getCity(self):\\n        return self.__city\\n    def getAge(self):\\n        return self.__age\\n\\n\\n    def getNamespace(self):\\n        print(self.locals)\\n        for i in self.locals:\\n            print(i)\\n\\n# to view the Person CLass Namespace \\n# we can use the __dict__ \\nPerson.__dict__', '#Write your code here\\nclass Person:\\n    def __init__(self,name,state,city,age):\\n        self.name=name\\n        self.state=state\\n        self.__city=city\\n        self.__age=age\\n        self.locals=locals()\\n\\n    def address(self):\\n        return f\"<{self.name}> ,<{self.getCity() } > ,<{self.state}>\"\\n    def getCity(self):\\n        return self.__city\\n    def getAge(self):\\n        return self.__age\\n\\n\\n    def getNamespace(self):\\n        print(self.locals)\\n        for i in self.locals:\\n            print(i)\\n\\n# to view the Person CLass Namespace \\n# we can use the __dict__ \\nfor i in Person.__dict__:\\n    print(i)', '#Write your code here\\nclass Person:\\n    def __init__(self,name,state,city,age):\\n        self.name=name\\n        self.state=state\\n        self.__city=city\\n        self.__age=age\\n        self.locals=locals()\\n\\n    def address(self):\\n        return f\"<{self.name}> ,<{self.getCity() } > ,<{self.state}>\"\\n    def getCity(self):\\n        return self.__city\\n    def getAge(self):\\n        return self.__age\\n\\n\\n    def getNamespace(self):\\n        print(self.locals)\\n        for i in self.locals:\\n            print(i)\\n\\n# to view the Person CLass Namespace \\n# we can use the __dict__ \\nfor i in Person.__dict__:\\n    print(i)\\nobj=Person(\"varun\",\"Punjab\",\"Jalandhar\",18)\\nprint(obj.getNamespace())', '#Write your code here\\nclass Person:\\n    def __init__(self,name,state,city,age):\\n        self.name=name\\n        self.state=state\\n        self.__city=city\\n        self.__age=age\\n        self.locals=locals()\\n\\n    def address(self):\\n        return f\"<{self.name}> ,<{self.getCity() } > ,<{self.state}>\"\\n    def getCity(self):\\n        return self.__city\\n    def getAge(self):\\n        return self.__age\\n\\n\\n    def getNamespace(self):\\n        print(self.locals)\\n        for i in self.locals:\\n            print(i)\\n\\n# to view the Person CLass Namespace \\n# we can use the __dict__ \\nfor i in Person.__dict__:\\n    print(i)', '#Write your code here\\nclass Person:\\n    def __init__(self,name,state,city,age):\\n        self.name=name\\n        self.state=state\\n        self.__city=city\\n        self.__age=age\\n        self.locals=locals()\\n\\n    def address(self):\\n        return f\"<{self.name}> ,<{self.getCity() } > ,<{self.state}>\"\\n    def getCity(self):\\n        return self.__city\\n    def getAge(self):\\n        return self.__age\\n\\n\\n    def getNamespace(self):\\n        print(self.locals)\\n        for i in self.locals:\\n            print(i)', '# to view the Person CLass Namespace \\n# we can use the __dict__ \\nfor i in Person.__dict__:\\n    print(i)', '# Write your code here\\nobj=Person(\"arun\",\"Punjab\",\"Jalandhar\",18)\\n\\nprint(obj.address())\\nprint(\"All Namespace\")\\nprint(obj.getNamespace())', '#Write your code here\\nclass Person:\\n    def __init__(self,name,state,city,age):\\n        self.name=name\\n        self.state=state\\n        self.__city=city\\n        self.__age=age\\n        self.locals=locals()\\n\\n    def address(self):\\n        return f\"<{self.name}> ,<{self.getCity() } > ,<{self.state}>\"\\n    def getCity(self):\\n        return self.__city\\n    def getAge(self):\\n        return self.__age\\n\\n\\n    def getNamespace(self):\\n        for i in self.locals():\\n            print(i)', '# to view the Person CLass Namespace \\n# we can use the __dict__ \\nfor i in Person.__dict__:\\n    print(i)', '# Write your code here\\nobj=Person(\"arun\",\"Punjab\",\"Jalandhar\",18)\\n\\nprint(obj.address())\\nprint(\"All Namespace\")\\nprint(obj.getNamespace())', '#Write your code here\\nclass Person:\\n    def __init__(self,name,state,city,age):\\n        self.name=name\\n        self.state=state\\n        self.__city=city\\n        self.__age=age\\n        self.locals=locals()\\n\\n    def address(self):\\n        return f\"<{self.name}> ,<{self.getCity() } > ,<{self.state}>\"\\n    def getCity(self):\\n        return self.__city\\n    def getAge(self):\\n        return self.__age\\n    def getNamespace(self):\\n        for i in self.locals.items():\\n            print(i)', '# to view the Person CLass Namespace \\n# we can use the __dict__ \\nfor i in Person.__dict__:\\n    print(i)', '# Write your code here\\nobj=Person(\"arun\",\"Punjab\",\"Jalandhar\",18)\\n\\nprint(obj.address())\\nprint(\"All Namespace\")\\nprint(obj.getNamespace())', '# Write your code here\\nobj=Person(\"arun\",\"Punjab\",\"Jalandhar\",18)\\n\\nprint(obj.address())\\n\\nprint(\"All Namespace\")\\nprint(obj.getNamespace())', '# Write your code here\\nobj=Person(\"arun\",\"Punjab\",\"Jalandhar\",18)\\n\\nprint(obj.address())\\n\\nprint(\"All Namespace\")\\nprint(obj.getNamespace())', '# Write your code here\\nobj=Person(\"arun\",\"Punjab\",\"Jalandhar\",18)\\n\\nprint(obj.address())\\n\\n#using the method defined in class\\nprint(\"All Namespace\")\\nprint(obj.getNamespace())\\n\\n# similarly using the locals\\nA=obj.locals()\\nfor i in A:\\n    print(i)', '# Write your code here\\nobj=Person(\"arun\",\"Punjab\",\"Jalandhar\",18)\\n\\nprint(obj.address())\\n\\n#using the method defined in class\\nprint(\"All Namespace\")\\nprint(obj.getNamespace())\\n\\n# similarly using the locals\\nA=obj.locals\\nfor i in A:\\n    print(i)', '# Write your code here\\nobj=Person(\"arun\",\"Punjab\",\"Jalandhar\",18)\\n\\nprint(obj.address())\\n\\n#using the method defined in class\\nprint(\"All Namespace\")\\nprint(obj.getNamespace())\\n\\n# similarly using the locals\\nA=obj.locals\\nprint(A)\\nfor i in A:\\n    print(i)', '# Write your code here\\nobj=Person(\"arun\",\"Punjab\",\"Jalandhar\",18)\\n\\nprint(obj.address())\\n\\n#using the method defined in class\\nprint(\"All Namespace\")\\nprint(obj.getNamespace())\\n\\n# similarly using the locals\\nA=obj.locals\\nprint(A)\\nfor i,j in A.items():\\n    print(i,\":\",j)', '# Write your code here\\nobj=Person(\"arun\",\"Punjab\",\"Jalandhar\",18)\\n\\nprint(obj.address())\\n\\n#using the method defined in class\\nprint(\"All Namespace\")\\nprint(obj.getNamespace())\\n\\nprint(\"\\\\n\\\\n Using Locals\") \\n#similarly using the locals\\nA=obj.locals\\nprint(A)\\nfor i,j in A.items():\\n    print(i,\":\",j)', '# Write your code here\\nobj=Person(\"arun\",\"Punjab\",\"Jalandhar\",18)\\n\\nprint(obj.address())\\n\\n#using the method defined in class\\nprint(\"All Namespace\")\\nprint(obj.getNamespace())\\n\\nprint(\"\\\\n\\\\n Using Locals\") \\n#similarly using the locals\\nA=obj.locals\\nprint(A)\\nfor i,j in A.items():\\n    print(i,\":\",j)\\n\\nprint(\"\\\\n\\\\n Using __dict__\") \\nfor i in obj.__dict__:\\n    print(i)', '# Write your code here\\nobj=Person(\"arun\",\"Punjab\",\"Jalandhar\",18)\\n\\nprint(obj.address())\\n\\n#using the method defined in class\\nprint(\"All Namespace\")\\nprint(obj.getNamespace())\\n\\nprint(\"\\\\n\\\\n Using Locals\") \\n#similarly using the locals\\nA=obj.locals\\nprint(A)\\nfor i,j in A.items():\\n    print(i,\":\",j)\\n\\nprint(\"\\\\n\\\\n Using __dict__\") \\nfor i in obj.__dict__.items():\\n    print(i)', '\"\"\"\\nsimple Example that provide all ways to use \\n\"\"\"\\nx = 100  # Global variable\\n\\nclass MyClass:\\n    class_var = \"class level\"\\n\\n    def __init__(self):\\n        self.attr1 = \"hello\"\\n        self.attr2 = 42\\n\\n    def method(self):\\n        local_var = \"I am local\"\\n\\n        print(\"\\\\n=== dir(self) ===\")\\n        print(dir(self))\\n\\n        print(\"\\\\n=== self.__dir__() ===\")\\n        print(self.__dir__())\\n\\n        print(\"\\\\n=== self.__dict__ ===\")\\n        print(self.__dict__)\\n\\n        print(\"\\\\n=== locals() in method ===\")\\n        print(locals())\\n\\n        print(\"\\\\n=== globals() in method ===\")\\n        print(globals().get(\\'x\\'))\\n\\n# Create instance\\nobj = MyClass()\\nobj.method()\\n\\nprint(\"\\\\n=== obj.__dict__ outside method ===\")\\nprint(obj.__dict__)\\n\\nprint(\"\\\\n=== MyClass.__dict__ (class attributes/methods) ===\")\\nprint(MyClass.__dict__)\\n\\nprint(\"\\\\n=== globals() outside ===\")\\nprint(globals())\\n\\nprint(\"\\\\n=== locals() outside ===\")\\nprint(locals())', '\"\"\"\\nsimple Example that provide all ways to use \\n\"\"\"\\nx = 100  # Global variable\\n\\nclass MyClass:\\n    class_var = \"class level\"\\n\\n    def __init__(self):\\n        self.attr1 = \"hello\"\\n        self.attr2 = 42\\n\\n    def method(self):\\n        local_var = \"I am local\"\\n\\n        print(\"\\\\n=== dir(self) ===\")\\n        print(dir(self))\\n\\n        print(\"\\\\n=== self.__dir__() ===\")\\n        print(self.__dir__())\\n\\n        print(\"\\\\n=== self.__dict__ ===\")\\n        print(self.__dict__)\\n\\n        print(\"\\\\n=== locals() in method ===\")\\n        print(locals())\\n\\n        print(\"\\\\n=== globals() in method ===\")\\n        print(globals())\\n\\n# Create instance\\nobj = MyClass()\\nobj.method()\\n\\nprint(\"\\\\n=== obj.__dict__ outside method ===\")\\nprint(obj.__dict__)\\n\\nprint(\"\\\\n=== MyClass.__dict__ (class attributes/methods) ===\")\\nprint(MyClass.__dict__)\\n\\nprint(\"\\\\n=== globals() outside ===\")\\nprint(globals())\\n\\nprint(\"\\\\n=== locals() outside ===\")\\nprint(locals())'], '_oh': {6: mappingproxy({'__module__': '__main__', '__firstlineno__': 2, '__init__': <function Person.__init__ at 0x00000209DA0585E0>, 'address': <function Person.address at 0x00000209DA0587C0>, 'getCity': <function Person.getCity at 0x00000209DA058680>, 'getAge': <function Person.getAge at 0x00000209DA058D60>, 'getNamespace': <function Person.getNamespace at 0x00000209DA058AE0>, '__static_attributes__': ('__age', '__city', 'locals', 'name', 'state'), '__dict__': <attribute '__dict__' of 'Person' objects>, '__weakref__': <attribute '__weakref__' of 'Person' objects>, '__doc__': None})}, '_dh': [WindowsPath('c:/Users/a/Desktop/PYTHON/rAdavnceTOpics/DAY27Practice')], 'In': ['', '#Write your code here\\nclass Person:\\n    def __init__(self,name,state,city,age):\\n        self.name=name\\n        self.state=state\\n        self.__city=city\\n        self.__age=age\\n        self.locals=locals()\\n\\n    def address(self):\\n        return f\"<{self.name}> ,<{self.getCity() } > ,<{self.state}>\"\\n    def getCity(self):\\n        return self.__city\\n    def getAge(self):\\n        return self.__age\\n    def getNamespace(self):\\n        print(self.locals)\\n        for i in self.locals:\\n            print(i)', '#Write your code here\\nclass Person:\\n    def __init__(self,name,state,city,age):\\n        self.name=name\\n        self.state=state\\n        self.__city=city\\n        self.__age=age\\n        self.locals=locals()\\n\\n    def address(self):\\n        return f\"<{self.name}> ,<{self.getCity() } > ,<{self.state}>\"\\n    def getCity(self):\\n        return self.__city\\n    def getAge(self):\\n        return self.__age\\n\\n\\n    def getNamespace(self):\\n        print(self.locals)\\n        for i in self.locals:\\n            print(i)', '#Write your code here\\nclass Person:\\n    def __init__(self,name,state,city,age):\\n        self.name=name\\n        self.state=state\\n        self.__city=city\\n        self.__age=age\\n        self.locals=locals()\\n\\n    def address(self):\\n        return f\"<{self.name}> ,<{self.getCity() } > ,<{self.state}>\"\\n    def getCity(self):\\n        return self.__city\\n    def getAge(self):\\n        return self.__age\\n\\n\\n    def getNamespace(self):\\n        print(self.locals)\\n        for i in self.locals:\\n            print(i)\\n\\nobj=Person()\\nobj.__dict___()', '#Write your code here\\nclass Person:\\n    def __init__(self,name,state,city,age):\\n        self.name=name\\n        self.state=state\\n        self.__city=city\\n        self.__age=age\\n        self.locals=locals()\\n\\n    def address(self):\\n        return f\"<{self.name}> ,<{self.getCity() } > ,<{self.state}>\"\\n    def getCity(self):\\n        return self.__city\\n    def getAge(self):\\n        return self.__age\\n\\n\\n    def getNamespace(self):\\n        print(self.locals)\\n        for i in self.locals:\\n            print(i)\\n\\nobj=Person\\nobj.__dict___()', '#Write your code here\\nclass Person:\\n    def __init__(self,name,state,city,age):\\n        self.name=name\\n        self.state=state\\n        self.__city=city\\n        self.__age=age\\n        self.locals=locals()\\n\\n    def address(self):\\n        return f\"<{self.name}> ,<{self.getCity() } > ,<{self.state}>\"\\n    def getCity(self):\\n        return self.__city\\n    def getAge(self):\\n        return self.__age\\n\\n\\n    def getNamespace(self):\\n        print(self.locals)\\n        for i in self.locals:\\n            print(i)\\n\\nobj=Person(\"varun\",\"Punjab\",\"Jalandhar\",18)\\nobj.__dict___()', '#Write your code here\\nclass Person:\\n    def __init__(self,name,state,city,age):\\n        self.name=name\\n        self.state=state\\n        self.__city=city\\n        self.__age=age\\n        self.locals=locals()\\n\\n    def address(self):\\n        return f\"<{self.name}> ,<{self.getCity() } > ,<{self.state}>\"\\n    def getCity(self):\\n        return self.__city\\n    def getAge(self):\\n        return self.__age\\n\\n\\n    def getNamespace(self):\\n        print(self.locals)\\n        for i in self.locals:\\n            print(i)\\n\\n# to view the Person CLass Namespace \\n# we can use the __dict__ \\nPerson.__dict__', '#Write your code here\\nclass Person:\\n    def __init__(self,name,state,city,age):\\n        self.name=name\\n        self.state=state\\n        self.__city=city\\n        self.__age=age\\n        self.locals=locals()\\n\\n    def address(self):\\n        return f\"<{self.name}> ,<{self.getCity() } > ,<{self.state}>\"\\n    def getCity(self):\\n        return self.__city\\n    def getAge(self):\\n        return self.__age\\n\\n\\n    def getNamespace(self):\\n        print(self.locals)\\n        for i in self.locals:\\n            print(i)\\n\\n# to view the Person CLass Namespace \\n# we can use the __dict__ \\nfor i in Person.__dict__:\\n    print(i)', '#Write your code here\\nclass Person:\\n    def __init__(self,name,state,city,age):\\n        self.name=name\\n        self.state=state\\n        self.__city=city\\n        self.__age=age\\n        self.locals=locals()\\n\\n    def address(self):\\n        return f\"<{self.name}> ,<{self.getCity() } > ,<{self.state}>\"\\n    def getCity(self):\\n        return self.__city\\n    def getAge(self):\\n        return self.__age\\n\\n\\n    def getNamespace(self):\\n        print(self.locals)\\n        for i in self.locals:\\n            print(i)\\n\\n# to view the Person CLass Namespace \\n# we can use the __dict__ \\nfor i in Person.__dict__:\\n    print(i)\\nobj=Person(\"varun\",\"Punjab\",\"Jalandhar\",18)\\nprint(obj.getNamespace())', '#Write your code here\\nclass Person:\\n    def __init__(self,name,state,city,age):\\n        self.name=name\\n        self.state=state\\n        self.__city=city\\n        self.__age=age\\n        self.locals=locals()\\n\\n    def address(self):\\n        return f\"<{self.name}> ,<{self.getCity() } > ,<{self.state}>\"\\n    def getCity(self):\\n        return self.__city\\n    def getAge(self):\\n        return self.__age\\n\\n\\n    def getNamespace(self):\\n        print(self.locals)\\n        for i in self.locals:\\n            print(i)\\n\\n# to view the Person CLass Namespace \\n# we can use the __dict__ \\nfor i in Person.__dict__:\\n    print(i)', '#Write your code here\\nclass Person:\\n    def __init__(self,name,state,city,age):\\n        self.name=name\\n        self.state=state\\n        self.__city=city\\n        self.__age=age\\n        self.locals=locals()\\n\\n    def address(self):\\n        return f\"<{self.name}> ,<{self.getCity() } > ,<{self.state}>\"\\n    def getCity(self):\\n        return self.__city\\n    def getAge(self):\\n        return self.__age\\n\\n\\n    def getNamespace(self):\\n        print(self.locals)\\n        for i in self.locals:\\n            print(i)', '# to view the Person CLass Namespace \\n# we can use the __dict__ \\nfor i in Person.__dict__:\\n    print(i)', '# Write your code here\\nobj=Person(\"arun\",\"Punjab\",\"Jalandhar\",18)\\n\\nprint(obj.address())\\nprint(\"All Namespace\")\\nprint(obj.getNamespace())', '#Write your code here\\nclass Person:\\n    def __init__(self,name,state,city,age):\\n        self.name=name\\n        self.state=state\\n        self.__city=city\\n        self.__age=age\\n        self.locals=locals()\\n\\n    def address(self):\\n        return f\"<{self.name}> ,<{self.getCity() } > ,<{self.state}>\"\\n    def getCity(self):\\n        return self.__city\\n    def getAge(self):\\n        return self.__age\\n\\n\\n    def getNamespace(self):\\n        for i in self.locals():\\n            print(i)', '# to view the Person CLass Namespace \\n# we can use the __dict__ \\nfor i in Person.__dict__:\\n    print(i)', '# Write your code here\\nobj=Person(\"arun\",\"Punjab\",\"Jalandhar\",18)\\n\\nprint(obj.address())\\nprint(\"All Namespace\")\\nprint(obj.getNamespace())', '#Write your code here\\nclass Person:\\n    def __init__(self,name,state,city,age):\\n        self.name=name\\n        self.state=state\\n        self.__city=city\\n        self.__age=age\\n        self.locals=locals()\\n\\n    def address(self):\\n        return f\"<{self.name}> ,<{self.getCity() } > ,<{self.state}>\"\\n    def getCity(self):\\n        return self.__city\\n    def getAge(self):\\n        return self.__age\\n    def getNamespace(self):\\n        for i in self.locals.items():\\n            print(i)', '# to view the Person CLass Namespace \\n# we can use the __dict__ \\nfor i in Person.__dict__:\\n    print(i)', '# Write your code here\\nobj=Person(\"arun\",\"Punjab\",\"Jalandhar\",18)\\n\\nprint(obj.address())\\nprint(\"All Namespace\")\\nprint(obj.getNamespace())', '# Write your code here\\nobj=Person(\"arun\",\"Punjab\",\"Jalandhar\",18)\\n\\nprint(obj.address())\\n\\nprint(\"All Namespace\")\\nprint(obj.getNamespace())', '# Write your code here\\nobj=Person(\"arun\",\"Punjab\",\"Jalandhar\",18)\\n\\nprint(obj.address())\\n\\nprint(\"All Namespace\")\\nprint(obj.getNamespace())', '# Write your code here\\nobj=Person(\"arun\",\"Punjab\",\"Jalandhar\",18)\\n\\nprint(obj.address())\\n\\n#using the method defined in class\\nprint(\"All Namespace\")\\nprint(obj.getNamespace())\\n\\n# similarly using the locals\\nA=obj.locals()\\nfor i in A:\\n    print(i)', '# Write your code here\\nobj=Person(\"arun\",\"Punjab\",\"Jalandhar\",18)\\n\\nprint(obj.address())\\n\\n#using the method defined in class\\nprint(\"All Namespace\")\\nprint(obj.getNamespace())\\n\\n# similarly using the locals\\nA=obj.locals\\nfor i in A:\\n    print(i)', '# Write your code here\\nobj=Person(\"arun\",\"Punjab\",\"Jalandhar\",18)\\n\\nprint(obj.address())\\n\\n#using the method defined in class\\nprint(\"All Namespace\")\\nprint(obj.getNamespace())\\n\\n# similarly using the locals\\nA=obj.locals\\nprint(A)\\nfor i in A:\\n    print(i)', '# Write your code here\\nobj=Person(\"arun\",\"Punjab\",\"Jalandhar\",18)\\n\\nprint(obj.address())\\n\\n#using the method defined in class\\nprint(\"All Namespace\")\\nprint(obj.getNamespace())\\n\\n# similarly using the locals\\nA=obj.locals\\nprint(A)\\nfor i,j in A.items():\\n    print(i,\":\",j)', '# Write your code here\\nobj=Person(\"arun\",\"Punjab\",\"Jalandhar\",18)\\n\\nprint(obj.address())\\n\\n#using the method defined in class\\nprint(\"All Namespace\")\\nprint(obj.getNamespace())\\n\\nprint(\"\\\\n\\\\n Using Locals\") \\n#similarly using the locals\\nA=obj.locals\\nprint(A)\\nfor i,j in A.items():\\n    print(i,\":\",j)', '# Write your code here\\nobj=Person(\"arun\",\"Punjab\",\"Jalandhar\",18)\\n\\nprint(obj.address())\\n\\n#using the method defined in class\\nprint(\"All Namespace\")\\nprint(obj.getNamespace())\\n\\nprint(\"\\\\n\\\\n Using Locals\") \\n#similarly using the locals\\nA=obj.locals\\nprint(A)\\nfor i,j in A.items():\\n    print(i,\":\",j)\\n\\nprint(\"\\\\n\\\\n Using __dict__\") \\nfor i in obj.__dict__:\\n    print(i)', '# Write your code here\\nobj=Person(\"arun\",\"Punjab\",\"Jalandhar\",18)\\n\\nprint(obj.address())\\n\\n#using the method defined in class\\nprint(\"All Namespace\")\\nprint(obj.getNamespace())\\n\\nprint(\"\\\\n\\\\n Using Locals\") \\n#similarly using the locals\\nA=obj.locals\\nprint(A)\\nfor i,j in A.items():\\n    print(i,\":\",j)\\n\\nprint(\"\\\\n\\\\n Using __dict__\") \\nfor i in obj.__dict__.items():\\n    print(i)', '\"\"\"\\nsimple Example that provide all ways to use \\n\"\"\"\\nx = 100  # Global variable\\n\\nclass MyClass:\\n    class_var = \"class level\"\\n\\n    def __init__(self):\\n        self.attr1 = \"hello\"\\n        self.attr2 = 42\\n\\n    def method(self):\\n        local_var = \"I am local\"\\n\\n        print(\"\\\\n=== dir(self) ===\")\\n        print(dir(self))\\n\\n        print(\"\\\\n=== self.__dir__() ===\")\\n        print(self.__dir__())\\n\\n        print(\"\\\\n=== self.__dict__ ===\")\\n        print(self.__dict__)\\n\\n        print(\"\\\\n=== locals() in method ===\")\\n        print(locals())\\n\\n        print(\"\\\\n=== globals() in method ===\")\\n        print(globals().get(\\'x\\'))\\n\\n# Create instance\\nobj = MyClass()\\nobj.method()\\n\\nprint(\"\\\\n=== obj.__dict__ outside method ===\")\\nprint(obj.__dict__)\\n\\nprint(\"\\\\n=== MyClass.__dict__ (class attributes/methods) ===\")\\nprint(MyClass.__dict__)\\n\\nprint(\"\\\\n=== globals() outside ===\")\\nprint(globals())\\n\\nprint(\"\\\\n=== locals() outside ===\")\\nprint(locals())', '\"\"\"\\nsimple Example that provide all ways to use \\n\"\"\"\\nx = 100  # Global variable\\n\\nclass MyClass:\\n    class_var = \"class level\"\\n\\n    def __init__(self):\\n        self.attr1 = \"hello\"\\n        self.attr2 = 42\\n\\n    def method(self):\\n        local_var = \"I am local\"\\n\\n        print(\"\\\\n=== dir(self) ===\")\\n        print(dir(self))\\n\\n        print(\"\\\\n=== self.__dir__() ===\")\\n        print(self.__dir__())\\n\\n        print(\"\\\\n=== self.__dict__ ===\")\\n        print(self.__dict__)\\n\\n        print(\"\\\\n=== locals() in method ===\")\\n        print(locals())\\n\\n        print(\"\\\\n=== globals() in method ===\")\\n        print(globals())\\n\\n# Create instance\\nobj = MyClass()\\nobj.method()\\n\\nprint(\"\\\\n=== obj.__dict__ outside method ===\")\\nprint(obj.__dict__)\\n\\nprint(\"\\\\n=== MyClass.__dict__ (class attributes/methods) ===\")\\nprint(MyClass.__dict__)\\n\\nprint(\"\\\\n=== globals() outside ===\")\\nprint(globals())\\n\\nprint(\"\\\\n=== locals() outside ===\")\\nprint(locals())'], 'Out': {6: mappingproxy({'__module__': '__main__', '__firstlineno__': 2, '__init__': <function Person.__init__ at 0x00000209DA0585E0>, 'address': <function Person.address at 0x00000209DA0587C0>, 'getCity': <function Person.getCity at 0x00000209DA058680>, 'getAge': <function Person.getAge at 0x00000209DA058D60>, 'getNamespace': <function Person.getNamespace at 0x00000209DA058AE0>, '__static_attributes__': ('__age', '__city', 'locals', 'name', 'state'), '__dict__': <attribute '__dict__' of 'Person' objects>, '__weakref__': <attribute '__weakref__' of 'Person' objects>, '__doc__': None})}, 'get_ipython': <bound method InteractiveShell.get_ipython of <ipykernel.zmqshell.ZMQInteractiveShell object at 0x00000209D97EEE40>>, 'exit': <IPython.core.autocall.ZMQExitAutocall object at 0x00000209D9880830>, 'quit': <IPython.core.autocall.ZMQExitAutocall object at 0x00000209D9880830>, 'open': <function open at 0x00000209D783CEA0>, '_': mappingproxy({'__module__': '__main__', '__firstlineno__': 2, '__init__': <function Person.__init__ at 0x00000209DA0585E0>, 'address': <function Person.address at 0x00000209DA0587C0>, 'getCity': <function Person.getCity at 0x00000209DA058680>, 'getAge': <function Person.getAge at 0x00000209DA058D60>, 'getNamespace': <function Person.getNamespace at 0x00000209DA058AE0>, '__static_attributes__': ('__age', '__city', 'locals', 'name', 'state'), '__dict__': <attribute '__dict__' of 'Person' objects>, '__weakref__': <attribute '__weakref__' of 'Person' objects>, '__doc__': None}), '__': '', '___': '', '__vsc_ipynb_file__': 'c:\\\\Users\\\\a\\\\Desktop\\\\PYTHON\\\\rAdavnceTOpics\\\\DAY27Practice\\\\Practice.ipynb', '_i': '\"\"\"\\nsimple Example that provide all ways to use \\n\"\"\"\\nx = 100  # Global variable\\n\\nclass MyClass:\\n    class_var = \"class level\"\\n\\n    def __init__(self):\\n        self.attr1 = \"hello\"\\n        self.attr2 = 42\\n\\n    def method(self):\\n        local_var = \"I am local\"\\n\\n        print(\"\\\\n=== dir(self) ===\")\\n        print(dir(self))\\n\\n        print(\"\\\\n=== self.__dir__() ===\")\\n        print(self.__dir__())\\n\\n        print(\"\\\\n=== self.__dict__ ===\")\\n        print(self.__dict__)\\n\\n        print(\"\\\\n=== locals() in method ===\")\\n        print(locals())\\n\\n        print(\"\\\\n=== globals() in method ===\")\\n        print(globals().get(\\'x\\'))\\n\\n# Create instance\\nobj = MyClass()\\nobj.method()\\n\\nprint(\"\\\\n=== obj.__dict__ outside method ===\")\\nprint(obj.__dict__)\\n\\nprint(\"\\\\n=== MyClass.__dict__ (class attributes/methods) ===\")\\nprint(MyClass.__dict__)\\n\\nprint(\"\\\\n=== globals() outside ===\")\\nprint(globals())\\n\\nprint(\"\\\\n=== locals() outside ===\")\\nprint(locals())', '_ii': '# Write your code here\\nobj=Person(\"arun\",\"Punjab\",\"Jalandhar\",18)\\n\\nprint(obj.address())\\n\\n#using the method defined in class\\nprint(\"All Namespace\")\\nprint(obj.getNamespace())\\n\\nprint(\"\\\\n\\\\n Using Locals\") \\n#similarly using the locals\\nA=obj.locals\\nprint(A)\\nfor i,j in A.items():\\n    print(i,\":\",j)\\n\\nprint(\"\\\\n\\\\n Using __dict__\") \\nfor i in obj.__dict__.items():\\n    print(i)', '_iii': '# Write your code here\\nobj=Person(\"arun\",\"Punjab\",\"Jalandhar\",18)\\n\\nprint(obj.address())\\n\\n#using the method defined in class\\nprint(\"All Namespace\")\\nprint(obj.getNamespace())\\n\\nprint(\"\\\\n\\\\n Using Locals\") \\n#similarly using the locals\\nA=obj.locals\\nprint(A)\\nfor i,j in A.items():\\n    print(i,\":\",j)\\n\\nprint(\"\\\\n\\\\n Using __dict__\") \\nfor i in obj.__dict__:\\n    print(i)', '_i1': '#Write your code here\\nclass Person:\\n    def __init__(self,name,state,city,age):\\n        self.name=name\\n        self.state=state\\n        self.__city=city\\n        self.__age=age\\n        self.locals=locals()\\n    \\n    def address(self):\\n        return f\"<{self.name}> ,<{self.getCity() } > ,<{self.state}>\"\\n    def getCity(self):\\n        return self.__city\\n    def getAge(self):\\n        return self.__age\\n    def getNamespace(self):\\n        print(self.locals)\\n        for i in self.locals:\\n            print(i)', 'Person': <class '__main__.Person'>, '_i2': '#Write your code here\\nclass Person:\\n    def __init__(self,name,state,city,age):\\n        self.name=name\\n        self.state=state\\n        self.__city=city\\n        self.__age=age\\n        self.locals=locals()\\n    \\n    def address(self):\\n        return f\"<{self.name}> ,<{self.getCity() } > ,<{self.state}>\"\\n    def getCity(self):\\n        return self.__city\\n    def getAge(self):\\n        return self.__age\\n    \\n    \\n    def getNamespace(self):\\n        print(self.locals)\\n        for i in self.locals:\\n            print(i)', '_i3': '#Write your code here\\nclass Person:\\n    def __init__(self,name,state,city,age):\\n        self.name=name\\n        self.state=state\\n        self.__city=city\\n        self.__age=age\\n        self.locals=locals()\\n    \\n    def address(self):\\n        return f\"<{self.name}> ,<{self.getCity() } > ,<{self.state}>\"\\n    def getCity(self):\\n        return self.__city\\n    def getAge(self):\\n        return self.__age\\n    \\n\\n    def getNamespace(self):\\n        print(self.locals)\\n        for i in self.locals:\\n            print(i)\\n\\nobj=Person()\\nobj.__dict___()', '_i4': '#Write your code here\\nclass Person:\\n    def __init__(self,name,state,city,age):\\n        self.name=name\\n        self.state=state\\n        self.__city=city\\n        self.__age=age\\n        self.locals=locals()\\n    \\n    def address(self):\\n        return f\"<{self.name}> ,<{self.getCity() } > ,<{self.state}>\"\\n    def getCity(self):\\n        return self.__city\\n    def getAge(self):\\n        return self.__age\\n    \\n\\n    def getNamespace(self):\\n        print(self.locals)\\n        for i in self.locals:\\n            print(i)\\n\\nobj=Person\\nobj.__dict___()', 'obj': <__main__.MyClass object at 0x00000209D9A22CF0>, '_i5': '#Write your code here\\nclass Person:\\n    def __init__(self,name,state,city,age):\\n        self.name=name\\n        self.state=state\\n        self.__city=city\\n        self.__age=age\\n        self.locals=locals()\\n    \\n    def address(self):\\n        return f\"<{self.name}> ,<{self.getCity() } > ,<{self.state}>\"\\n    def getCity(self):\\n        return self.__city\\n    def getAge(self):\\n        return self.__age\\n    \\n\\n    def getNamespace(self):\\n        print(self.locals)\\n        for i in self.locals:\\n            print(i)\\n\\nobj=Person(\"varun\",\"Punjab\",\"Jalandhar\",18)\\nobj.__dict___()', '_i6': '#Write your code here\\nclass Person:\\n    def __init__(self,name,state,city,age):\\n        self.name=name\\n        self.state=state\\n        self.__city=city\\n        self.__age=age\\n        self.locals=locals()\\n    \\n    def address(self):\\n        return f\"<{self.name}> ,<{self.getCity() } > ,<{self.state}>\"\\n    def getCity(self):\\n        return self.__city\\n    def getAge(self):\\n        return self.__age\\n    \\n\\n    def getNamespace(self):\\n        print(self.locals)\\n        for i in self.locals:\\n            print(i)\\n\\n# to view the Person CLass Namespace \\n# we can use the __dict__ \\nPerson.__dict__', '_6': mappingproxy({'__module__': '__main__', '__firstlineno__': 2, '__init__': <function Person.__init__ at 0x00000209DA0585E0>, 'address': <function Person.address at 0x00000209DA0587C0>, 'getCity': <function Person.getCity at 0x00000209DA058680>, 'getAge': <function Person.getAge at 0x00000209DA058D60>, 'getNamespace': <function Person.getNamespace at 0x00000209DA058AE0>, '__static_attributes__': ('__age', '__city', 'locals', 'name', 'state'), '__dict__': <attribute '__dict__' of 'Person' objects>, '__weakref__': <attribute '__weakref__' of 'Person' objects>, '__doc__': None}), '_i7': '#Write your code here\\nclass Person:\\n    def __init__(self,name,state,city,age):\\n        self.name=name\\n        self.state=state\\n        self.__city=city\\n        self.__age=age\\n        self.locals=locals()\\n    \\n    def address(self):\\n        return f\"<{self.name}> ,<{self.getCity() } > ,<{self.state}>\"\\n    def getCity(self):\\n        return self.__city\\n    def getAge(self):\\n        return self.__age\\n    \\n\\n    def getNamespace(self):\\n        print(self.locals)\\n        for i in self.locals:\\n            print(i)\\n\\n# to view the Person CLass Namespace \\n# we can use the __dict__ \\nfor i in Person.__dict__:\\n    print(i)', 'i': ('locals', {'self': <__main__.Person object at 0x00000209D984FD50>, 'name': 'arun', 'state': 'Punjab', 'city': 'Jalandhar', 'age': 18}), '_i8': '#Write your code here\\nclass Person:\\n    def __init__(self,name,state,city,age):\\n        self.name=name\\n        self.state=state\\n        self.__city=city\\n        self.__age=age\\n        self.locals=locals()\\n    \\n    def address(self):\\n        return f\"<{self.name}> ,<{self.getCity() } > ,<{self.state}>\"\\n    def getCity(self):\\n        return self.__city\\n    def getAge(self):\\n        return self.__age\\n    \\n\\n    def getNamespace(self):\\n        print(self.locals)\\n        for i in self.locals:\\n            print(i)\\n\\n# to view the Person CLass Namespace \\n# we can use the __dict__ \\nfor i in Person.__dict__:\\n    print(i)\\nobj=Person(\"varun\",\"Punjab\",\"Jalandhar\",18)\\nprint(obj.getNamespace())', '_i9': '#Write your code here\\nclass Person:\\n    def __init__(self,name,state,city,age):\\n        self.name=name\\n        self.state=state\\n        self.__city=city\\n        self.__age=age\\n        self.locals=locals()\\n    \\n    def address(self):\\n        return f\"<{self.name}> ,<{self.getCity() } > ,<{self.state}>\"\\n    def getCity(self):\\n        return self.__city\\n    def getAge(self):\\n        return self.__age\\n    \\n\\n    def getNamespace(self):\\n        print(self.locals)\\n        for i in self.locals:\\n            print(i)\\n\\n# to view the Person CLass Namespace \\n# we can use the __dict__ \\nfor i in Person.__dict__:\\n    print(i)', '_i10': '#Write your code here\\nclass Person:\\n    def __init__(self,name,state,city,age):\\n        self.name=name\\n        self.state=state\\n        self.__city=city\\n        self.__age=age\\n        self.locals=locals()\\n    \\n    def address(self):\\n        return f\"<{self.name}> ,<{self.getCity() } > ,<{self.state}>\"\\n    def getCity(self):\\n        return self.__city\\n    def getAge(self):\\n        return self.__age\\n    \\n\\n    def getNamespace(self):\\n        print(self.locals)\\n        for i in self.locals:\\n            print(i)', '_i11': '\\n# to view the Person CLass Namespace \\n# we can use the __dict__ \\nfor i in Person.__dict__:\\n    print(i)', '_i12': '# Write your code here\\nobj=Person(\"arun\",\"Punjab\",\"Jalandhar\",18)\\n\\nprint(obj.address())\\nprint(\"All Namespace\")\\nprint(obj.getNamespace())', '_i13': '#Write your code here\\nclass Person:\\n    def __init__(self,name,state,city,age):\\n        self.name=name\\n        self.state=state\\n        self.__city=city\\n        self.__age=age\\n        self.locals=locals()\\n    \\n    def address(self):\\n        return f\"<{self.name}> ,<{self.getCity() } > ,<{self.state}>\"\\n    def getCity(self):\\n        return self.__city\\n    def getAge(self):\\n        return self.__age\\n    \\n\\n    def getNamespace(self):\\n        for i in self.locals():\\n            print(i)', '_i14': '\\n# to view the Person CLass Namespace \\n# we can use the __dict__ \\nfor i in Person.__dict__:\\n    print(i)', '_i15': '# Write your code here\\nobj=Person(\"arun\",\"Punjab\",\"Jalandhar\",18)\\n\\nprint(obj.address())\\nprint(\"All Namespace\")\\nprint(obj.getNamespace())', '_i16': '#Write your code here\\nclass Person:\\n    def __init__(self,name,state,city,age):\\n        self.name=name\\n        self.state=state\\n        self.__city=city\\n        self.__age=age\\n        self.locals=locals()\\n    \\n    def address(self):\\n        return f\"<{self.name}> ,<{self.getCity() } > ,<{self.state}>\"\\n    def getCity(self):\\n        return self.__city\\n    def getAge(self):\\n        return self.__age\\n    def getNamespace(self):\\n        for i in self.locals.items():\\n            print(i)', '_i17': '\\n# to view the Person CLass Namespace \\n# we can use the __dict__ \\nfor i in Person.__dict__:\\n    print(i)', '_i18': '# Write your code here\\nobj=Person(\"arun\",\"Punjab\",\"Jalandhar\",18)\\n\\nprint(obj.address())\\nprint(\"All Namespace\")\\nprint(obj.getNamespace())', '_i19': '# Write your code here\\nobj=Person(\"arun\",\"Punjab\",\"Jalandhar\",18)\\n\\nprint(obj.address())\\n\\nprint(\"All Namespace\")\\nprint(obj.getNamespace())', '_i20': '# Write your code here\\nobj=Person(\"arun\",\"Punjab\",\"Jalandhar\",18)\\n\\nprint(obj.address())\\n\\nprint(\"All Namespace\")\\nprint(obj.getNamespace())', '_i21': '# Write your code here\\nobj=Person(\"arun\",\"Punjab\",\"Jalandhar\",18)\\n\\nprint(obj.address())\\n\\n#using the method defined in class\\nprint(\"All Namespace\")\\nprint(obj.getNamespace())\\n\\n# similarly using the locals\\nA=obj.locals()\\nfor i in A:\\n    print(i)', '_i22': '# Write your code here\\nobj=Person(\"arun\",\"Punjab\",\"Jalandhar\",18)\\n\\nprint(obj.address())\\n\\n#using the method defined in class\\nprint(\"All Namespace\")\\nprint(obj.getNamespace())\\n\\n# similarly using the locals\\nA=obj.locals\\nfor i in A:\\n    print(i)', 'A': {'self': <__main__.Person object at 0x00000209D984FD50>, 'name': 'arun', 'state': 'Punjab', 'city': 'Jalandhar', 'age': 18}, '_i23': '# Write your code here\\nobj=Person(\"arun\",\"Punjab\",\"Jalandhar\",18)\\n\\nprint(obj.address())\\n\\n#using the method defined in class\\nprint(\"All Namespace\")\\nprint(obj.getNamespace())\\n\\n# similarly using the locals\\nA=obj.locals\\nprint(A)\\nfor i in A:\\n    print(i)', '_i24': '# Write your code here\\nobj=Person(\"arun\",\"Punjab\",\"Jalandhar\",18)\\n\\nprint(obj.address())\\n\\n#using the method defined in class\\nprint(\"All Namespace\")\\nprint(obj.getNamespace())\\n\\n# similarly using the locals\\nA=obj.locals\\nprint(A)\\nfor i,j in A.items():\\n    print(i,\":\",j)', 'j': 18, '_i25': '# Write your code here\\nobj=Person(\"arun\",\"Punjab\",\"Jalandhar\",18)\\n\\nprint(obj.address())\\n\\n#using the method defined in class\\nprint(\"All Namespace\")\\nprint(obj.getNamespace())\\n\\nprint(\"\\\\n\\\\n Using Locals\") \\n#similarly using the locals\\nA=obj.locals\\nprint(A)\\nfor i,j in A.items():\\n    print(i,\":\",j)', '_i26': '# Write your code here\\nobj=Person(\"arun\",\"Punjab\",\"Jalandhar\",18)\\n\\nprint(obj.address())\\n\\n#using the method defined in class\\nprint(\"All Namespace\")\\nprint(obj.getNamespace())\\n\\nprint(\"\\\\n\\\\n Using Locals\") \\n#similarly using the locals\\nA=obj.locals\\nprint(A)\\nfor i,j in A.items():\\n    print(i,\":\",j)\\n\\nprint(\"\\\\n\\\\n Using __dict__\") \\nfor i in obj.__dict__:\\n    print(i)', '_i27': '# Write your code here\\nobj=Person(\"arun\",\"Punjab\",\"Jalandhar\",18)\\n\\nprint(obj.address())\\n\\n#using the method defined in class\\nprint(\"All Namespace\")\\nprint(obj.getNamespace())\\n\\nprint(\"\\\\n\\\\n Using Locals\") \\n#similarly using the locals\\nA=obj.locals\\nprint(A)\\nfor i,j in A.items():\\n    print(i,\":\",j)\\n\\nprint(\"\\\\n\\\\n Using __dict__\") \\nfor i in obj.__dict__.items():\\n    print(i)', '_i28': '\"\"\"\\nsimple Example that provide all ways to use \\n\"\"\"\\nx = 100  # Global variable\\n\\nclass MyClass:\\n    class_var = \"class level\"\\n\\n    def __init__(self):\\n        self.attr1 = \"hello\"\\n        self.attr2 = 42\\n\\n    def method(self):\\n        local_var = \"I am local\"\\n\\n        print(\"\\\\n=== dir(self) ===\")\\n        print(dir(self))\\n\\n        print(\"\\\\n=== self.__dir__() ===\")\\n        print(self.__dir__())\\n\\n        print(\"\\\\n=== self.__dict__ ===\")\\n        print(self.__dict__)\\n\\n        print(\"\\\\n=== locals() in method ===\")\\n        print(locals())\\n\\n        print(\"\\\\n=== globals() in method ===\")\\n        print(globals().get(\\'x\\'))\\n\\n# Create instance\\nobj = MyClass()\\nobj.method()\\n\\nprint(\"\\\\n=== obj.__dict__ outside method ===\")\\nprint(obj.__dict__)\\n\\nprint(\"\\\\n=== MyClass.__dict__ (class attributes/methods) ===\")\\nprint(MyClass.__dict__)\\n\\nprint(\"\\\\n=== globals() outside ===\")\\nprint(globals())\\n\\nprint(\"\\\\n=== locals() outside ===\")\\nprint(locals())', 'x': 100, 'MyClass': <class '__main__.MyClass'>, '_i29': '\"\"\"\\nsimple Example that provide all ways to use \\n\"\"\"\\nx = 100  # Global variable\\n\\nclass MyClass:\\n    class_var = \"class level\"\\n\\n    def __init__(self):\\n        self.attr1 = \"hello\"\\n        self.attr2 = 42\\n\\n    def method(self):\\n        local_var = \"I am local\"\\n\\n        print(\"\\\\n=== dir(self) ===\")\\n        print(dir(self))\\n\\n        print(\"\\\\n=== self.__dir__() ===\")\\n        print(self.__dir__())\\n\\n        print(\"\\\\n=== self.__dict__ ===\")\\n        print(self.__dict__)\\n\\n        print(\"\\\\n=== locals() in method ===\")\\n        print(locals())\\n\\n        print(\"\\\\n=== globals() in method ===\")\\n        print(globals())\\n\\n# Create instance\\nobj = MyClass()\\nobj.method()\\n\\nprint(\"\\\\n=== obj.__dict__ outside method ===\")\\nprint(obj.__dict__)\\n\\nprint(\"\\\\n=== MyClass.__dict__ (class attributes/methods) ===\")\\nprint(MyClass.__dict__)\\n\\nprint(\"\\\\n=== globals() outside ===\")\\nprint(globals())\\n\\nprint(\"\\\\n=== locals() outside ===\")\\nprint(locals())'}\n",
            "\n",
            "=== locals() outside ===\n",
            "{'__name__': '__main__', '__doc__': '\\nsimple Example that provide all ways to use \\n', '__package__': None, '__loader__': None, '__spec__': None, '__builtin__': <module 'builtins' (built-in)>, '__builtins__': <module 'builtins' (built-in)>, '_ih': ['', '#Write your code here\\nclass Person:\\n    def __init__(self,name,state,city,age):\\n        self.name=name\\n        self.state=state\\n        self.__city=city\\n        self.__age=age\\n        self.locals=locals()\\n\\n    def address(self):\\n        return f\"<{self.name}> ,<{self.getCity() } > ,<{self.state}>\"\\n    def getCity(self):\\n        return self.__city\\n    def getAge(self):\\n        return self.__age\\n    def getNamespace(self):\\n        print(self.locals)\\n        for i in self.locals:\\n            print(i)', '#Write your code here\\nclass Person:\\n    def __init__(self,name,state,city,age):\\n        self.name=name\\n        self.state=state\\n        self.__city=city\\n        self.__age=age\\n        self.locals=locals()\\n\\n    def address(self):\\n        return f\"<{self.name}> ,<{self.getCity() } > ,<{self.state}>\"\\n    def getCity(self):\\n        return self.__city\\n    def getAge(self):\\n        return self.__age\\n\\n\\n    def getNamespace(self):\\n        print(self.locals)\\n        for i in self.locals:\\n            print(i)', '#Write your code here\\nclass Person:\\n    def __init__(self,name,state,city,age):\\n        self.name=name\\n        self.state=state\\n        self.__city=city\\n        self.__age=age\\n        self.locals=locals()\\n\\n    def address(self):\\n        return f\"<{self.name}> ,<{self.getCity() } > ,<{self.state}>\"\\n    def getCity(self):\\n        return self.__city\\n    def getAge(self):\\n        return self.__age\\n\\n\\n    def getNamespace(self):\\n        print(self.locals)\\n        for i in self.locals:\\n            print(i)\\n\\nobj=Person()\\nobj.__dict___()', '#Write your code here\\nclass Person:\\n    def __init__(self,name,state,city,age):\\n        self.name=name\\n        self.state=state\\n        self.__city=city\\n        self.__age=age\\n        self.locals=locals()\\n\\n    def address(self):\\n        return f\"<{self.name}> ,<{self.getCity() } > ,<{self.state}>\"\\n    def getCity(self):\\n        return self.__city\\n    def getAge(self):\\n        return self.__age\\n\\n\\n    def getNamespace(self):\\n        print(self.locals)\\n        for i in self.locals:\\n            print(i)\\n\\nobj=Person\\nobj.__dict___()', '#Write your code here\\nclass Person:\\n    def __init__(self,name,state,city,age):\\n        self.name=name\\n        self.state=state\\n        self.__city=city\\n        self.__age=age\\n        self.locals=locals()\\n\\n    def address(self):\\n        return f\"<{self.name}> ,<{self.getCity() } > ,<{self.state}>\"\\n    def getCity(self):\\n        return self.__city\\n    def getAge(self):\\n        return self.__age\\n\\n\\n    def getNamespace(self):\\n        print(self.locals)\\n        for i in self.locals:\\n            print(i)\\n\\nobj=Person(\"varun\",\"Punjab\",\"Jalandhar\",18)\\nobj.__dict___()', '#Write your code here\\nclass Person:\\n    def __init__(self,name,state,city,age):\\n        self.name=name\\n        self.state=state\\n        self.__city=city\\n        self.__age=age\\n        self.locals=locals()\\n\\n    def address(self):\\n        return f\"<{self.name}> ,<{self.getCity() } > ,<{self.state}>\"\\n    def getCity(self):\\n        return self.__city\\n    def getAge(self):\\n        return self.__age\\n\\n\\n    def getNamespace(self):\\n        print(self.locals)\\n        for i in self.locals:\\n            print(i)\\n\\n# to view the Person CLass Namespace \\n# we can use the __dict__ \\nPerson.__dict__', '#Write your code here\\nclass Person:\\n    def __init__(self,name,state,city,age):\\n        self.name=name\\n        self.state=state\\n        self.__city=city\\n        self.__age=age\\n        self.locals=locals()\\n\\n    def address(self):\\n        return f\"<{self.name}> ,<{self.getCity() } > ,<{self.state}>\"\\n    def getCity(self):\\n        return self.__city\\n    def getAge(self):\\n        return self.__age\\n\\n\\n    def getNamespace(self):\\n        print(self.locals)\\n        for i in self.locals:\\n            print(i)\\n\\n# to view the Person CLass Namespace \\n# we can use the __dict__ \\nfor i in Person.__dict__:\\n    print(i)', '#Write your code here\\nclass Person:\\n    def __init__(self,name,state,city,age):\\n        self.name=name\\n        self.state=state\\n        self.__city=city\\n        self.__age=age\\n        self.locals=locals()\\n\\n    def address(self):\\n        return f\"<{self.name}> ,<{self.getCity() } > ,<{self.state}>\"\\n    def getCity(self):\\n        return self.__city\\n    def getAge(self):\\n        return self.__age\\n\\n\\n    def getNamespace(self):\\n        print(self.locals)\\n        for i in self.locals:\\n            print(i)\\n\\n# to view the Person CLass Namespace \\n# we can use the __dict__ \\nfor i in Person.__dict__:\\n    print(i)\\nobj=Person(\"varun\",\"Punjab\",\"Jalandhar\",18)\\nprint(obj.getNamespace())', '#Write your code here\\nclass Person:\\n    def __init__(self,name,state,city,age):\\n        self.name=name\\n        self.state=state\\n        self.__city=city\\n        self.__age=age\\n        self.locals=locals()\\n\\n    def address(self):\\n        return f\"<{self.name}> ,<{self.getCity() } > ,<{self.state}>\"\\n    def getCity(self):\\n        return self.__city\\n    def getAge(self):\\n        return self.__age\\n\\n\\n    def getNamespace(self):\\n        print(self.locals)\\n        for i in self.locals:\\n            print(i)\\n\\n# to view the Person CLass Namespace \\n# we can use the __dict__ \\nfor i in Person.__dict__:\\n    print(i)', '#Write your code here\\nclass Person:\\n    def __init__(self,name,state,city,age):\\n        self.name=name\\n        self.state=state\\n        self.__city=city\\n        self.__age=age\\n        self.locals=locals()\\n\\n    def address(self):\\n        return f\"<{self.name}> ,<{self.getCity() } > ,<{self.state}>\"\\n    def getCity(self):\\n        return self.__city\\n    def getAge(self):\\n        return self.__age\\n\\n\\n    def getNamespace(self):\\n        print(self.locals)\\n        for i in self.locals:\\n            print(i)', '# to view the Person CLass Namespace \\n# we can use the __dict__ \\nfor i in Person.__dict__:\\n    print(i)', '# Write your code here\\nobj=Person(\"arun\",\"Punjab\",\"Jalandhar\",18)\\n\\nprint(obj.address())\\nprint(\"All Namespace\")\\nprint(obj.getNamespace())', '#Write your code here\\nclass Person:\\n    def __init__(self,name,state,city,age):\\n        self.name=name\\n        self.state=state\\n        self.__city=city\\n        self.__age=age\\n        self.locals=locals()\\n\\n    def address(self):\\n        return f\"<{self.name}> ,<{self.getCity() } > ,<{self.state}>\"\\n    def getCity(self):\\n        return self.__city\\n    def getAge(self):\\n        return self.__age\\n\\n\\n    def getNamespace(self):\\n        for i in self.locals():\\n            print(i)', '# to view the Person CLass Namespace \\n# we can use the __dict__ \\nfor i in Person.__dict__:\\n    print(i)', '# Write your code here\\nobj=Person(\"arun\",\"Punjab\",\"Jalandhar\",18)\\n\\nprint(obj.address())\\nprint(\"All Namespace\")\\nprint(obj.getNamespace())', '#Write your code here\\nclass Person:\\n    def __init__(self,name,state,city,age):\\n        self.name=name\\n        self.state=state\\n        self.__city=city\\n        self.__age=age\\n        self.locals=locals()\\n\\n    def address(self):\\n        return f\"<{self.name}> ,<{self.getCity() } > ,<{self.state}>\"\\n    def getCity(self):\\n        return self.__city\\n    def getAge(self):\\n        return self.__age\\n    def getNamespace(self):\\n        for i in self.locals.items():\\n            print(i)', '# to view the Person CLass Namespace \\n# we can use the __dict__ \\nfor i in Person.__dict__:\\n    print(i)', '# Write your code here\\nobj=Person(\"arun\",\"Punjab\",\"Jalandhar\",18)\\n\\nprint(obj.address())\\nprint(\"All Namespace\")\\nprint(obj.getNamespace())', '# Write your code here\\nobj=Person(\"arun\",\"Punjab\",\"Jalandhar\",18)\\n\\nprint(obj.address())\\n\\nprint(\"All Namespace\")\\nprint(obj.getNamespace())', '# Write your code here\\nobj=Person(\"arun\",\"Punjab\",\"Jalandhar\",18)\\n\\nprint(obj.address())\\n\\nprint(\"All Namespace\")\\nprint(obj.getNamespace())', '# Write your code here\\nobj=Person(\"arun\",\"Punjab\",\"Jalandhar\",18)\\n\\nprint(obj.address())\\n\\n#using the method defined in class\\nprint(\"All Namespace\")\\nprint(obj.getNamespace())\\n\\n# similarly using the locals\\nA=obj.locals()\\nfor i in A:\\n    print(i)', '# Write your code here\\nobj=Person(\"arun\",\"Punjab\",\"Jalandhar\",18)\\n\\nprint(obj.address())\\n\\n#using the method defined in class\\nprint(\"All Namespace\")\\nprint(obj.getNamespace())\\n\\n# similarly using the locals\\nA=obj.locals\\nfor i in A:\\n    print(i)', '# Write your code here\\nobj=Person(\"arun\",\"Punjab\",\"Jalandhar\",18)\\n\\nprint(obj.address())\\n\\n#using the method defined in class\\nprint(\"All Namespace\")\\nprint(obj.getNamespace())\\n\\n# similarly using the locals\\nA=obj.locals\\nprint(A)\\nfor i in A:\\n    print(i)', '# Write your code here\\nobj=Person(\"arun\",\"Punjab\",\"Jalandhar\",18)\\n\\nprint(obj.address())\\n\\n#using the method defined in class\\nprint(\"All Namespace\")\\nprint(obj.getNamespace())\\n\\n# similarly using the locals\\nA=obj.locals\\nprint(A)\\nfor i,j in A.items():\\n    print(i,\":\",j)', '# Write your code here\\nobj=Person(\"arun\",\"Punjab\",\"Jalandhar\",18)\\n\\nprint(obj.address())\\n\\n#using the method defined in class\\nprint(\"All Namespace\")\\nprint(obj.getNamespace())\\n\\nprint(\"\\\\n\\\\n Using Locals\") \\n#similarly using the locals\\nA=obj.locals\\nprint(A)\\nfor i,j in A.items():\\n    print(i,\":\",j)', '# Write your code here\\nobj=Person(\"arun\",\"Punjab\",\"Jalandhar\",18)\\n\\nprint(obj.address())\\n\\n#using the method defined in class\\nprint(\"All Namespace\")\\nprint(obj.getNamespace())\\n\\nprint(\"\\\\n\\\\n Using Locals\") \\n#similarly using the locals\\nA=obj.locals\\nprint(A)\\nfor i,j in A.items():\\n    print(i,\":\",j)\\n\\nprint(\"\\\\n\\\\n Using __dict__\") \\nfor i in obj.__dict__:\\n    print(i)', '# Write your code here\\nobj=Person(\"arun\",\"Punjab\",\"Jalandhar\",18)\\n\\nprint(obj.address())\\n\\n#using the method defined in class\\nprint(\"All Namespace\")\\nprint(obj.getNamespace())\\n\\nprint(\"\\\\n\\\\n Using Locals\") \\n#similarly using the locals\\nA=obj.locals\\nprint(A)\\nfor i,j in A.items():\\n    print(i,\":\",j)\\n\\nprint(\"\\\\n\\\\n Using __dict__\") \\nfor i in obj.__dict__.items():\\n    print(i)', '\"\"\"\\nsimple Example that provide all ways to use \\n\"\"\"\\nx = 100  # Global variable\\n\\nclass MyClass:\\n    class_var = \"class level\"\\n\\n    def __init__(self):\\n        self.attr1 = \"hello\"\\n        self.attr2 = 42\\n\\n    def method(self):\\n        local_var = \"I am local\"\\n\\n        print(\"\\\\n=== dir(self) ===\")\\n        print(dir(self))\\n\\n        print(\"\\\\n=== self.__dir__() ===\")\\n        print(self.__dir__())\\n\\n        print(\"\\\\n=== self.__dict__ ===\")\\n        print(self.__dict__)\\n\\n        print(\"\\\\n=== locals() in method ===\")\\n        print(locals())\\n\\n        print(\"\\\\n=== globals() in method ===\")\\n        print(globals().get(\\'x\\'))\\n\\n# Create instance\\nobj = MyClass()\\nobj.method()\\n\\nprint(\"\\\\n=== obj.__dict__ outside method ===\")\\nprint(obj.__dict__)\\n\\nprint(\"\\\\n=== MyClass.__dict__ (class attributes/methods) ===\")\\nprint(MyClass.__dict__)\\n\\nprint(\"\\\\n=== globals() outside ===\")\\nprint(globals())\\n\\nprint(\"\\\\n=== locals() outside ===\")\\nprint(locals())', '\"\"\"\\nsimple Example that provide all ways to use \\n\"\"\"\\nx = 100  # Global variable\\n\\nclass MyClass:\\n    class_var = \"class level\"\\n\\n    def __init__(self):\\n        self.attr1 = \"hello\"\\n        self.attr2 = 42\\n\\n    def method(self):\\n        local_var = \"I am local\"\\n\\n        print(\"\\\\n=== dir(self) ===\")\\n        print(dir(self))\\n\\n        print(\"\\\\n=== self.__dir__() ===\")\\n        print(self.__dir__())\\n\\n        print(\"\\\\n=== self.__dict__ ===\")\\n        print(self.__dict__)\\n\\n        print(\"\\\\n=== locals() in method ===\")\\n        print(locals())\\n\\n        print(\"\\\\n=== globals() in method ===\")\\n        print(globals())\\n\\n# Create instance\\nobj = MyClass()\\nobj.method()\\n\\nprint(\"\\\\n=== obj.__dict__ outside method ===\")\\nprint(obj.__dict__)\\n\\nprint(\"\\\\n=== MyClass.__dict__ (class attributes/methods) ===\")\\nprint(MyClass.__dict__)\\n\\nprint(\"\\\\n=== globals() outside ===\")\\nprint(globals())\\n\\nprint(\"\\\\n=== locals() outside ===\")\\nprint(locals())'], '_oh': {6: mappingproxy({'__module__': '__main__', '__firstlineno__': 2, '__init__': <function Person.__init__ at 0x00000209DA0585E0>, 'address': <function Person.address at 0x00000209DA0587C0>, 'getCity': <function Person.getCity at 0x00000209DA058680>, 'getAge': <function Person.getAge at 0x00000209DA058D60>, 'getNamespace': <function Person.getNamespace at 0x00000209DA058AE0>, '__static_attributes__': ('__age', '__city', 'locals', 'name', 'state'), '__dict__': <attribute '__dict__' of 'Person' objects>, '__weakref__': <attribute '__weakref__' of 'Person' objects>, '__doc__': None})}, '_dh': [WindowsPath('c:/Users/a/Desktop/PYTHON/rAdavnceTOpics/DAY27Practice')], 'In': ['', '#Write your code here\\nclass Person:\\n    def __init__(self,name,state,city,age):\\n        self.name=name\\n        self.state=state\\n        self.__city=city\\n        self.__age=age\\n        self.locals=locals()\\n\\n    def address(self):\\n        return f\"<{self.name}> ,<{self.getCity() } > ,<{self.state}>\"\\n    def getCity(self):\\n        return self.__city\\n    def getAge(self):\\n        return self.__age\\n    def getNamespace(self):\\n        print(self.locals)\\n        for i in self.locals:\\n            print(i)', '#Write your code here\\nclass Person:\\n    def __init__(self,name,state,city,age):\\n        self.name=name\\n        self.state=state\\n        self.__city=city\\n        self.__age=age\\n        self.locals=locals()\\n\\n    def address(self):\\n        return f\"<{self.name}> ,<{self.getCity() } > ,<{self.state}>\"\\n    def getCity(self):\\n        return self.__city\\n    def getAge(self):\\n        return self.__age\\n\\n\\n    def getNamespace(self):\\n        print(self.locals)\\n        for i in self.locals:\\n            print(i)', '#Write your code here\\nclass Person:\\n    def __init__(self,name,state,city,age):\\n        self.name=name\\n        self.state=state\\n        self.__city=city\\n        self.__age=age\\n        self.locals=locals()\\n\\n    def address(self):\\n        return f\"<{self.name}> ,<{self.getCity() } > ,<{self.state}>\"\\n    def getCity(self):\\n        return self.__city\\n    def getAge(self):\\n        return self.__age\\n\\n\\n    def getNamespace(self):\\n        print(self.locals)\\n        for i in self.locals:\\n            print(i)\\n\\nobj=Person()\\nobj.__dict___()', '#Write your code here\\nclass Person:\\n    def __init__(self,name,state,city,age):\\n        self.name=name\\n        self.state=state\\n        self.__city=city\\n        self.__age=age\\n        self.locals=locals()\\n\\n    def address(self):\\n        return f\"<{self.name}> ,<{self.getCity() } > ,<{self.state}>\"\\n    def getCity(self):\\n        return self.__city\\n    def getAge(self):\\n        return self.__age\\n\\n\\n    def getNamespace(self):\\n        print(self.locals)\\n        for i in self.locals:\\n            print(i)\\n\\nobj=Person\\nobj.__dict___()', '#Write your code here\\nclass Person:\\n    def __init__(self,name,state,city,age):\\n        self.name=name\\n        self.state=state\\n        self.__city=city\\n        self.__age=age\\n        self.locals=locals()\\n\\n    def address(self):\\n        return f\"<{self.name}> ,<{self.getCity() } > ,<{self.state}>\"\\n    def getCity(self):\\n        return self.__city\\n    def getAge(self):\\n        return self.__age\\n\\n\\n    def getNamespace(self):\\n        print(self.locals)\\n        for i in self.locals:\\n            print(i)\\n\\nobj=Person(\"varun\",\"Punjab\",\"Jalandhar\",18)\\nobj.__dict___()', '#Write your code here\\nclass Person:\\n    def __init__(self,name,state,city,age):\\n        self.name=name\\n        self.state=state\\n        self.__city=city\\n        self.__age=age\\n        self.locals=locals()\\n\\n    def address(self):\\n        return f\"<{self.name}> ,<{self.getCity() } > ,<{self.state}>\"\\n    def getCity(self):\\n        return self.__city\\n    def getAge(self):\\n        return self.__age\\n\\n\\n    def getNamespace(self):\\n        print(self.locals)\\n        for i in self.locals:\\n            print(i)\\n\\n# to view the Person CLass Namespace \\n# we can use the __dict__ \\nPerson.__dict__', '#Write your code here\\nclass Person:\\n    def __init__(self,name,state,city,age):\\n        self.name=name\\n        self.state=state\\n        self.__city=city\\n        self.__age=age\\n        self.locals=locals()\\n\\n    def address(self):\\n        return f\"<{self.name}> ,<{self.getCity() } > ,<{self.state}>\"\\n    def getCity(self):\\n        return self.__city\\n    def getAge(self):\\n        return self.__age\\n\\n\\n    def getNamespace(self):\\n        print(self.locals)\\n        for i in self.locals:\\n            print(i)\\n\\n# to view the Person CLass Namespace \\n# we can use the __dict__ \\nfor i in Person.__dict__:\\n    print(i)', '#Write your code here\\nclass Person:\\n    def __init__(self,name,state,city,age):\\n        self.name=name\\n        self.state=state\\n        self.__city=city\\n        self.__age=age\\n        self.locals=locals()\\n\\n    def address(self):\\n        return f\"<{self.name}> ,<{self.getCity() } > ,<{self.state}>\"\\n    def getCity(self):\\n        return self.__city\\n    def getAge(self):\\n        return self.__age\\n\\n\\n    def getNamespace(self):\\n        print(self.locals)\\n        for i in self.locals:\\n            print(i)\\n\\n# to view the Person CLass Namespace \\n# we can use the __dict__ \\nfor i in Person.__dict__:\\n    print(i)\\nobj=Person(\"varun\",\"Punjab\",\"Jalandhar\",18)\\nprint(obj.getNamespace())', '#Write your code here\\nclass Person:\\n    def __init__(self,name,state,city,age):\\n        self.name=name\\n        self.state=state\\n        self.__city=city\\n        self.__age=age\\n        self.locals=locals()\\n\\n    def address(self):\\n        return f\"<{self.name}> ,<{self.getCity() } > ,<{self.state}>\"\\n    def getCity(self):\\n        return self.__city\\n    def getAge(self):\\n        return self.__age\\n\\n\\n    def getNamespace(self):\\n        print(self.locals)\\n        for i in self.locals:\\n            print(i)\\n\\n# to view the Person CLass Namespace \\n# we can use the __dict__ \\nfor i in Person.__dict__:\\n    print(i)', '#Write your code here\\nclass Person:\\n    def __init__(self,name,state,city,age):\\n        self.name=name\\n        self.state=state\\n        self.__city=city\\n        self.__age=age\\n        self.locals=locals()\\n\\n    def address(self):\\n        return f\"<{self.name}> ,<{self.getCity() } > ,<{self.state}>\"\\n    def getCity(self):\\n        return self.__city\\n    def getAge(self):\\n        return self.__age\\n\\n\\n    def getNamespace(self):\\n        print(self.locals)\\n        for i in self.locals:\\n            print(i)', '# to view the Person CLass Namespace \\n# we can use the __dict__ \\nfor i in Person.__dict__:\\n    print(i)', '# Write your code here\\nobj=Person(\"arun\",\"Punjab\",\"Jalandhar\",18)\\n\\nprint(obj.address())\\nprint(\"All Namespace\")\\nprint(obj.getNamespace())', '#Write your code here\\nclass Person:\\n    def __init__(self,name,state,city,age):\\n        self.name=name\\n        self.state=state\\n        self.__city=city\\n        self.__age=age\\n        self.locals=locals()\\n\\n    def address(self):\\n        return f\"<{self.name}> ,<{self.getCity() } > ,<{self.state}>\"\\n    def getCity(self):\\n        return self.__city\\n    def getAge(self):\\n        return self.__age\\n\\n\\n    def getNamespace(self):\\n        for i in self.locals():\\n            print(i)', '# to view the Person CLass Namespace \\n# we can use the __dict__ \\nfor i in Person.__dict__:\\n    print(i)', '# Write your code here\\nobj=Person(\"arun\",\"Punjab\",\"Jalandhar\",18)\\n\\nprint(obj.address())\\nprint(\"All Namespace\")\\nprint(obj.getNamespace())', '#Write your code here\\nclass Person:\\n    def __init__(self,name,state,city,age):\\n        self.name=name\\n        self.state=state\\n        self.__city=city\\n        self.__age=age\\n        self.locals=locals()\\n\\n    def address(self):\\n        return f\"<{self.name}> ,<{self.getCity() } > ,<{self.state}>\"\\n    def getCity(self):\\n        return self.__city\\n    def getAge(self):\\n        return self.__age\\n    def getNamespace(self):\\n        for i in self.locals.items():\\n            print(i)', '# to view the Person CLass Namespace \\n# we can use the __dict__ \\nfor i in Person.__dict__:\\n    print(i)', '# Write your code here\\nobj=Person(\"arun\",\"Punjab\",\"Jalandhar\",18)\\n\\nprint(obj.address())\\nprint(\"All Namespace\")\\nprint(obj.getNamespace())', '# Write your code here\\nobj=Person(\"arun\",\"Punjab\",\"Jalandhar\",18)\\n\\nprint(obj.address())\\n\\nprint(\"All Namespace\")\\nprint(obj.getNamespace())', '# Write your code here\\nobj=Person(\"arun\",\"Punjab\",\"Jalandhar\",18)\\n\\nprint(obj.address())\\n\\nprint(\"All Namespace\")\\nprint(obj.getNamespace())', '# Write your code here\\nobj=Person(\"arun\",\"Punjab\",\"Jalandhar\",18)\\n\\nprint(obj.address())\\n\\n#using the method defined in class\\nprint(\"All Namespace\")\\nprint(obj.getNamespace())\\n\\n# similarly using the locals\\nA=obj.locals()\\nfor i in A:\\n    print(i)', '# Write your code here\\nobj=Person(\"arun\",\"Punjab\",\"Jalandhar\",18)\\n\\nprint(obj.address())\\n\\n#using the method defined in class\\nprint(\"All Namespace\")\\nprint(obj.getNamespace())\\n\\n# similarly using the locals\\nA=obj.locals\\nfor i in A:\\n    print(i)', '# Write your code here\\nobj=Person(\"arun\",\"Punjab\",\"Jalandhar\",18)\\n\\nprint(obj.address())\\n\\n#using the method defined in class\\nprint(\"All Namespace\")\\nprint(obj.getNamespace())\\n\\n# similarly using the locals\\nA=obj.locals\\nprint(A)\\nfor i in A:\\n    print(i)', '# Write your code here\\nobj=Person(\"arun\",\"Punjab\",\"Jalandhar\",18)\\n\\nprint(obj.address())\\n\\n#using the method defined in class\\nprint(\"All Namespace\")\\nprint(obj.getNamespace())\\n\\n# similarly using the locals\\nA=obj.locals\\nprint(A)\\nfor i,j in A.items():\\n    print(i,\":\",j)', '# Write your code here\\nobj=Person(\"arun\",\"Punjab\",\"Jalandhar\",18)\\n\\nprint(obj.address())\\n\\n#using the method defined in class\\nprint(\"All Namespace\")\\nprint(obj.getNamespace())\\n\\nprint(\"\\\\n\\\\n Using Locals\") \\n#similarly using the locals\\nA=obj.locals\\nprint(A)\\nfor i,j in A.items():\\n    print(i,\":\",j)', '# Write your code here\\nobj=Person(\"arun\",\"Punjab\",\"Jalandhar\",18)\\n\\nprint(obj.address())\\n\\n#using the method defined in class\\nprint(\"All Namespace\")\\nprint(obj.getNamespace())\\n\\nprint(\"\\\\n\\\\n Using Locals\") \\n#similarly using the locals\\nA=obj.locals\\nprint(A)\\nfor i,j in A.items():\\n    print(i,\":\",j)\\n\\nprint(\"\\\\n\\\\n Using __dict__\") \\nfor i in obj.__dict__:\\n    print(i)', '# Write your code here\\nobj=Person(\"arun\",\"Punjab\",\"Jalandhar\",18)\\n\\nprint(obj.address())\\n\\n#using the method defined in class\\nprint(\"All Namespace\")\\nprint(obj.getNamespace())\\n\\nprint(\"\\\\n\\\\n Using Locals\") \\n#similarly using the locals\\nA=obj.locals\\nprint(A)\\nfor i,j in A.items():\\n    print(i,\":\",j)\\n\\nprint(\"\\\\n\\\\n Using __dict__\") \\nfor i in obj.__dict__.items():\\n    print(i)', '\"\"\"\\nsimple Example that provide all ways to use \\n\"\"\"\\nx = 100  # Global variable\\n\\nclass MyClass:\\n    class_var = \"class level\"\\n\\n    def __init__(self):\\n        self.attr1 = \"hello\"\\n        self.attr2 = 42\\n\\n    def method(self):\\n        local_var = \"I am local\"\\n\\n        print(\"\\\\n=== dir(self) ===\")\\n        print(dir(self))\\n\\n        print(\"\\\\n=== self.__dir__() ===\")\\n        print(self.__dir__())\\n\\n        print(\"\\\\n=== self.__dict__ ===\")\\n        print(self.__dict__)\\n\\n        print(\"\\\\n=== locals() in method ===\")\\n        print(locals())\\n\\n        print(\"\\\\n=== globals() in method ===\")\\n        print(globals().get(\\'x\\'))\\n\\n# Create instance\\nobj = MyClass()\\nobj.method()\\n\\nprint(\"\\\\n=== obj.__dict__ outside method ===\")\\nprint(obj.__dict__)\\n\\nprint(\"\\\\n=== MyClass.__dict__ (class attributes/methods) ===\")\\nprint(MyClass.__dict__)\\n\\nprint(\"\\\\n=== globals() outside ===\")\\nprint(globals())\\n\\nprint(\"\\\\n=== locals() outside ===\")\\nprint(locals())', '\"\"\"\\nsimple Example that provide all ways to use \\n\"\"\"\\nx = 100  # Global variable\\n\\nclass MyClass:\\n    class_var = \"class level\"\\n\\n    def __init__(self):\\n        self.attr1 = \"hello\"\\n        self.attr2 = 42\\n\\n    def method(self):\\n        local_var = \"I am local\"\\n\\n        print(\"\\\\n=== dir(self) ===\")\\n        print(dir(self))\\n\\n        print(\"\\\\n=== self.__dir__() ===\")\\n        print(self.__dir__())\\n\\n        print(\"\\\\n=== self.__dict__ ===\")\\n        print(self.__dict__)\\n\\n        print(\"\\\\n=== locals() in method ===\")\\n        print(locals())\\n\\n        print(\"\\\\n=== globals() in method ===\")\\n        print(globals())\\n\\n# Create instance\\nobj = MyClass()\\nobj.method()\\n\\nprint(\"\\\\n=== obj.__dict__ outside method ===\")\\nprint(obj.__dict__)\\n\\nprint(\"\\\\n=== MyClass.__dict__ (class attributes/methods) ===\")\\nprint(MyClass.__dict__)\\n\\nprint(\"\\\\n=== globals() outside ===\")\\nprint(globals())\\n\\nprint(\"\\\\n=== locals() outside ===\")\\nprint(locals())'], 'Out': {6: mappingproxy({'__module__': '__main__', '__firstlineno__': 2, '__init__': <function Person.__init__ at 0x00000209DA0585E0>, 'address': <function Person.address at 0x00000209DA0587C0>, 'getCity': <function Person.getCity at 0x00000209DA058680>, 'getAge': <function Person.getAge at 0x00000209DA058D60>, 'getNamespace': <function Person.getNamespace at 0x00000209DA058AE0>, '__static_attributes__': ('__age', '__city', 'locals', 'name', 'state'), '__dict__': <attribute '__dict__' of 'Person' objects>, '__weakref__': <attribute '__weakref__' of 'Person' objects>, '__doc__': None})}, 'get_ipython': <bound method InteractiveShell.get_ipython of <ipykernel.zmqshell.ZMQInteractiveShell object at 0x00000209D97EEE40>>, 'exit': <IPython.core.autocall.ZMQExitAutocall object at 0x00000209D9880830>, 'quit': <IPython.core.autocall.ZMQExitAutocall object at 0x00000209D9880830>, 'open': <function open at 0x00000209D783CEA0>, '_': mappingproxy({'__module__': '__main__', '__firstlineno__': 2, '__init__': <function Person.__init__ at 0x00000209DA0585E0>, 'address': <function Person.address at 0x00000209DA0587C0>, 'getCity': <function Person.getCity at 0x00000209DA058680>, 'getAge': <function Person.getAge at 0x00000209DA058D60>, 'getNamespace': <function Person.getNamespace at 0x00000209DA058AE0>, '__static_attributes__': ('__age', '__city', 'locals', 'name', 'state'), '__dict__': <attribute '__dict__' of 'Person' objects>, '__weakref__': <attribute '__weakref__' of 'Person' objects>, '__doc__': None}), '__': '', '___': '', '__vsc_ipynb_file__': 'c:\\\\Users\\\\a\\\\Desktop\\\\PYTHON\\\\rAdavnceTOpics\\\\DAY27Practice\\\\Practice.ipynb', '_i': '\"\"\"\\nsimple Example that provide all ways to use \\n\"\"\"\\nx = 100  # Global variable\\n\\nclass MyClass:\\n    class_var = \"class level\"\\n\\n    def __init__(self):\\n        self.attr1 = \"hello\"\\n        self.attr2 = 42\\n\\n    def method(self):\\n        local_var = \"I am local\"\\n\\n        print(\"\\\\n=== dir(self) ===\")\\n        print(dir(self))\\n\\n        print(\"\\\\n=== self.__dir__() ===\")\\n        print(self.__dir__())\\n\\n        print(\"\\\\n=== self.__dict__ ===\")\\n        print(self.__dict__)\\n\\n        print(\"\\\\n=== locals() in method ===\")\\n        print(locals())\\n\\n        print(\"\\\\n=== globals() in method ===\")\\n        print(globals().get(\\'x\\'))\\n\\n# Create instance\\nobj = MyClass()\\nobj.method()\\n\\nprint(\"\\\\n=== obj.__dict__ outside method ===\")\\nprint(obj.__dict__)\\n\\nprint(\"\\\\n=== MyClass.__dict__ (class attributes/methods) ===\")\\nprint(MyClass.__dict__)\\n\\nprint(\"\\\\n=== globals() outside ===\")\\nprint(globals())\\n\\nprint(\"\\\\n=== locals() outside ===\")\\nprint(locals())', '_ii': '# Write your code here\\nobj=Person(\"arun\",\"Punjab\",\"Jalandhar\",18)\\n\\nprint(obj.address())\\n\\n#using the method defined in class\\nprint(\"All Namespace\")\\nprint(obj.getNamespace())\\n\\nprint(\"\\\\n\\\\n Using Locals\") \\n#similarly using the locals\\nA=obj.locals\\nprint(A)\\nfor i,j in A.items():\\n    print(i,\":\",j)\\n\\nprint(\"\\\\n\\\\n Using __dict__\") \\nfor i in obj.__dict__.items():\\n    print(i)', '_iii': '# Write your code here\\nobj=Person(\"arun\",\"Punjab\",\"Jalandhar\",18)\\n\\nprint(obj.address())\\n\\n#using the method defined in class\\nprint(\"All Namespace\")\\nprint(obj.getNamespace())\\n\\nprint(\"\\\\n\\\\n Using Locals\") \\n#similarly using the locals\\nA=obj.locals\\nprint(A)\\nfor i,j in A.items():\\n    print(i,\":\",j)\\n\\nprint(\"\\\\n\\\\n Using __dict__\") \\nfor i in obj.__dict__:\\n    print(i)', '_i1': '#Write your code here\\nclass Person:\\n    def __init__(self,name,state,city,age):\\n        self.name=name\\n        self.state=state\\n        self.__city=city\\n        self.__age=age\\n        self.locals=locals()\\n    \\n    def address(self):\\n        return f\"<{self.name}> ,<{self.getCity() } > ,<{self.state}>\"\\n    def getCity(self):\\n        return self.__city\\n    def getAge(self):\\n        return self.__age\\n    def getNamespace(self):\\n        print(self.locals)\\n        for i in self.locals:\\n            print(i)', 'Person': <class '__main__.Person'>, '_i2': '#Write your code here\\nclass Person:\\n    def __init__(self,name,state,city,age):\\n        self.name=name\\n        self.state=state\\n        self.__city=city\\n        self.__age=age\\n        self.locals=locals()\\n    \\n    def address(self):\\n        return f\"<{self.name}> ,<{self.getCity() } > ,<{self.state}>\"\\n    def getCity(self):\\n        return self.__city\\n    def getAge(self):\\n        return self.__age\\n    \\n    \\n    def getNamespace(self):\\n        print(self.locals)\\n        for i in self.locals:\\n            print(i)', '_i3': '#Write your code here\\nclass Person:\\n    def __init__(self,name,state,city,age):\\n        self.name=name\\n        self.state=state\\n        self.__city=city\\n        self.__age=age\\n        self.locals=locals()\\n    \\n    def address(self):\\n        return f\"<{self.name}> ,<{self.getCity() } > ,<{self.state}>\"\\n    def getCity(self):\\n        return self.__city\\n    def getAge(self):\\n        return self.__age\\n    \\n\\n    def getNamespace(self):\\n        print(self.locals)\\n        for i in self.locals:\\n            print(i)\\n\\nobj=Person()\\nobj.__dict___()', '_i4': '#Write your code here\\nclass Person:\\n    def __init__(self,name,state,city,age):\\n        self.name=name\\n        self.state=state\\n        self.__city=city\\n        self.__age=age\\n        self.locals=locals()\\n    \\n    def address(self):\\n        return f\"<{self.name}> ,<{self.getCity() } > ,<{self.state}>\"\\n    def getCity(self):\\n        return self.__city\\n    def getAge(self):\\n        return self.__age\\n    \\n\\n    def getNamespace(self):\\n        print(self.locals)\\n        for i in self.locals:\\n            print(i)\\n\\nobj=Person\\nobj.__dict___()', 'obj': <__main__.MyClass object at 0x00000209D9A22CF0>, '_i5': '#Write your code here\\nclass Person:\\n    def __init__(self,name,state,city,age):\\n        self.name=name\\n        self.state=state\\n        self.__city=city\\n        self.__age=age\\n        self.locals=locals()\\n    \\n    def address(self):\\n        return f\"<{self.name}> ,<{self.getCity() } > ,<{self.state}>\"\\n    def getCity(self):\\n        return self.__city\\n    def getAge(self):\\n        return self.__age\\n    \\n\\n    def getNamespace(self):\\n        print(self.locals)\\n        for i in self.locals:\\n            print(i)\\n\\nobj=Person(\"varun\",\"Punjab\",\"Jalandhar\",18)\\nobj.__dict___()', '_i6': '#Write your code here\\nclass Person:\\n    def __init__(self,name,state,city,age):\\n        self.name=name\\n        self.state=state\\n        self.__city=city\\n        self.__age=age\\n        self.locals=locals()\\n    \\n    def address(self):\\n        return f\"<{self.name}> ,<{self.getCity() } > ,<{self.state}>\"\\n    def getCity(self):\\n        return self.__city\\n    def getAge(self):\\n        return self.__age\\n    \\n\\n    def getNamespace(self):\\n        print(self.locals)\\n        for i in self.locals:\\n            print(i)\\n\\n# to view the Person CLass Namespace \\n# we can use the __dict__ \\nPerson.__dict__', '_6': mappingproxy({'__module__': '__main__', '__firstlineno__': 2, '__init__': <function Person.__init__ at 0x00000209DA0585E0>, 'address': <function Person.address at 0x00000209DA0587C0>, 'getCity': <function Person.getCity at 0x00000209DA058680>, 'getAge': <function Person.getAge at 0x00000209DA058D60>, 'getNamespace': <function Person.getNamespace at 0x00000209DA058AE0>, '__static_attributes__': ('__age', '__city', 'locals', 'name', 'state'), '__dict__': <attribute '__dict__' of 'Person' objects>, '__weakref__': <attribute '__weakref__' of 'Person' objects>, '__doc__': None}), '_i7': '#Write your code here\\nclass Person:\\n    def __init__(self,name,state,city,age):\\n        self.name=name\\n        self.state=state\\n        self.__city=city\\n        self.__age=age\\n        self.locals=locals()\\n    \\n    def address(self):\\n        return f\"<{self.name}> ,<{self.getCity() } > ,<{self.state}>\"\\n    def getCity(self):\\n        return self.__city\\n    def getAge(self):\\n        return self.__age\\n    \\n\\n    def getNamespace(self):\\n        print(self.locals)\\n        for i in self.locals:\\n            print(i)\\n\\n# to view the Person CLass Namespace \\n# we can use the __dict__ \\nfor i in Person.__dict__:\\n    print(i)', 'i': ('locals', {'self': <__main__.Person object at 0x00000209D984FD50>, 'name': 'arun', 'state': 'Punjab', 'city': 'Jalandhar', 'age': 18}), '_i8': '#Write your code here\\nclass Person:\\n    def __init__(self,name,state,city,age):\\n        self.name=name\\n        self.state=state\\n        self.__city=city\\n        self.__age=age\\n        self.locals=locals()\\n    \\n    def address(self):\\n        return f\"<{self.name}> ,<{self.getCity() } > ,<{self.state}>\"\\n    def getCity(self):\\n        return self.__city\\n    def getAge(self):\\n        return self.__age\\n    \\n\\n    def getNamespace(self):\\n        print(self.locals)\\n        for i in self.locals:\\n            print(i)\\n\\n# to view the Person CLass Namespace \\n# we can use the __dict__ \\nfor i in Person.__dict__:\\n    print(i)\\nobj=Person(\"varun\",\"Punjab\",\"Jalandhar\",18)\\nprint(obj.getNamespace())', '_i9': '#Write your code here\\nclass Person:\\n    def __init__(self,name,state,city,age):\\n        self.name=name\\n        self.state=state\\n        self.__city=city\\n        self.__age=age\\n        self.locals=locals()\\n    \\n    def address(self):\\n        return f\"<{self.name}> ,<{self.getCity() } > ,<{self.state}>\"\\n    def getCity(self):\\n        return self.__city\\n    def getAge(self):\\n        return self.__age\\n    \\n\\n    def getNamespace(self):\\n        print(self.locals)\\n        for i in self.locals:\\n            print(i)\\n\\n# to view the Person CLass Namespace \\n# we can use the __dict__ \\nfor i in Person.__dict__:\\n    print(i)', '_i10': '#Write your code here\\nclass Person:\\n    def __init__(self,name,state,city,age):\\n        self.name=name\\n        self.state=state\\n        self.__city=city\\n        self.__age=age\\n        self.locals=locals()\\n    \\n    def address(self):\\n        return f\"<{self.name}> ,<{self.getCity() } > ,<{self.state}>\"\\n    def getCity(self):\\n        return self.__city\\n    def getAge(self):\\n        return self.__age\\n    \\n\\n    def getNamespace(self):\\n        print(self.locals)\\n        for i in self.locals:\\n            print(i)', '_i11': '\\n# to view the Person CLass Namespace \\n# we can use the __dict__ \\nfor i in Person.__dict__:\\n    print(i)', '_i12': '# Write your code here\\nobj=Person(\"arun\",\"Punjab\",\"Jalandhar\",18)\\n\\nprint(obj.address())\\nprint(\"All Namespace\")\\nprint(obj.getNamespace())', '_i13': '#Write your code here\\nclass Person:\\n    def __init__(self,name,state,city,age):\\n        self.name=name\\n        self.state=state\\n        self.__city=city\\n        self.__age=age\\n        self.locals=locals()\\n    \\n    def address(self):\\n        return f\"<{self.name}> ,<{self.getCity() } > ,<{self.state}>\"\\n    def getCity(self):\\n        return self.__city\\n    def getAge(self):\\n        return self.__age\\n    \\n\\n    def getNamespace(self):\\n        for i in self.locals():\\n            print(i)', '_i14': '\\n# to view the Person CLass Namespace \\n# we can use the __dict__ \\nfor i in Person.__dict__:\\n    print(i)', '_i15': '# Write your code here\\nobj=Person(\"arun\",\"Punjab\",\"Jalandhar\",18)\\n\\nprint(obj.address())\\nprint(\"All Namespace\")\\nprint(obj.getNamespace())', '_i16': '#Write your code here\\nclass Person:\\n    def __init__(self,name,state,city,age):\\n        self.name=name\\n        self.state=state\\n        self.__city=city\\n        self.__age=age\\n        self.locals=locals()\\n    \\n    def address(self):\\n        return f\"<{self.name}> ,<{self.getCity() } > ,<{self.state}>\"\\n    def getCity(self):\\n        return self.__city\\n    def getAge(self):\\n        return self.__age\\n    def getNamespace(self):\\n        for i in self.locals.items():\\n            print(i)', '_i17': '\\n# to view the Person CLass Namespace \\n# we can use the __dict__ \\nfor i in Person.__dict__:\\n    print(i)', '_i18': '# Write your code here\\nobj=Person(\"arun\",\"Punjab\",\"Jalandhar\",18)\\n\\nprint(obj.address())\\nprint(\"All Namespace\")\\nprint(obj.getNamespace())', '_i19': '# Write your code here\\nobj=Person(\"arun\",\"Punjab\",\"Jalandhar\",18)\\n\\nprint(obj.address())\\n\\nprint(\"All Namespace\")\\nprint(obj.getNamespace())', '_i20': '# Write your code here\\nobj=Person(\"arun\",\"Punjab\",\"Jalandhar\",18)\\n\\nprint(obj.address())\\n\\nprint(\"All Namespace\")\\nprint(obj.getNamespace())', '_i21': '# Write your code here\\nobj=Person(\"arun\",\"Punjab\",\"Jalandhar\",18)\\n\\nprint(obj.address())\\n\\n#using the method defined in class\\nprint(\"All Namespace\")\\nprint(obj.getNamespace())\\n\\n# similarly using the locals\\nA=obj.locals()\\nfor i in A:\\n    print(i)', '_i22': '# Write your code here\\nobj=Person(\"arun\",\"Punjab\",\"Jalandhar\",18)\\n\\nprint(obj.address())\\n\\n#using the method defined in class\\nprint(\"All Namespace\")\\nprint(obj.getNamespace())\\n\\n# similarly using the locals\\nA=obj.locals\\nfor i in A:\\n    print(i)', 'A': {'self': <__main__.Person object at 0x00000209D984FD50>, 'name': 'arun', 'state': 'Punjab', 'city': 'Jalandhar', 'age': 18}, '_i23': '# Write your code here\\nobj=Person(\"arun\",\"Punjab\",\"Jalandhar\",18)\\n\\nprint(obj.address())\\n\\n#using the method defined in class\\nprint(\"All Namespace\")\\nprint(obj.getNamespace())\\n\\n# similarly using the locals\\nA=obj.locals\\nprint(A)\\nfor i in A:\\n    print(i)', '_i24': '# Write your code here\\nobj=Person(\"arun\",\"Punjab\",\"Jalandhar\",18)\\n\\nprint(obj.address())\\n\\n#using the method defined in class\\nprint(\"All Namespace\")\\nprint(obj.getNamespace())\\n\\n# similarly using the locals\\nA=obj.locals\\nprint(A)\\nfor i,j in A.items():\\n    print(i,\":\",j)', 'j': 18, '_i25': '# Write your code here\\nobj=Person(\"arun\",\"Punjab\",\"Jalandhar\",18)\\n\\nprint(obj.address())\\n\\n#using the method defined in class\\nprint(\"All Namespace\")\\nprint(obj.getNamespace())\\n\\nprint(\"\\\\n\\\\n Using Locals\") \\n#similarly using the locals\\nA=obj.locals\\nprint(A)\\nfor i,j in A.items():\\n    print(i,\":\",j)', '_i26': '# Write your code here\\nobj=Person(\"arun\",\"Punjab\",\"Jalandhar\",18)\\n\\nprint(obj.address())\\n\\n#using the method defined in class\\nprint(\"All Namespace\")\\nprint(obj.getNamespace())\\n\\nprint(\"\\\\n\\\\n Using Locals\") \\n#similarly using the locals\\nA=obj.locals\\nprint(A)\\nfor i,j in A.items():\\n    print(i,\":\",j)\\n\\nprint(\"\\\\n\\\\n Using __dict__\") \\nfor i in obj.__dict__:\\n    print(i)', '_i27': '# Write your code here\\nobj=Person(\"arun\",\"Punjab\",\"Jalandhar\",18)\\n\\nprint(obj.address())\\n\\n#using the method defined in class\\nprint(\"All Namespace\")\\nprint(obj.getNamespace())\\n\\nprint(\"\\\\n\\\\n Using Locals\") \\n#similarly using the locals\\nA=obj.locals\\nprint(A)\\nfor i,j in A.items():\\n    print(i,\":\",j)\\n\\nprint(\"\\\\n\\\\n Using __dict__\") \\nfor i in obj.__dict__.items():\\n    print(i)', '_i28': '\"\"\"\\nsimple Example that provide all ways to use \\n\"\"\"\\nx = 100  # Global variable\\n\\nclass MyClass:\\n    class_var = \"class level\"\\n\\n    def __init__(self):\\n        self.attr1 = \"hello\"\\n        self.attr2 = 42\\n\\n    def method(self):\\n        local_var = \"I am local\"\\n\\n        print(\"\\\\n=== dir(self) ===\")\\n        print(dir(self))\\n\\n        print(\"\\\\n=== self.__dir__() ===\")\\n        print(self.__dir__())\\n\\n        print(\"\\\\n=== self.__dict__ ===\")\\n        print(self.__dict__)\\n\\n        print(\"\\\\n=== locals() in method ===\")\\n        print(locals())\\n\\n        print(\"\\\\n=== globals() in method ===\")\\n        print(globals().get(\\'x\\'))\\n\\n# Create instance\\nobj = MyClass()\\nobj.method()\\n\\nprint(\"\\\\n=== obj.__dict__ outside method ===\")\\nprint(obj.__dict__)\\n\\nprint(\"\\\\n=== MyClass.__dict__ (class attributes/methods) ===\")\\nprint(MyClass.__dict__)\\n\\nprint(\"\\\\n=== globals() outside ===\")\\nprint(globals())\\n\\nprint(\"\\\\n=== locals() outside ===\")\\nprint(locals())', 'x': 100, 'MyClass': <class '__main__.MyClass'>, '_i29': '\"\"\"\\nsimple Example that provide all ways to use \\n\"\"\"\\nx = 100  # Global variable\\n\\nclass MyClass:\\n    class_var = \"class level\"\\n\\n    def __init__(self):\\n        self.attr1 = \"hello\"\\n        self.attr2 = 42\\n\\n    def method(self):\\n        local_var = \"I am local\"\\n\\n        print(\"\\\\n=== dir(self) ===\")\\n        print(dir(self))\\n\\n        print(\"\\\\n=== self.__dir__() ===\")\\n        print(self.__dir__())\\n\\n        print(\"\\\\n=== self.__dict__ ===\")\\n        print(self.__dict__)\\n\\n        print(\"\\\\n=== locals() in method ===\")\\n        print(locals())\\n\\n        print(\"\\\\n=== globals() in method ===\")\\n        print(globals())\\n\\n# Create instance\\nobj = MyClass()\\nobj.method()\\n\\nprint(\"\\\\n=== obj.__dict__ outside method ===\")\\nprint(obj.__dict__)\\n\\nprint(\"\\\\n=== MyClass.__dict__ (class attributes/methods) ===\")\\nprint(MyClass.__dict__)\\n\\nprint(\"\\\\n=== globals() outside ===\")\\nprint(globals())\\n\\nprint(\"\\\\n=== locals() outside ===\")\\nprint(locals())'}\n"
          ]
        }
      ],
      "source": [
        "\"\"\"\n",
        "simple Example that provide all ways to use \n",
        "\"\"\"\n",
        "x = 100  # Global variable\n",
        "\n",
        "class MyClass:\n",
        "    class_var = \"class level\"\n",
        "\n",
        "    def __init__(self):\n",
        "        self.attr1 = \"hello\"\n",
        "        self.attr2 = 42\n",
        "\n",
        "    def method(self):\n",
        "        local_var = \"I am local\"\n",
        "\n",
        "        print(\"\\n=== dir(self) ===\")\n",
        "        print(dir(self))\n",
        "\n",
        "        print(\"\\n=== self.__dir__() ===\")\n",
        "        print(self.__dir__())\n",
        "\n",
        "        print(\"\\n=== self.__dict__ ===\")\n",
        "        print(self.__dict__)\n",
        "\n",
        "        print(\"\\n=== locals() in method ===\")\n",
        "        print(locals())\n",
        "\n",
        "        print(\"\\n=== globals() in method ===\")\n",
        "        print(globals())\n",
        "\n",
        "# Create instance\n",
        "obj = MyClass()\n",
        "obj.method()\n",
        "\n",
        "print(\"\\n=== obj.__dict__ outside method ===\")\n",
        "print(obj.__dict__)\n",
        "\n",
        "print(\"\\n=== MyClass.__dict__ (class attributes/methods) ===\")\n",
        "print(MyClass.__dict__)\n",
        "\n",
        "print(\"\\n=== globals() outside ===\")\n",
        "print(globals())\n",
        "\n",
        "print(\"\\n=== locals() outside ===\")\n",
        "print(locals())\n"
      ]
    },
    {
      "cell_type": "markdown",
      "metadata": {
        "id": "rRnCZmlUY8sn"
      },
      "source": [
        "###`Q3:` Write a recursive program to to calculate `gcd` and print no. of function calls taken to find the solution.\n",
        "```\n",
        "gcd(5,10) -> result in 5 as gcd and function call 4\n",
        "```"
      ]
    },
    {
      "cell_type": "code",
      "execution_count": 44,
      "metadata": {
        "id": "jYiVzxhUZRln"
      },
      "outputs": [
        {
          "name": "stdout",
          "output_type": "stream",
          "text": [
            "2\n"
          ]
        }
      ],
      "source": [
        "#Write your code here\n",
        "# TIME COMPLEXITY --> O(min(a,b))\n",
        "def GCD(a,b):\n",
        "    if a==b:\n",
        "        return a\n",
        "    elif a>b:    \n",
        "        return GCD(a-b,b)\n",
        "    else:\n",
        "        return GCD(b-a,a)\n",
        "    \n",
        "    \n",
        "\n",
        "print(GCD(10,2))\n"
      ]
    },
    {
      "cell_type": "code",
      "execution_count": 53,
      "metadata": {
        "id": "gwnOjBakeEiE"
      },
      "outputs": [
        {
          "name": "stdout",
          "output_type": "stream",
          "text": [
            "5\n",
            "2\n"
          ]
        }
      ],
      "source": [
        "# to make it more better \n",
        "# TC--> O(log(min(a,b)))\n",
        "\n",
        "def gcd(a,b):\n",
        "    gcd.counter+=1\n",
        "    if b==0:\n",
        "        return a\n",
        "    else:\n",
        "        return gcd(b,a%b)\n",
        "    \n",
        "\n",
        "gcd.counter=0\n",
        "print(gcd(10,5))\n",
        "print(gcd.counter)\n",
        "\n"
      ]
    },
    {
      "cell_type": "markdown",
      "metadata": {
        "id": "FbDepR9QNGnh"
      },
      "source": [
        "## Itterator And Generator"
      ]
    },
    {
      "cell_type": "markdown",
      "metadata": {
        "id": "Nj5WaR_4NJTu"
      },
      "source": [
        "###`Q4:` Create MyEnumerate class,\n",
        "Create your own `MyEnumerate` class such that someone can use it instead of enumerate. It will need to return a `tuple` with each iteration, with the first element in the tuple being the `index` (starting with 0) and the second element being the `current element` from the underlying data structure. Trying to use `MyEnumerate` with a noniterable argument will result in an error.\n",
        "\n",
        "```\n",
        "for index, letter in MyEnumerate('abc'):\n",
        "    print(f'{index} : {letter}')\n",
        "```\n",
        "\n",
        "Output:\n",
        "```\n",
        "0 : a\n",
        "1 : b\n",
        "2 : c\n",
        "```"
      ]
    },
    {
      "cell_type": "code",
      "execution_count": 68,
      "metadata": {
        "id": "6zjcm2gxNbfJ"
      },
      "outputs": [],
      "source": [
        "#Write your code here\n",
        "class MyEnumerate:\n",
        "    def __init__(self,iterable):\n",
        "        self.iterable=iterable\n",
        "        self.length = len(self.iterable)\n",
        "\n",
        "    def __iter__(self):\n",
        "        return MyEnumerateIterator(self.iterable,self.length)\n",
        "\n",
        "\n",
        "\n",
        "class MyEnumerateIterator:\n",
        "    def __init__(self,iterable,length):\n",
        "        self.iterable=iterable\n",
        "        self.len=length\n",
        "        self.i=0\n",
        "    def __iter__(self):\n",
        "        return self\n",
        "    def __next__(self):\n",
        "      if self.i>=self.len:\n",
        "          raise StopIteration\n",
        "      current=(self.i,self.iterable[self.i])\n",
        "      self.i+=1\n",
        "      return current\n",
        "  "
      ]
    },
    {
      "cell_type": "code",
      "execution_count": 77,
      "metadata": {
        "colab": {
          "base_uri": "https://localhost:8080/"
        },
        "id": "m_gdOG4ANkVN",
        "outputId": "a6da68c5-0b0a-4b34-ba53-06d2217ce1ef"
      },
      "outputs": [
        {
          "name": "stdout",
          "output_type": "stream",
          "text": [
            "\n",
            " String test\n",
            "0 :  h\n",
            "1 :  e\n",
            "2 :  l\n",
            "3 :  l\n",
            "4 :  o\n",
            "\n",
            " list test\n",
            "0 :  2\n",
            "1 :  3\n",
            "2 :  4\n",
            "3 :  5\n",
            "\n",
            " tuple test\n",
            "0 :  0\n",
            "1 :  1\n",
            "2 :  4\n",
            "3 :  9\n",
            "4 :  16\n",
            "5 :  25\n",
            "6 :  36\n",
            "7 :  49\n",
            "8 :  64\n",
            "9 :  81\n",
            "10 :  100\n",
            "\n",
            " Dictionary test\n",
            "0 :  ('name', 'varun')\n",
            "1 :  ('age', 18)\n"
          ]
        }
      ],
      "source": [
        "print(\"\\n String test\")\n",
        "word='hello'\n",
        "for index,letter in MyEnumerate(word):\n",
        "    print(index,\": \",letter)\n",
        "print(\"\\n list test\")\n",
        "test=[2,3,4,5,]\n",
        "for index,letter in MyEnumerate(test):\n",
        "    print(index,\": \",letter)\n",
        "\n",
        "print(\"\\n tuple test\")\n",
        "tuple1=tuple(i**2 for i in range(0,11))\n",
        "for index,letter in MyEnumerate(tuple1):\n",
        "    print(index,\": \",letter)\n",
        "\n",
        "print(\"\\n Dictionary test\")\n",
        "mydict={\n",
        "    'name':\"varun\",\n",
        "    'age': 18\n",
        "}\n",
        "for index,letter in MyEnumerate(list(mydict.items())):\n",
        "    print(index,\": \",letter)\n"
      ]
    },
    {
      "cell_type": "code",
      "execution_count": 83,
      "metadata": {
        "id": "ya--mdHwNxdX"
      },
      "outputs": [],
      "source": [
        "# using this with generator\n",
        "def MyEnumerateGen(iterable):\n",
        "    index=0\n",
        "    for i in iterable:\n",
        "        current=(index,i)\n",
        "        index+=1\n",
        "        yield current\n",
        "\n"
      ]
    },
    {
      "cell_type": "code",
      "execution_count": 84,
      "metadata": {},
      "outputs": [
        {
          "name": "stdout",
          "output_type": "stream",
          "text": [
            "\n",
            " String test\n",
            "0 :  h\n",
            "1 :  e\n",
            "2 :  l\n",
            "3 :  l\n",
            "4 :  o\n",
            "\n",
            " list test\n",
            "0 :  2\n",
            "1 :  3\n",
            "2 :  4\n",
            "3 :  5\n",
            "\n",
            " tuple test\n",
            "0 :  0\n",
            "1 :  1\n",
            "2 :  4\n",
            "3 :  9\n",
            "4 :  16\n",
            "5 :  25\n",
            "6 :  36\n",
            "7 :  49\n",
            "8 :  64\n",
            "9 :  81\n",
            "10 :  100\n",
            "\n",
            " Dictionary test\n",
            "0 :  ('name', 'varun')\n",
            "1 :  ('age', 18)\n"
          ]
        }
      ],
      "source": [
        "print(\"\\n String test\")\n",
        "word='hello'\n",
        "for index,letter in MyEnumerateGen(word):\n",
        "    print(index,\": \",letter)\n",
        "print(\"\\n list test\")\n",
        "test=[2,3,4,5,]\n",
        "for index,letter in MyEnumerateGen(test):\n",
        "    print(index,\": \",letter)\n",
        "\n",
        "print(\"\\n tuple test\")\n",
        "tuple1=tuple(i**2 for i in range(0,11))\n",
        "for index,letter in MyEnumerateGen(tuple1):\n",
        "    print(index,\": \",letter)\n",
        "\n",
        "print(\"\\n Dictionary test\")\n",
        "mydict={\n",
        "    'name':\"varun\",\n",
        "    'age': 18\n",
        "}\n",
        "for index,letter in MyEnumerateGen(list(mydict.items())):\n",
        "    print(index,\": \",letter)\n"
      ]
    },
    {
      "cell_type": "markdown",
      "metadata": {
        "id": "U2Ai7rVDOLBw"
      },
      "source": [
        "###`Q5:` Iterate in circle\n",
        "Define a class, `Circle`, that takes two arguments when defined: a sequence and a number. The idea is that the object will then return elements the defined number of times. If the number is greater than the number of elements, then the sequence  repeats as necessary. You can define an another class used as a helper (like I call `CircleIterator`).\n",
        "\n",
        "```\n",
        "c = Circle('abc', 5)\n",
        "d = Circle('abc', 7)\n",
        "print(list(c))\n",
        "print(list(d))\n",
        "```\n",
        "\n",
        "Output\n",
        "```\n",
        "[a, b, c, a, b]\n",
        "[a, b, c, a, b, c, a]\n",
        "```"
      ]
    },
    {
      "cell_type": "code",
      "execution_count": 105,
      "metadata": {
        "id": "iwcTy1HyO5hs"
      },
      "outputs": [],
      "source": [
        "#Write your code here\n",
        "class Circle:\n",
        "    def __init__(self,sequence,times):\n",
        "        self.word=sequence\n",
        "        self.req_length=times\n",
        "        \n",
        "    def __iter__(self):\n",
        "        return iteratorfunt(self)\n",
        "\n",
        "class iteratorfunt:\n",
        "    def __init__(self,obj):\n",
        "        self.obj=obj\n",
        "        self.i=0\n",
        "        self.count=0\n",
        "        self.length=len(obj.word)\n",
        "    def __iter__(self):\n",
        "        return self\n",
        "    def __next__(self):\n",
        "        \n",
        "        if self.count>=self.obj.req_length:\n",
        "            raise StopIteration\n",
        "        current=self.obj.word[self.i%self.length]\n",
        "        self.i+=1\n",
        "        self.count+=1\n",
        "        return current"
      ]
    },
    {
      "cell_type": "code",
      "execution_count": 106,
      "metadata": {
        "colab": {
          "base_uri": "https://localhost:8080/"
        },
        "id": "wZlcmTt7PHLm",
        "outputId": "08201359-2f12-4ea6-a40e-fdd900498946"
      },
      "outputs": [
        {
          "name": "stdout",
          "output_type": "stream",
          "text": [
            "['a', 'b', 'c', 'a', 'b']\n",
            "['a', 'b', 'c', 'a', 'b', 'c', 'a']\n"
          ]
        }
      ],
      "source": [
        "c = Circle('abc', 5)\n",
        "d = Circle('abc', 7)\n",
        "print(list(c))\n",
        "print(list(d))\n",
        "\n",
        "\n"
      ]
    },
    {
      "cell_type": "code",
      "execution_count": null,
      "metadata": {
        "colab": {
          "base_uri": "https://localhost:8080/"
        },
        "id": "saYZvaj6PxVW",
        "outputId": "b5b3108e-8faf-4cfd-d4b9-f4c0ec4c2381"
      },
      "outputs": [],
      "source": [
        "# with generators\n",
        "def Circle(iterable,n):\n",
        "    length=len(iterable)\n",
        "\n",
        "    for i in range(n):\n",
        "        current=iterable[i%length]       \n",
        "        yield current"
      ]
    },
    {
      "cell_type": "code",
      "execution_count": 100,
      "metadata": {
        "id": "ElXQR_4kQmwO"
      },
      "outputs": [
        {
          "name": "stdout",
          "output_type": "stream",
          "text": [
            "['a', 'b', 'c', 'a', 'b']\n",
            "['a', 'b', 'c', 'a', 'b', 'c', 'a']\n"
          ]
        }
      ],
      "source": [
        "c = Circle('abc', 5)\n",
        "d = Circle('abc', 7)\n",
        "print(list(c))\n",
        "print(list(d))"
      ]
    },
    {
      "cell_type": "markdown",
      "metadata": {
        "id": "17KyhciKQnAE"
      },
      "source": [
        "###`Q6:` Generator time elapsed\n",
        "Write a generator function whose argument must be iterable. With each iteration, the generator will return a two-element tuple. The first element in the tuple will be an integer indicating how many seconds have passed since the previous iteration. The tuple’s second element will be the next item from the passed argument.\n",
        "\n",
        "Note that the timing should be relative to the previous iteration, not when the\n",
        "generator was first created or invoked. Thus the timing number in the first iteration\n",
        "will be 0\n",
        "\n",
        "```\n",
        "for t in elapsed_since('abcd'):\n",
        "    print(t)\n",
        "    time.sleep(2)\n",
        "```\n",
        "\n",
        "Output:\n",
        "```\n",
        "(0.0, 'a')\n",
        "(2.005651817999933, 'b')\n",
        "(2.0023095009998997, 'c')\n",
        "(2.001949742000079, 'd')\n",
        "```\n",
        "Note: Your output may differ because of diffrent system has different processing configuration."
      ]
    },
    {
      "cell_type": "code",
      "execution_count": 119,
      "metadata": {
        "id": "UkH1tj9zQ-gc"
      },
      "outputs": [
        {
          "name": "stdout",
          "output_type": "stream",
          "text": [
            "(1.5000005078036338e-06, 'a')\n",
            "(2.002887299999202, 'b')\n",
            "(2.000338499999998, 'c')\n",
            "(2.0016481000002386, 'd')\n"
          ]
        }
      ],
      "source": [
        "#Write yor code\n",
        "import time\n",
        "def elapsed_since(iterable):\n",
        "    last=time.perf_counter()\n",
        "    for i in iterable:\n",
        "        current=time.perf_counter()\n",
        "        delta=current-last\n",
        "        last=current\n",
        "        yield (delta,i)\n",
        "    \n",
        "\n",
        "for t in elapsed_since('abcd'):\n",
        "    print(t)\n",
        "    time.sleep(2)\n"
      ]
    },
    {
      "cell_type": "markdown",
      "metadata": {
        "id": "fXr3OJxJSC1j"
      },
      "source": [
        "## Decorators"
      ]
    },
    {
      "cell_type": "markdown",
      "metadata": {
        "id": "xSjvwAt-SFhi"
      },
      "source": [
        "###`Q7:` Write a Python program to make a chain of function decorators (bold, italic, underline etc.) on a given function which prints \"hello world\"\n",
        "\n",
        "```\n",
        "def hello():\n",
        "    return \"hello world\"\n",
        "```\n",
        "\n",
        "```\n",
        "bold - wrap string with <b> tag. <b>Str</b>\n",
        "italic - wrap string with <i> tag. <i>Str</i>\n",
        "underline- wrap string with <u> tag. <u>Str</u>\n",
        "```"
      ]
    },
    {
      "cell_type": "code",
      "execution_count": 133,
      "metadata": {
        "id": "prVeZGYlSorr"
      },
      "outputs": [],
      "source": [
        "from IPython.display import HTML\n",
        "#Write your code here\n",
        "def bold(funct):\n",
        "    def wrapper(*args):\n",
        "        return f\"<b> {funct()} </b>\"\n",
        "    return wrapper\n",
        "def italic(funct):\n",
        "    def wrapper(*args):\n",
        "        return f\"<i> {funct()} </i>\"\n",
        "    return wrapper\n",
        "def underline(funct):\n",
        "    def wrapper(*args):\n",
        "        return f\"<u> {funct()} </u>\"\n",
        "    return wrapper\n"
      ]
    },
    {
      "cell_type": "code",
      "execution_count": 132,
      "metadata": {
        "colab": {
          "base_uri": "https://localhost:8080/"
        },
        "id": "50wGH6zmSEv4",
        "outputId": "263dd662-7c5a-4f72-b394-71e04486d662"
      },
      "outputs": [
        {
          "name": "stdout",
          "output_type": "stream",
          "text": [
            "<b> <i> <u> hello world </u> </i> </b>\n"
          ]
        },
        {
          "data": {
            "text/html": [
              "<b> <i> <u> hello world </u> </i> </b>"
            ],
            "text/plain": [
              "<IPython.core.display.HTML object>"
            ]
          },
          "metadata": {},
          "output_type": "display_data"
        }
      ],
      "source": [
        "@bold\n",
        "@italic\n",
        "@underline\n",
        "def myfunction():\n",
        "    return \"hello world\"\n",
        "\n",
        "formattedstring=myfunction()\n",
        "print(formattedstring)\n",
        "display(HTML(formattedstring))"
      ]
    },
    {
      "cell_type": "markdown",
      "metadata": {
        "id": "miKBwPy4TQWa"
      },
      "source": [
        "###`Q8:` Write a decorator called `printer` which causes any decorated function to print their return values. If the return value of a given function is `None`, printer should do nothing.\n",
        "\n"
      ]
    },
    {
      "cell_type": "code",
      "execution_count": 176,
      "metadata": {
        "id": "05s0poRoT9II"
      },
      "outputs": [],
      "source": [
        "#Write your code here\n",
        "def Printer(funct):\n",
        "    def wrapper(*args):\n",
        "        return_value=funct(*args)\n",
        "        print(\"Return value of FUnction is \",return_value)\n",
        "    return wrapper"
      ]
    },
    {
      "cell_type": "code",
      "execution_count": 178,
      "metadata": {
        "colab": {
          "base_uri": "https://localhost:8080/"
        },
        "id": "U86ZE73WT-ux",
        "outputId": "c9ffa235-861c-4e07-fa29-c05d4346a10f"
      },
      "outputs": [
        {
          "name": "stdout",
          "output_type": "stream",
          "text": [
            "Square FUnction \n",
            "Return value of FUnction is  25\n",
            "cube FUnction\n",
            "cube: 125\n",
            "Return value of FUnction is  help\n"
          ]
        }
      ],
      "source": [
        "@Printer\n",
        "def Square(a):\n",
        "    print(\"Square FUnction \")\n",
        "    return f\"{a**2}\"\n",
        "\n",
        "Square(5)\n",
        "\n",
        "@Printer\n",
        "def Cube(n):\n",
        "    print(\"cube FUnction\")\n",
        "    print(\"cube:\",n**3)\n",
        "    return \"help\"\n",
        "\n",
        "Cube(5)"
      ]
    },
    {
      "cell_type": "markdown",
      "metadata": {
        "id": "DWJLjPOnURua"
      },
      "source": [
        "###`Q9:` Make a decorator which calls a given function twice. You can assume the functions don't return anything important, but they may take arguments.\n",
        "```\n",
        "#Lets say given function\n",
        "def hello(string):\n",
        "    print(string)\n",
        "\n",
        "#on calling after specified decorator is inplaced\n",
        "hello('hello')\n",
        "```\n",
        "\n",
        "Output:\n",
        "```\n",
        "hello\n",
        "hello\n",
        "```"
      ]
    },
    {
      "cell_type": "code",
      "execution_count": null,
      "metadata": {
        "id": "e38y0cz7UTdD"
      },
      "outputs": [
        {
          "name": "stdout",
          "output_type": "stream",
          "text": [
            "Hello\n",
            "Hello\n"
          ]
        }
      ],
      "source": [
        "#Write your code here \n",
        "#using Decorator factory \n",
        "def twice(n): # Decoratorr factory\n",
        "    def decorator(funct): #original Decorator\n",
        "        def wrapper(*args): # wrapper function\n",
        "            for i in range(n):\n",
        "                funct(*args)\n",
        "        return wrapper\n",
        "    return decorator\n",
        "@twice(2)\n",
        "def hello(string):\n",
        "    print(string)\n",
        "\n",
        "hello(\"Hello\")\n"
      ]
    },
    {
      "cell_type": "code",
      "execution_count": 171,
      "metadata": {
        "colab": {
          "base_uri": "https://localhost:8080/"
        },
        "id": "6uLp_cHcUVXR",
        "outputId": "ec5be948-1f60-49a6-a691-3aaba8b54c99"
      },
      "outputs": [
        {
          "name": "stdout",
          "output_type": "stream",
          "text": [
            "Hello\n",
            "Hello\n"
          ]
        }
      ],
      "source": [
        "#using simple code format\n",
        "def twice(funct): #original Decorator\n",
        "    def wrapper(*args): # wrapper function\n",
        "        for i in range(2):\n",
        "            funct(*args)\n",
        "    return wrapper\n",
        "\n",
        "@twice\n",
        "def hello1(string):\n",
        "    print(string)\n",
        "\n",
        "hello1(\"Hello\")"
      ]
    },
    {
      "cell_type": "markdown",
      "metadata": {
        "id": "8btcQI9pWi2w"
      },
      "source": [
        "### `Q10:` Write a decorator which doubles the return value of any function. And test that decoratos is working correctly using `asert`.\n",
        "\n",
        "```\n",
        "add(2,3) -> result in 10. Without decorator it should be 5.\n",
        "```"
      ]
    },
    {
      "cell_type": "code",
      "execution_count": 181,
      "metadata": {
        "id": "nG6S_zQ9XFb3"
      },
      "outputs": [],
      "source": [
        "# Write your code here\n",
        "def double(funct):\n",
        "    def wrapper(*args):\n",
        "        return funct(*args)*2\n",
        "    return wrapper\n",
        "\n",
        "@double\n",
        "def addwith_decorator(a,b):\n",
        "    return a+b\n",
        "\n",
        "def simple_add(a,b):\n",
        "    return a+b\n",
        "\n",
        "x=addwith_decorator(2,3) # it gives (2+3 )*2==10\n",
        "y=simple_add(2,3)  # it gives 2+3=5\n",
        "assert x==y*2 ,\"values are not matching\"\n",
        "#     10==5*2"
      ]
    }
  ],
  "metadata": {
    "colab": {
      "provenance": []
    },
    "kernelspec": {
      "display_name": "Python 3",
      "name": "python3"
    },
    "language_info": {
      "codemirror_mode": {
        "name": "ipython",
        "version": 3
      },
      "file_extension": ".py",
      "mimetype": "text/x-python",
      "name": "python",
      "nbconvert_exporter": "python",
      "pygments_lexer": "ipython3",
      "version": "3.13.5"
    }
  },
  "nbformat": 4,
  "nbformat_minor": 0
}
