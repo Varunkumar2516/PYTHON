{
 "cells": [
  {
   "cell_type": "markdown",
   "id": "23de05b4",
   "metadata": {},
   "source": [
    "# datetime MOdule"
   ]
  },
  {
   "cell_type": "markdown",
   "id": "e7e913f4",
   "metadata": {},
   "source": [
    "The datetime module help us to work  with dates and times. It allows you to work with both date (year, month, day) and time (hour, minute, second, microsecond).."
   ]
  },
  {
   "cell_type": "markdown",
   "id": "91578b08",
   "metadata": {},
   "source": [
    "The datetime module provides several classes, and yes—you create objects from those classes."
   ]
  },
  {
   "cell_type": "code",
   "execution_count": 1,
   "id": "6ce0f3e6",
   "metadata": {},
   "outputs": [
    {
     "data": {
      "text/plain": [
       "'\\nMain Classes in datetime Module\\n\\n\\n1.datetime.datetime\\t     Date + time combined\\n2.datetime.date        \\tOnly date (year, month, day)\\n3.datetime.time\\tOnly    time (hour, minute, second)\\n4.datetime.timedelta\\tDifference between two dates/times\\n5.datetime.timezone\\t    Time zone info (for tz-aware times)\\n\\n'"
      ]
     },
     "execution_count": 1,
     "metadata": {},
     "output_type": "execute_result"
    }
   ],
   "source": [
    "\"\"\"\n",
    "Main Classes in datetime Module\n",
    "\n",
    "\n",
    "1.datetime.datetime\t     Date + time combined\n",
    "2.datetime.date        \tOnly date (year, month, day)\n",
    "3.datetime.time\tOnly    time (hour, minute, second)\n",
    "4.datetime.timedelta\tDifference between two dates/times\n",
    "5.datetime.timezone\t    Time zone info (for tz-aware times)\n",
    "\n",
    "\"\"\""
   ]
  },
  {
   "cell_type": "markdown",
   "id": "99427bd5",
   "metadata": {},
   "source": [
    "Useful Methods:\n",
    "\n",
    "now() - returns current local date and time\n",
    "\n",
    "today() - same as now(), without timezone info for date\n",
    "\n",
    "utcnow() - returns current UTC date and time\n",
    "\n",
    "strftime() - formats datetime object into a string\n",
    "\n",
    "strptime() - parses string into datetime object\n",
    "\n",
    "WE use these methods in all these different classes one by one"
   ]
  },
  {
   "cell_type": "markdown",
   "id": "e3c96c8e",
   "metadata": {},
   "source": [
    "__1. Datetime class From Datetime Module__"
   ]
  },
  {
   "cell_type": "code",
   "execution_count": 7,
   "id": "65d15ce0",
   "metadata": {},
   "outputs": [
    {
     "name": "stdout",
     "output_type": "stream",
     "text": [
      "2025-07-11 12:10:56\n",
      "<class 'datetime.datetime'>\n",
      "2025-07-11 17:00:12\n"
     ]
    }
   ],
   "source": [
    "# example creating the datetime object \n",
    "\n",
    "#1. datetime.datetime\n",
    "import datetime    \n",
    "\n",
    "datetime_obj = datetime.datetime( 2025 ,  7  ,11 , 12 ,  10  ,   56) # we have to pass the arguments in datetime object in same order\n",
    "                                 # year,month,day,hour,minute,second\n",
    "                     \n",
    "print(datetime_obj)\n",
    "print(type(datetime_obj))\n",
    "\n",
    "\"\"\"Note : we have to pass the argument in same order , \n",
    "if we use keyword arguments then order does not matter\"\"\"\n",
    "# example\n",
    "\n",
    "datetime_obj2 = datetime.datetime(month=7,year=2025,day=11,second=12,hour=17) # we have to pass the values in datetime object\n",
    "# date arguments are neccessary to pass otherwise error\n",
    "# if time inputs are not given it take it as 00\n",
    "print(datetime_obj2)"
   ]
  },
  {
   "cell_type": "code",
   "execution_count": 8,
   "id": "7d437919",
   "metadata": {},
   "outputs": [
    {
     "name": "stdout",
     "output_type": "stream",
     "text": [
      "2025-07-12 17:12:14.497740\n",
      "month : 7\n",
      "Year 2025\n",
      "day : 12\n",
      "hour 5\n",
      "Minutes 12\n"
     ]
    }
   ],
   "source": [
    "# Create a Datetime Object representing the current date and time\n",
    " # to get current datetime use now() method of datetime class\n",
    "obj=datetime.datetime.now()\n",
    "print(obj)\n",
    "\n",
    "# we can access the particular attribute from the object\n",
    "print(\"month :\",obj.month)\n",
    "print(\"Year\",obj.year)\n",
    "print(\"day :\",obj.day)\n",
    "print(\"hour\",(obj.hour)%12) # to get 12 clock \n",
    "print(\"Minutes\",obj.minute)"
   ]
  },
  {
   "cell_type": "code",
   "execution_count": 9,
   "id": "4a3a2868",
   "metadata": {},
   "outputs": [
    {
     "name": "stdout",
     "output_type": "stream",
     "text": [
      "['__add__', '__class__', '__delattr__', '__dir__', '__doc__', '__eq__', '__format__', '__ge__', '__getattribute__', '__getstate__', '__gt__', '__hash__', '__init__', '__init_subclass__', '__le__', '__lt__', '__ne__', '__new__', '__radd__', '__reduce__', '__reduce_ex__', '__replace__', '__repr__', '__rsub__', '__setattr__', '__sizeof__', '__str__', '__sub__', '__subclasshook__', 'astimezone', 'combine', 'ctime', 'date', 'day', 'dst', 'fold', 'fromisocalendar', 'fromisoformat', 'fromordinal', 'fromtimestamp', 'hour', 'isocalendar', 'isoformat', 'isoweekday', 'max', 'microsecond', 'min', 'minute', 'month', 'now', 'replace', 'resolution', 'second', 'strftime', 'strptime', 'time', 'timestamp', 'timetuple', 'timetz', 'today', 'toordinal', 'tzinfo', 'tzname', 'utcfromtimestamp', 'utcnow', 'utcoffset', 'utctimetuple', 'weekday', 'year']\n",
      "now\n",
      "strftime\n",
      "strptime\n",
      "today\n",
      "utcnow\n"
     ]
    }
   ],
   "source": [
    "print(dir(datetime.datetime))\n",
    "#these are the Methods that we a can use on the datetime object\n",
    "\n",
    "importantmethods=['now','today','utcnow','strftime','strptime']\n",
    "for i in dir(datetime.datetime):\n",
    "    if i in importantmethods:\n",
    "        print (i)\n"
   ]
  },
  {
   "cell_type": "markdown",
   "id": "ee609095",
   "metadata": {},
   "source": [
    "[Format_code_File](./3formatcode.md)"
   ]
  },
  {
   "cell_type": "code",
   "execution_count": 10,
   "id": "3a77e12b",
   "metadata": {},
   "outputs": [
    {
     "name": "stdout",
     "output_type": "stream",
     "text": [
      "2025-07-12 17:12:14\n",
      "<class 'str'>\n",
      "2025-07-12 17:12:14\n"
     ]
    }
   ],
   "source": [
    "# datetime object ----> string format \n",
    "myobj=datetime.datetime.now()\n",
    "string_datetime=myobj.strftime(\"%Y-%m-%d %H:%M:%S\")\n",
    "print(string_datetime)\n",
    "print(type(string_datetime))\n",
    "\n",
    "# Sting format _--> to datetime object\n",
    "\n",
    "newobj=myobj.strptime(string_datetime,\"%Y-%m-%d %H:%M:%S\")\n",
    "print(newobj)"
   ]
  },
  {
   "cell_type": "code",
   "execution_count": null,
   "id": "7d32ef0d",
   "metadata": {},
   "outputs": [
    {
     "name": "stdout",
     "output_type": "stream",
     "text": [
      "2025-07-12 18:41:14.358181\n",
      "18:41:14.359197\n",
      "<class 'datetime.time'>\n",
      "2025-07-12\n",
      "<class 'datetime.date'>\n"
     ]
    }
   ],
   "source": [
    "# when we use now() we get both date and time\n",
    "# but if we  need only date or time :\n",
    "import datetime\n",
    "obj=datetime.datetime.now()\n",
    "print(obj)\n",
    "\n",
    "\n",
    "onlytime=datetime.datetime.now().time()\n",
    "print(onlytime)\n",
    "print(type(onlytime)) #time class object\n",
    "\n",
    "onlydate=obj.date()\n",
    "print(onlydate)\n",
    "print(type(onlydate)) # date class object"
   ]
  },
  {
   "cell_type": "markdown",
   "id": "a581e9f0",
   "metadata": {},
   "source": [
    "__2.Date CLass From DateTIme MOdule__\n"
   ]
  },
  {
   "cell_type": "markdown",
   "id": "e9d96334",
   "metadata": {},
   "source": [
    "Date class in datetime module is used to represent the date in format (year ,month ,day) without any time information"
   ]
  },
  {
   "cell_type": "code",
   "execution_count": 12,
   "id": "007dddcc",
   "metadata": {},
   "outputs": [
    {
     "name": "stdout",
     "output_type": "stream",
     "text": [
      "2007-02-25\n",
      "<class 'datetime.date'>\n",
      "Month : 2\n",
      "Year : 2007\n",
      "Day : 25\n"
     ]
    }
   ],
   "source": [
    "# to create the object of date class of datetime module\n",
    "import datetime\n",
    "\n",
    "mybirthday_obj=datetime.date(2007,  2  , 25) \n",
    "                           #(year,month,day)\n",
    "\n",
    "print(mybirthday_obj)\n",
    "print(type(mybirthday_obj))\n",
    "\n",
    "# to access specific attribute\n",
    "print(\"Month :\" ,mybirthday_obj.month)\n",
    "print(\"Year :\",mybirthday_obj.year)\n",
    "print(\"Day :\",mybirthday_obj.day)"
   ]
  },
  {
   "cell_type": "code",
   "execution_count": 13,
   "id": "f35ecdbf",
   "metadata": {},
   "outputs": [
    {
     "name": "stdout",
     "output_type": "stream",
     "text": [
      "2025-07-12\n",
      "7\n",
      "2025\n"
     ]
    }
   ],
   "source": [
    "# to create the Current date object : use today() method\n",
    "current_Date_obj=datetime.date.today()\n",
    "\n",
    "print(current_Date_obj)\n",
    "print(current_Date_obj.month)\n",
    "print(current_Date_obj.year)\n"
   ]
  },
  {
   "cell_type": "code",
   "execution_count": 14,
   "id": "bc0d68bd",
   "metadata": {},
   "outputs": [
    {
     "name": "stdout",
     "output_type": "stream",
     "text": [
      " 2025 -- 07 -- 12 \n",
      "<class 'str'>\n",
      "2025-07-12 00:00:00\n",
      "<class 'datetime.datetime'>\n"
     ]
    }
   ],
   "source": [
    "# format date object in string format (date object --> string format)\n",
    "from datetime import date\n",
    "dateobj=date.today()\n",
    "string_format=dateobj.strftime(\" %Y -- %m -- %d \")\n",
    "print(string_format)\n",
    "print(type(string_format))\n",
    "\n",
    "\n",
    "# to convert back in Date object we haveto use datetime object not the date \n",
    "dateobj1=datetime.datetime.strptime(string_format,\" %Y -- %m -- %d \")\n",
    "print(dateobj1)\n",
    "print(type(dateobj1))\n",
    "\n"
   ]
  },
  {
   "cell_type": "code",
   "execution_count": 7,
   "id": "4129a624",
   "metadata": {},
   "outputs": [
    {
     "name": "stdout",
     "output_type": "stream",
     "text": [
      "1970-01-01 05:30:10\n",
      "1970-01-01 05:30:10\n",
      "2025-07-12 23:22:35.028462\n",
      "2025-07-12 23:22:35.028462\n"
     ]
    }
   ],
   "source": [
    "#fromtimestamp() method\n",
    "import datetime\n",
    "import time\n",
    "\n",
    "print(datetime.datetime.fromtimestamp(10))\n",
    "print(datetime.datetime.fromtimestamp(10))\n",
    "#from epoch time\n",
    "# we know time.time() gives the seconds from Epoch\n",
    "\n",
    "seconds_from_epoch=time.time() \n",
    "\n",
    "print(datetime.datetime.fromtimestamp(seconds_from_epoch))\n",
    "print(datetime.datetime.fromtimestamp(seconds_from_epoch))\n"
   ]
  },
  {
   "cell_type": "markdown",
   "id": "3f7688a7",
   "metadata": {},
   "source": [
    "__3.Time CLass From Datetime Module__\n"
   ]
  },
  {
   "cell_type": "markdown",
   "id": "6abc77ca",
   "metadata": {},
   "source": [
    "The time class in the datetime module is used when you only need:\n",
    "(Hour,Minute,Second,Microsecond)\n",
    "It does not include the date."
   ]
  },
  {
   "cell_type": "code",
   "execution_count": 15,
   "metadata": {},
   "outputs": [
    {
     "name": "stdout",
     "output_type": "stream",
     "text": [
      "12:30:15\n",
      "Hour: 12\n",
      "Minutes: 30\n",
      "Seconds: 15\n"
     ]
    }
   ],
   "source": [
    "# creating the time object and accessing its attributes\n",
    "import datetime\n",
    "\n",
    "timeobj=datetime.time(12,30,15)  # hour, minute, second\n",
    "print(timeobj)\n",
    "\n",
    "print(\"Hour:\",timeobj.hour)\n",
    "print(\"Minutes:\",timeobj.minute)\n",
    "print(\"Seconds:\",timeobj.second)"
   ]
  },
  {
   "cell_type": "code",
   "execution_count": 16,
   "id": "6aa54c7a",
   "metadata": {},
   "outputs": [
    {
     "name": "stdout",
     "output_type": "stream",
     "text": [
      "00:00:00\n"
     ]
    }
   ],
   "source": [
    "# if we dont give the arguments by default it is 00\n",
    "defaultobj=datetime.time()\n",
    "print(defaultobj)"
   ]
  },
  {
   "cell_type": "code",
   "execution_count": 17,
   "id": "b4a18186",
   "metadata": {},
   "outputs": [
    {
     "name": "stdout",
     "output_type": "stream",
     "text": [
      "current TIme: 17:12:14.960419\n"
     ]
    }
   ],
   "source": [
    "\"\"\"\\\n",
    "we cannot get the current time directly using \n",
    "time() like you do with \n",
    "date.today() or datetime.now().\n",
    "If you want the current time:\n",
    "We have to use the datetime module\n",
    "Because time by itself doesnt know what \"now\" means — it needs the full datetime.\n",
    "\"\"\"\n",
    "\n",
    "Only_time=datetime.datetime.now().time()\n",
    "print(\"current TIme:\",Only_time)\n"
   ]
  },
  {
   "cell_type": "code",
   "execution_count": 18,
   "id": "2291e403",
   "metadata": {},
   "outputs": [
    {
     "name": "stdout",
     "output_type": "stream",
     "text": [
      "17 / 12 / 15\n",
      "17:12:15\n"
     ]
    }
   ],
   "source": [
    "# format the time object --> to string\n",
    "currenttime = datetime.datetime.now().time()\n",
    "\n",
    "string_format = currenttime.strftime(\"%H / %M / %S\")\n",
    "print(string_format)\n",
    "\n",
    "converted_back = datetime.datetime.strptime(string_format, \"%H / %M / %S\").time()\n",
    "print(converted_back)"
   ]
  },
  {
   "cell_type": "markdown",
   "id": "54f2ef69",
   "metadata": {},
   "source": [
    "__4.Timedelta CLass from datetime module__"
   ]
  },
  {
   "cell_type": "markdown",
   "id": "1e0898ff",
   "metadata": {},
   "source": [
    "The timedelta class represents the difference between two dates or times.\n",
    "\n",
    "You use it when you want to:\n",
    "\n",
    "Add or subtract days, hours, minutes, etc.\n",
    "\n",
    "Find how much time passed between two dates"
   ]
  },
  {
   "cell_type": "markdown",
   "id": "01db7a06",
   "metadata": {},
   "source": [
    "In Time Delta object these are the arguments that it takes :: \n",
    "\n",
    "\n",
    "days\t     -        Number of days\n",
    "\n",
    "seconds\t      -       Seconds\n",
    "\n",
    "microseconds    -   \tMicroseconds\n",
    "\n",
    "hours\t      -       Converted to seconds\n",
    "\n",
    "minutes\t       -      Converted to seconds\n",
    "\n",
    "weeks\t      -       Converted to days"
   ]
  },
  {
   "cell_type": "markdown",
   "id": "db36df9e",
   "metadata": {},
   "source": [
    "___This arguments must be given in same order , or we can use keyword arguments if we dont want to learn theorder ...__\n",
    "\n",
    "___here the year , months are not taken because it can make the things more complex (leap year) or many other perspectives,so weeks and days are addedin this class__\n",
    "\n",
    "__by default arguments are 0__\n"
   ]
  },
  {
   "cell_type": "code",
   "execution_count": 19,
   "id": "4d172977",
   "metadata": {},
   "outputs": [
    {
     "name": "stdout",
     "output_type": "stream",
     "text": [
      "31 days, 12:30:12.000012\n",
      "<class 'datetime.timedelta'>\n"
     ]
    }
   ],
   "source": [
    "# create the Timedelta object\n",
    "import datetime\n",
    "\n",
    "deltaobject=datetime.timedelta(days=10,\n",
    "                               seconds=12,\n",
    "                               microseconds=12,\n",
    "                               hours=12,\n",
    "                               minutes=30,\n",
    "                               weeks=3,\n",
    "                               )\n",
    "print(deltaobject)\n",
    "print(type(deltaobject))"
   ]
  },
  {
   "cell_type": "code",
   "execution_count": 20,
   "id": "06340670",
   "metadata": {},
   "outputs": [
    {
     "name": "stdout",
     "output_type": "stream",
     "text": [
      "2025-07-12 17:12:15.099207\n",
      "8 days, 0:30:00\n",
      "2025-07-20 17:42:15.099207\n",
      "<class 'datetime.datetime'>\n"
     ]
    }
   ],
   "source": [
    "# how to add timedelta object to datetime object\n",
    "\n",
    "#1 create the timedelta now object\n",
    "currenttime=datetime.datetime.now()\n",
    "print(currenttime)\n",
    "\n",
    "timedeltaobj=datetime.timedelta(days=1,weeks=1,minutes=30)\n",
    "print(timedeltaobj)\n",
    "\n",
    "# to add time\n",
    "futureObject=currenttime +timedeltaobj\n",
    "print(futureObject)\n",
    "print(type(futureObject))\n"
   ]
  },
  {
   "cell_type": "code",
   "execution_count": 21,
   "id": "bb6fefe5",
   "metadata": {},
   "outputs": [
    {
     "name": "stdout",
     "output_type": "stream",
     "text": [
      "2025-07-12\n",
      "After 100 days 2025-10-20\n"
     ]
    }
   ],
   "source": [
    "# Check that from current day what will be the day after 100 days\n",
    "currentdate=datetime.date.today()\n",
    "print(currentdate)\n",
    "\n",
    "timedeltaobj=datetime.timedelta(days=100)\n",
    "\n",
    "print(\"After 100 days\",currentdate+timedeltaobj)"
   ]
  },
  {
   "cell_type": "markdown",
   "id": "0a316140",
   "metadata": {},
   "source": [
    "__TO work with months and years we can use the third party module__\n",
    "\n",
    "\n",
    "__TO install that module use__\n",
    "\n",
    "pip install python-dateutil"
   ]
  },
  {
   "cell_type": "code",
   "execution_count": 22,
   "id": "1e006984",
   "metadata": {},
   "outputs": [],
   "source": [
    "# to use the months and years working importing the dateutil\n",
    "from dateutil.relativedelta import relativedelta\n",
    "\n",
    "import datetime #---> we have now() function\n",
    "\n",
    "# similary dateutil is module and\n",
    "#  relativedelta is class --->\n",
    "#  we have realtivedelta Method"
   ]
  },
  {
   "cell_type": "code",
   "execution_count": null,
   "id": "7e46e4b0",
   "metadata": {},
   "outputs": [
    {
     "name": "stdout",
     "output_type": "stream",
     "text": [
      "2025-07-12 17:12:15.206156\n",
      "After 5 years and 6 months\n",
      " 2031-01-12 17:12:15.206156\n"
     ]
    }
   ],
   "source": [
    "obj=datetime.datetime.now()\n",
    "print(obj)\n",
    "\n",
    "# to add years and months use relativedelta\n",
    "relativedeltaobj=relativedelta(years=5,months=6)\n",
    "\n",
    "futureObj=obj+relativedeltaobj\n",
    "print(\"After 5 years and 6 months\\n\",futureObj)\n",
    "\n"
   ]
  },
  {
   "cell_type": "code",
   "execution_count": 29,
   "id": "a60064ec",
   "metadata": {},
   "outputs": [
    {
     "name": "stdout",
     "output_type": "stream",
     "text": [
      "2025-07-12 17:17:16.173469\n",
      " 12 -- 07 -- 2025 \n",
      "2025-07-12 00:00:00\n",
      "2025/07/12\n",
      "2025-07-12 00:00:00\n"
     ]
    }
   ],
   "source": [
    "# to change the format of you datetime object\n",
    "obj=datetime.datetime.now()\n",
    "print(obj)\n",
    "\n",
    "stringformat=obj.strftime(\" %d -- %m -- %Y \")\n",
    "print(stringformat)\n",
    "\n",
    "# For converting the string in a different format, specify the matching format string in strptime.\n",
    "# Example: Convert ' 12 -- 07 -- 2025 ' to a datetime object using a different format (e.g., '%Y/%m/%d')\n",
    "\n",
    "# First, parse the string using its current format:\n",
    "dt_obj = datetime.datetime.strptime(stringformat, \" %d -- %m -- %Y \")\n",
    "print(dt_obj)\n",
    "\n",
    "# Now, if you want to display it in a different string format:\n",
    "new_string_format = dt_obj.strftime(\"%Y/%m/%d\")\n",
    "print(new_string_format)\n",
    "\n",
    "# Or, if you have a string in a different format, parse it accordingly:\n",
    "another_string = \"2025/07/12\"\n",
    "another_dt_obj = datetime.datetime.strptime(another_string, \"%Y/%m/%d\")\n",
    "print(another_dt_obj)"
   ]
  },
  {
   "cell_type": "code",
   "execution_count": 33,
   "id": "67a41847",
   "metadata": {},
   "outputs": [
    {
     "name": "stdout",
     "output_type": "stream",
     "text": [
      "seconds of 3 days 4 hour  273600.0\n",
      "Minutes of 3 days 4 hour  4560.0\n",
      "Hours of 3 days 4 hour  76.0\n"
     ]
    }
   ],
   "source": [
    "# time Delta usage ::\n",
    "# we can use this to time conversions\n",
    "# let us suppose you have three days and 4 hour ,your task is to change it to minutes\n",
    "# we use total_seconds() it provide us seconds conversion of given timedelta object\n",
    "import datetime\n",
    "deltaobj=datetime.timedelta(days=3,hours=4)\n",
    "\n",
    "# to get seconds of given delta object\n",
    "seconds=deltaobj.total_seconds()\n",
    "\n",
    "print(\"seconds of 3 days 4 hour \",seconds)\n",
    "print(\"Minutes of 3 days 4 hour \",seconds/60)\n",
    "print(\"Hours of 3 days 4 hour \",seconds/(60*60))\n"
   ]
  },
  {
   "cell_type": "code",
   "execution_count": null,
   "id": "59bd4b53",
   "metadata": {},
   "outputs": [
    {
     "name": "stdout",
     "output_type": "stream",
     "text": [
      "76.0\n",
      "3.1666666666666665\n",
      "273600.0\n",
      "0.4523809523809524\n",
      "273600000.0\n"
     ]
    }
   ],
   "source": [
    "# using the Delta Objects to find time conversions\n",
    "\n",
    "Daydelta=datetime.timedelta(days=1)\n",
    "hourdelta=datetime.timedelta(hours=1)\n",
    "seconddelta=datetime.timedelta(seconds=1)\n",
    "weekdelta=datetime.timedelta(weeks=1)\n",
    "milidelta=datetime.timedelta(milliseconds=1)\n",
    "\n",
    "\n",
    "deltaobj=datetime.timedelta(days=3,hours=4)\n",
    "\n",
    "# 3 days and 4 hours in hours using objects...\n",
    "Hour=(deltaobj/hourdelta)\n",
    "print(Hour)  # 76 hours\n",
    "\n",
    "# 3 days and 4 hours in days \n",
    "day=deltaobj/Daydelta\n",
    "print(day)  # 3.16\n",
    "\n",
    "# 3 days and 4 hours in seconds\n",
    "second=deltaobj/seconddelta\n",
    "print(second)  # 273600\n",
    "\n",
    "# 3 days and 4 hours in weeks \n",
    "week=deltaobj/weekdelta\n",
    "print(week)  # 0.45\n",
    "\n",
    "# 3 days and 4 hours in miliseconds\n",
    "mili=deltaobj/milidelta\n",
    "print(mili)  # 273600000\n"
   ]
  },
  {
   "cell_type": "code",
   "execution_count": 41,
   "id": "696d405c",
   "metadata": {},
   "outputs": [
    {
     "name": "stdout",
     "output_type": "stream",
     "text": [
      "227 days, 15:28:14.045350\n",
      "<class 'datetime.timedelta'>\n"
     ]
    }
   ],
   "source": [
    "# how to Take the difference Between two Dates\n",
    "import datetime\n",
    "\n",
    "time1=datetime.datetime.now()\n",
    "time2=datetime.datetime(2026,2,25,9,5,15)\n",
    "\n",
    "\n",
    "difference=time2-time1\n",
    "print(difference)\n",
    "print(type(difference)) # this TImedelta Object\n",
    "# note: whenever we find the difference between two different datetimeobject we get the TImedelta object\n",
    "\n",
    "\n"
   ]
  },
  {
   "cell_type": "code",
   "execution_count": 42,
   "id": "b7426fa8",
   "metadata": {},
   "outputs": [
    {
     "name": "stdout",
     "output_type": "stream",
     "text": [
      "327808.2340891667\n",
      "<class 'float'>\n"
     ]
    }
   ],
   "source": [
    "# What if we want to get the difference in minutes only\n",
    "\n",
    "difference=(time2-time1)/datetime.timedelta(minutes=1)\n",
    "print(difference)\n",
    "print(type(difference)) "
   ]
  },
  {
   "cell_type": "code",
   "execution_count": null,
   "id": "517ed7d0",
   "metadata": {},
   "outputs": [
    {
     "name": "stdout",
     "output_type": "stream",
     "text": [
      "2007 2 25\n",
      "6712 days, 17:59:56.223029\n",
      "Age: 18 Years 142 days\n"
     ]
    }
   ],
   "source": [
    "# PRactice find the difference between you birth date and now \n",
    "# your age\n",
    "\n",
    "import dateutil.relativedelta\n",
    "a,b,c=map(int,input(\"Enter your Dateof birth in YY/MM/DD Format :\").split(\"/\"))\n",
    "print(a,b,c)\n",
    "birthobj=datetime.datetime(a,b,c)\n",
    "currentobj=datetime.datetime.now()\n",
    "\n",
    "deltaobj=currentobj-birthobj\n",
    "print(deltaobj)\n",
    "\n",
    "# we can access the delta obj days \n",
    "years=deltaobj.days//365 # these are the years\n",
    "Days=deltaobj.days%365   # these are the remaining days\n",
    "print(f\"Age: {years} Years {Days} days\")\n"
   ]
  },
  {
   "cell_type": "code",
   "execution_count": 68,
   "id": "a15331ef",
   "metadata": {},
   "outputs": [
    {
     "name": "stdout",
     "output_type": "stream",
     "text": [
      "Years: 18, Months: 4, Days: 17\n",
      "relativedelta(years=+18, months=+4, days=+17, hours=+17, minutes=+59, seconds=+56, microseconds=+223029)\n"
     ]
    }
   ],
   "source": [
    "from dateutil.relativedelta import relativedelta\n",
    "#  the relativedelta object  directly provides the difference\n",
    "#  in years, months, and days between\n",
    "#  currentobj and birthobj.\n",
    "# we just have to pass the two objects as argument \n",
    "# Example:\n",
    "diff = relativedelta(currentobj, birthobj)\n",
    "print(f\"Years: {diff.years}, Months: {diff.months}, Days: {diff.days}\")\n",
    "print(diff)"
   ]
  }
 ],
 "metadata": {
  "kernelspec": {
   "display_name": "Python 3",
   "language": "python",
   "name": "python3"
  },
  "language_info": {
   "codemirror_mode": {
    "name": "ipython",
    "version": 3
   },
   "file_extension": ".py",
   "mimetype": "text/x-python",
   "name": "python",
   "nbconvert_exporter": "python",
   "pygments_lexer": "ipython3",
   "version": "3.13.5"
  }
 },
 "nbformat": 4,
 "nbformat_minor": 5
}
