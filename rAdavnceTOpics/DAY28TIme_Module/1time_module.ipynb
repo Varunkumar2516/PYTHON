{
 "cells": [
  {
   "cell_type": "markdown",
   "id": "9deeb950",
   "metadata": {},
   "source": [
    "__time module__\n",
    "\n",
    "1.Work with timestamps (number of seconds since 1970-01-01)\n",
    "\n",
    "2.Use delays (sleep)\n",
    "\n",
    "3.Format and parse times (but not full dates)\n",
    "\n",
    "4.Measure performance"
   ]
  },
  {
   "cell_type": "code",
   "execution_count": 5,
   "id": "2986186f",
   "metadata": {},
   "outputs": [
    {
     "data": {
      "text/plain": [
       "'\\nImportant functions In Time Module:\\ntime.time()\\t        Current time in seconds (timestamp)\\ntime.sleep(x)\\t    Pause for x seconds\\ntime.ctime()\\t    Convert timestamp to readable string\\ntime.localtime()\\tGet local time as struct_time\\ntime.gmtime()\\t    Get UTC time as struct_time\\ntime.strftime()\\t    Format a struct_time to string\\ntime.strptime()   \\tParse a time string to struct_time\\ntime.monotonic()\\n\\n'"
      ]
     },
     "execution_count": 5,
     "metadata": {},
     "output_type": "execute_result"
    }
   ],
   "source": [
    "\"\"\"\n",
    "Important functions In Time Module:\n",
    "time.time()\t        Current time in seconds (timestamp)\n",
    "time.sleep(x)\t    Pause for x seconds\n",
    "time.ctime()\t    Convert timestamp to readable string\n",
    "time.localtime()\tGet local time as struct_time\n",
    "time.gmtime()\t    Get UTC time as struct_time\n",
    "time.strftime()\t    Format a struct_time to string\n",
    "time.strptime()   \tParse a time string to struct_time\n",
    "time.monotonic()\n",
    "\n",
    "\"\"\""
   ]
  },
  {
   "cell_type": "code",
   "execution_count": 6,
   "id": "03e90bfd",
   "metadata": {},
   "outputs": [],
   "source": [
    "# Epoch refers to the number of seconds that have elapsed\n",
    "#  since January 1, 1970 (midnight UTC/GMT), \n",
    "# not counting leap seconds. This point in time is known as the Unix /window epoch.\n",
    "# Epoch in computing is the used as the starting point to calculate the timeintervals\n",
    "# Epoch in windows and unix 1 jan 1970- UTC 00:00:00"
   ]
  },
  {
   "cell_type": "markdown",
   "id": "bd11d6f6",
   "metadata": {},
   "source": [
    "1. time.time()\n",
    "- Returns the current time in seconds from epoch\n",
    "- jan 1,1970 at 00:00:00\n"
   ]
  },
  {
   "cell_type": "code",
   "execution_count": 15,
   "id": "a22d4b89",
   "metadata": {},
   "outputs": [
    {
     "name": "stdout",
     "output_type": "stream",
     "text": [
      "Seconds from 1jan 1970(epoch) 1752335180.216079\n",
      "Minutes from 1jan 1970(epoch) 29205586.33693465\n",
      "Hours from 1jan 1970(epoch) 486759.7722822442\n",
      "days from 1jan 1970(epoch) 20281.65717842684\n",
      "Years from 1jan 1970(epoch) 55.566184050484495\n"
     ]
    }
   ],
   "source": [
    "\n",
    "import time\n",
    "\n",
    "# we can calculate the Epoch as below\n",
    "epoch_seconds=time.time()\n",
    "print(\"Seconds from 1jan 1970(epoch)\",epoch_seconds)\n",
    "print(\"Minutes from 1jan 1970(epoch)\",epoch_seconds/60)\n",
    "print(\"Hours from 1jan 1970(epoch)\",epoch_seconds/3600)\n",
    "print(\"days from 1jan 1970(epoch)\",epoch_seconds/(3600*24))\n",
    "print(\"Years from 1jan 1970(epoch)\",epoch_seconds/(3600*24*365))\n",
    "\n"
   ]
  },
  {
   "cell_type": "markdown",
   "id": "b9b064ea",
   "metadata": {},
   "source": [
    "2. time.sleep(x)\n",
    "- suspend the execution of the current thread for specified number of seconds\n",
    "-x are the seconds"
   ]
  },
  {
   "cell_type": "code",
   "execution_count": 8,
   "id": "2f08d56c",
   "metadata": {},
   "outputs": [
    {
     "name": "stdout",
     "output_type": "stream",
     "text": [
      "hello\n"
     ]
    }
   ],
   "source": [
    "import time \n",
    "\n",
    "time.sleep(5)\n",
    "print(\"hello\")"
   ]
  },
  {
   "cell_type": "markdown",
   "id": "a91f8702",
   "metadata": {},
   "source": [
    "3. time.ctime(seconds)\n",
    "- convertes a timestamp (seconds since the epoch) into human readable string representing the local time. from the epoch time .. \n",
    "- seconds are the optional argument if it is not passed it takes the epoch time(seconds from)\n",
    "(time.time()) and provides the current local time\n",
    "- it gives the user readable format of time from the epoch time "
   ]
  },
  {
   "cell_type": "code",
   "execution_count": null,
   "id": "5e9a7f03",
   "metadata": {},
   "outputs": [
    {
     "name": "stdout",
     "output_type": "stream",
     "text": [
      "Current local time (no argument): Sat Jul 12 21:20:52 2025\n",
      "Sat Jul 12 21:20:52 2025\n",
      "Local time for epoch_seconds: Sun Sep  9 07:16:40 2001\n"
     ]
    }
   ],
   "source": [
    "#time.ctime() with and without arguments\n",
    "\n",
    "# ctime() with no arguments returns current local time as a string\n",
    "current_time_str = time.ctime()\n",
    "print(\"Current local time (no argument):\", current_time_str)\n",
    "\n",
    "# ctime() with a timestamp argument returns the corresponding local time as a string\n",
    "timestamp_example = 1000000000\n",
    "converted_time_str = time.ctime(timestamp_example) \n",
    "print(\"Local time for epoch_seconds:\", converted_time_str)"
   ]
  },
  {
   "cell_type": "markdown",
   "id": "05c04977",
   "metadata": {},
   "source": [
    "4. gmtime() and localtime() :-\n",
    "- these functions convert the timestamp into a __struct_time Object__ representing the UTC time and local Time ,resprectively"
   ]
  },
  {
   "cell_type": "code",
   "execution_count": 17,
   "id": "26106c7c",
   "metadata": {},
   "outputs": [
    {
     "name": "stdout",
     "output_type": "stream",
     "text": [
      "Current UTC time (struct_time): time.struct_time(tm_year=2025, tm_mon=7, tm_mday=12, tm_hour=15, tm_min=54, tm_sec=28, tm_wday=5, tm_yday=193, tm_isdst=0)\n",
      "Current local time (struct_time): time.struct_time(tm_year=2025, tm_mon=7, tm_mday=12, tm_hour=21, tm_min=24, tm_sec=28, tm_wday=5, tm_yday=193, tm_isdst=0)\n",
      "UTC time for timestamp_example: time.struct_time(tm_year=2001, tm_mon=9, tm_mday=9, tm_hour=1, tm_min=46, tm_sec=40, tm_wday=6, tm_yday=252, tm_isdst=0)\n",
      "Local time for timestamp_example: time.struct_time(tm_year=2001, tm_mon=9, tm_mday=9, tm_hour=7, tm_min=16, tm_sec=40, tm_wday=6, tm_yday=252, tm_isdst=0)\n"
     ]
    }
   ],
   "source": [
    "# time.gmtime() returns the current time in UTC as a struct_time object\n",
    "utc_time = time.gmtime() # by default it passes the epoch seconds\n",
    "print(\"Current UTC time (struct_time):\", utc_time)\n",
    "# Jalandhar is 5 hours and 30 minutes ahead of Coordinated Universal Time (UTC)\n",
    "\n",
    "\n",
    "# time.localtime() returns the current local time as a struct_time object\n",
    "local_time=time.localtime()  # by default it passes the epoch seconds\n",
    "print(\"Current local time (struct_time):\", local_time)\n",
    "\n",
    "\n",
    "# You can also convert a timestamp to struct_time in UTC or local time\n",
    "print(\"UTC time for timestamp_example:\", time.gmtime(timestamp_example))\n",
    "print(\"Local time for timestamp_example:\", time.localtime(timestamp_example))\n"
   ]
  },
  {
   "cell_type": "code",
   "execution_count": 11,
   "id": "4f698221",
   "metadata": {},
   "outputs": [
    {
     "name": "stdout",
     "output_type": "stream",
     "text": [
      "21\n",
      "15\n",
      "-6 hours difference\n"
     ]
    }
   ],
   "source": [
    "# to access particular attribute \n",
    "print(local_time.tm_hour) \n",
    "print(utc_time.tm_hour)\n",
    "difference=utc_time.tm_hour -local_time.tm_hour\n",
    "print(difference,\"hours difference\")"
   ]
  },
  {
   "cell_type": "markdown",
   "id": "0ee6aae1",
   "metadata": {},
   "source": [
    "# Lets see the 5. time.strftime() and time.strptime() for those we need to understand the format codes ...\n"
   ]
  },
  {
   "cell_type": "code",
   "execution_count": null,
   "id": "12fd20a1",
   "metadata": {},
   "outputs": [
    {
     "data": {
      "text/html": [
       "<div>\n",
       "<style scoped>\n",
       "    .dataframe tbody tr th:only-of-type {\n",
       "        vertical-align: middle;\n",
       "    }\n",
       "\n",
       "    .dataframe tbody tr th {\n",
       "        vertical-align: top;\n",
       "    }\n",
       "\n",
       "    .dataframe thead th {\n",
       "        text-align: right;\n",
       "    }\n",
       "</style>\n",
       "<table border=\"1\" class=\"dataframe\">\n",
       "  <thead>\n",
       "    <tr style=\"text-align: right;\">\n",
       "      <th></th>\n",
       "      <th>Format Code</th>\n",
       "      <th>Meaning</th>\n",
       "      <th>Example Output</th>\n",
       "    </tr>\n",
       "  </thead>\n",
       "  <tbody>\n",
       "    <tr>\n",
       "      <th>0</th>\n",
       "      <td>%a</td>\n",
       "      <td>Abbreviated weekday name</td>\n",
       "      <td>Mon</td>\n",
       "    </tr>\n",
       "    <tr>\n",
       "      <th>1</th>\n",
       "      <td>%A</td>\n",
       "      <td>Full weekday name</td>\n",
       "      <td>Monday</td>\n",
       "    </tr>\n",
       "    <tr>\n",
       "      <th>2</th>\n",
       "      <td>%b</td>\n",
       "      <td>Abbreviated month name</td>\n",
       "      <td>Jul</td>\n",
       "    </tr>\n",
       "    <tr>\n",
       "      <th>3</th>\n",
       "      <td>%B</td>\n",
       "      <td>Full month name</td>\n",
       "      <td>July</td>\n",
       "    </tr>\n",
       "    <tr>\n",
       "      <th>4</th>\n",
       "      <td>%w</td>\n",
       "      <td>Weekday as a decimal (0 = Sunday)</td>\n",
       "      <td>1</td>\n",
       "    </tr>\n",
       "    <tr>\n",
       "      <th>5</th>\n",
       "      <td>%d</td>\n",
       "      <td>Day of the month (zero-padded)</td>\n",
       "      <td>05</td>\n",
       "    </tr>\n",
       "    <tr>\n",
       "      <th>6</th>\n",
       "      <td>%m</td>\n",
       "      <td>Month as a decimal number (01–12)</td>\n",
       "      <td>07</td>\n",
       "    </tr>\n",
       "    <tr>\n",
       "      <th>7</th>\n",
       "      <td>%y</td>\n",
       "      <td>Year without century (00–99)</td>\n",
       "      <td>25</td>\n",
       "    </tr>\n",
       "    <tr>\n",
       "      <th>8</th>\n",
       "      <td>%Y</td>\n",
       "      <td>Year with century</td>\n",
       "      <td>2025</td>\n",
       "    </tr>\n",
       "    <tr>\n",
       "      <th>9</th>\n",
       "      <td>%H</td>\n",
       "      <td>Hour (24-hour clock, 00–23)</td>\n",
       "      <td>14</td>\n",
       "    </tr>\n",
       "    <tr>\n",
       "      <th>10</th>\n",
       "      <td>%I</td>\n",
       "      <td>Hour (12-hour clock, 01–12)</td>\n",
       "      <td>02</td>\n",
       "    </tr>\n",
       "    <tr>\n",
       "      <th>11</th>\n",
       "      <td>%p</td>\n",
       "      <td>AM/PM</td>\n",
       "      <td>PM</td>\n",
       "    </tr>\n",
       "    <tr>\n",
       "      <th>12</th>\n",
       "      <td>%M</td>\n",
       "      <td>Minute (00–59)</td>\n",
       "      <td>30</td>\n",
       "    </tr>\n",
       "    <tr>\n",
       "      <th>13</th>\n",
       "      <td>%S</td>\n",
       "      <td>Second (00–59)</td>\n",
       "      <td>08</td>\n",
       "    </tr>\n",
       "    <tr>\n",
       "      <th>14</th>\n",
       "      <td>%f</td>\n",
       "      <td>Microsecond (000000–999999)</td>\n",
       "      <td>548513</td>\n",
       "    </tr>\n",
       "    <tr>\n",
       "      <th>15</th>\n",
       "      <td>%z</td>\n",
       "      <td>UTC offset</td>\n",
       "      <td>+0530</td>\n",
       "    </tr>\n",
       "    <tr>\n",
       "      <th>16</th>\n",
       "      <td>%Z</td>\n",
       "      <td>Time zone name</td>\n",
       "      <td>IST</td>\n",
       "    </tr>\n",
       "    <tr>\n",
       "      <th>17</th>\n",
       "      <td>%j</td>\n",
       "      <td>Day of year (001–366)</td>\n",
       "      <td>193</td>\n",
       "    </tr>\n",
       "    <tr>\n",
       "      <th>18</th>\n",
       "      <td>%U</td>\n",
       "      <td>Week number (Sunday as first day)</td>\n",
       "      <td>27</td>\n",
       "    </tr>\n",
       "    <tr>\n",
       "      <th>19</th>\n",
       "      <td>%W</td>\n",
       "      <td>Week number (Monday as first day)</td>\n",
       "      <td>27</td>\n",
       "    </tr>\n",
       "    <tr>\n",
       "      <th>20</th>\n",
       "      <td>%c</td>\n",
       "      <td>Locale’s date and time</td>\n",
       "      <td>Sat Jul 12 14:30:00 2025</td>\n",
       "    </tr>\n",
       "    <tr>\n",
       "      <th>21</th>\n",
       "      <td>%x</td>\n",
       "      <td>Locale’s date</td>\n",
       "      <td>07/12/25</td>\n",
       "    </tr>\n",
       "    <tr>\n",
       "      <th>22</th>\n",
       "      <td>%X</td>\n",
       "      <td>Locale’s time</td>\n",
       "      <td>14:30:00</td>\n",
       "    </tr>\n",
       "    <tr>\n",
       "      <th>23</th>\n",
       "      <td>%%</td>\n",
       "      <td>Literal % character</td>\n",
       "      <td>%</td>\n",
       "    </tr>\n",
       "    <tr>\n",
       "      <th>24</th>\n",
       "      <td>%C</td>\n",
       "      <td>Century (year divided by 100, zero-padded)</td>\n",
       "      <td>20</td>\n",
       "    </tr>\n",
       "    <tr>\n",
       "      <th>25</th>\n",
       "      <td>%u</td>\n",
       "      <td>ISO weekday (1=Monday, 7=Sunday)</td>\n",
       "      <td>6</td>\n",
       "    </tr>\n",
       "    <tr>\n",
       "      <th>26</th>\n",
       "      <td>%V</td>\n",
       "      <td>ISO week number (01–53)</td>\n",
       "      <td>28</td>\n",
       "    </tr>\n",
       "    <tr>\n",
       "      <th>27</th>\n",
       "      <td>%G</td>\n",
       "      <td>ISO 8601 year</td>\n",
       "      <td>2025</td>\n",
       "    </tr>\n",
       "  </tbody>\n",
       "</table>\n",
       "</div>"
      ],
      "text/plain": [
       "   Format Code                                     Meaning  \\\n",
       "0           %a                    Abbreviated weekday name   \n",
       "1           %A                           Full weekday name   \n",
       "2           %b                      Abbreviated month name   \n",
       "3           %B                             Full month name   \n",
       "4           %w           Weekday as a decimal (0 = Sunday)   \n",
       "5           %d              Day of the month (zero-padded)   \n",
       "6           %m           Month as a decimal number (01–12)   \n",
       "7           %y                Year without century (00–99)   \n",
       "8           %Y                           Year with century   \n",
       "9           %H                 Hour (24-hour clock, 00–23)   \n",
       "10          %I                 Hour (12-hour clock, 01–12)   \n",
       "11          %p                                       AM/PM   \n",
       "12          %M                              Minute (00–59)   \n",
       "13          %S                              Second (00–59)   \n",
       "14          %f                 Microsecond (000000–999999)   \n",
       "15          %z                                  UTC offset   \n",
       "16          %Z                              Time zone name   \n",
       "17          %j                       Day of year (001–366)   \n",
       "18          %U           Week number (Sunday as first day)   \n",
       "19          %W           Week number (Monday as first day)   \n",
       "20          %c                      Locale’s date and time   \n",
       "21          %x                               Locale’s date   \n",
       "22          %X                               Locale’s time   \n",
       "23          %%                         Literal % character   \n",
       "24          %C  Century (year divided by 100, zero-padded)   \n",
       "25          %u            ISO weekday (1=Monday, 7=Sunday)   \n",
       "26          %V                     ISO week number (01–53)   \n",
       "27          %G                               ISO 8601 year   \n",
       "\n",
       "              Example Output  \n",
       "0                        Mon  \n",
       "1                     Monday  \n",
       "2                        Jul  \n",
       "3                       July  \n",
       "4                          1  \n",
       "5                         05  \n",
       "6                         07  \n",
       "7                         25  \n",
       "8                       2025  \n",
       "9                         14  \n",
       "10                        02  \n",
       "11                        PM  \n",
       "12                        30  \n",
       "13                        08  \n",
       "14                    548513  \n",
       "15                     +0530  \n",
       "16                       IST  \n",
       "17                       193  \n",
       "18                        27  \n",
       "19                        27  \n",
       "20  Sat Jul 12 14:30:00 2025  \n",
       "21                  07/12/25  \n",
       "22                  14:30:00  \n",
       "23                         %  \n",
       "24                        20  \n",
       "25                         6  \n",
       "26                        28  \n",
       "27                      2025  "
      ]
     },
     "metadata": {},
     "output_type": "display_data"
    }
   ],
   "source": [
    "import pandas as pd\n",
    "\n",
    "# just view the output of code\n",
    "# List of format codes and their meanings/examples\n",
    "format_codes = [\n",
    "    (\"%a\", \"Abbreviated weekday name\", \"Mon\"),\n",
    "    (\"%A\", \"Full weekday name\", \"Monday\"),\n",
    "    (\"%b\", \"Abbreviated month name\", \"Jul\"),\n",
    "    (\"%B\", \"Full month name\", \"July\"),\n",
    "    (\"%w\", \"Weekday as a decimal (0 = Sunday)\", \"1\"),\n",
    "    (\"%d\", \"Day of the month (zero-padded)\", \"05\"),\n",
    "    (\"%m\", \"Month as a decimal number (01–12)\", \"07\"),\n",
    "    (\"%y\", \"Year without century (00–99)\", \"25\"),\n",
    "    (\"%Y\", \"Year with century\", \"2025\"),\n",
    "    (\"%H\", \"Hour (24-hour clock, 00–23)\", \"14\"),\n",
    "    (\"%I\", \"Hour (12-hour clock, 01–12)\", \"02\"),\n",
    "    (\"%p\", \"AM/PM\", \"PM\"),\n",
    "    (\"%M\", \"Minute (00–59)\", \"30\"),\n",
    "    (\"%S\", \"Second (00–59)\", \"08\"),\n",
    "    (\"%f\", \"Microsecond (000000–999999)\", \"548513\"),\n",
    "    (\"%z\", \"UTC offset\", \"+0530\"),\n",
    "    (\"%Z\", \"Time zone name\", \"IST\"),\n",
    "    (\"%j\", \"Day of year (001–366)\", \"193\"),\n",
    "    (\"%U\", \"Week number (Sunday as first day)\", \"27\"),\n",
    "    (\"%W\", \"Week number (Monday as first day)\", \"27\"),\n",
    "    (\"%c\", \"Locale’s date and time\", \"Sat Jul 12 14:30:00 2025\"),\n",
    "    (\"%x\", \"Locale’s date\", \"07/12/25\"),\n",
    "    (\"%X\", \"Locale’s time\", \"14:30:00\"),\n",
    "    (\"%%\", \"Literal % character\", \"%\"),\n",
    "    (\"%C\", \"Century (year divided by 100, zero-padded)\", \"20\"),\n",
    "    (\"%u\", \"ISO weekday (1=Monday, 7=Sunday)\", \"6\"),\n",
    "    (\"%V\", \"ISO week number (01–53)\", \"28\"),\n",
    "    (\"%G\", \"ISO 8601 year\", \"2025\"),\n",
    "]\n",
    "\n",
    "# Create DataFrame\n",
    "df_format_codes = pd.DataFrame(format_codes, columns=[\"Format Code\", \"Meaning\", \"Example Output\"])\n",
    "display(df_format_codes)"
   ]
  },
  {
   "cell_type": "markdown",
   "id": "6b4e7b47",
   "metadata": {},
   "source": [
    "[Format_code_File](./3formatcode.md)"
   ]
  },
  {
   "cell_type": "code",
   "execution_count": null,
   "id": "7bd6b639",
   "metadata": {},
   "outputs": [
    {
     "name": "stdout",
     "output_type": "stream",
     "text": [
      "time.struct_time(tm_year=2025, tm_mon=7, tm_mday=12, tm_hour=22, tm_min=39, tm_sec=26, tm_wday=5, tm_yday=193, tm_isdst=0)\n",
      "22:39:26 PM 12 Jul 2025 India Standard Time\n",
      "<class 'str'>\n",
      "Sat Jul 12 22:39:26 2025 India Standard Time\n",
      "<class 'str'>\n"
     ]
    }
   ],
   "source": [
    "# using this format codes\n",
    "# time.strftime(\"Format\",object) # by default object is time.localtime()\n",
    "import time\n",
    "struct_time=time.localtime()\n",
    "print(struct_time)\n",
    "\n",
    "formatstring=time.strftime(\"%H:%M:%S %p %d %b %Y %Z\" ,struct_time)\n",
    "print(formatstring)\n",
    "print(type(formatstring))\n",
    "\n",
    "# easy way %c that include \"%a %b %d %H:%M:%S %Y\" Almost all Information we get by %c\n",
    "formatstring=time.strftime(\"%c %Z\" ,struct_time)\n",
    "print(formatstring)\n",
    "print(type(formatstring))"
   ]
  },
  {
   "cell_type": "code",
   "execution_count": null,
   "id": "2beb4bf3",
   "metadata": {},
   "outputs": [
    {
     "name": "stdout",
     "output_type": "stream",
     "text": [
      "Sat 12 Jul 2025 22:58:36 India Standard Time\n",
      "Sat 12 Jul 2025 22:58:36 \n"
     ]
    }
   ],
   "source": [
    "# Now Time Formatting with both time module \n",
    "# and datetime Module:: \n",
    "# object ---> string\n",
    "import time\n",
    "import datetime\n",
    "#using time module\n",
    "currenttime=time.strftime(\"%a %d %b %Y %H:%M:%S %Z\")\n",
    "print(currenttime)\n",
    "\n",
    "#using datetime module\n",
    "currentobj=datetime.datetime.now().strftime(\"%a %d %b %Y %H:%M:%S %Z\")\n",
    "print(currentobj)"
   ]
  },
  {
   "cell_type": "code",
   "execution_count": null,
   "id": "f3f0c545",
   "metadata": {},
   "outputs": [
    {
     "name": "stdout",
     "output_type": "stream",
     "text": [
      "Sat 12 Jul 2025 23:01:26 India Standard Time\n",
      "time.struct_time(tm_year=2025, tm_mon=7, tm_mday=12, tm_hour=23, tm_min=1, tm_sec=26, tm_wday=5, tm_yday=193, tm_isdst=0)\n"
     ]
    }
   ],
   "source": [
    "# formatted String --> object\n",
    "# time.strptime(string,format)\n",
    "currenttime=time.strftime(\"%a %d %b %Y %H:%M:%S %Z\")\n",
    "print(currenttime)\n",
    "\n",
    "newobj=time.strptime(currenttime,\"%a %d %b %Y %H:%M:%S %Z\")\n",
    "print(newobj)"
   ]
  },
  {
   "cell_type": "markdown",
   "id": "b8ea6a3f",
   "metadata": {},
   "source": [
    "# Practice"
   ]
  },
  {
   "cell_type": "code",
   "execution_count": 108,
   "id": "41bc3f79",
   "metadata": {},
   "outputs": [
    {
     "name": "stdout",
     "output_type": "stream",
     "text": [
      "time taken to Complete Execution is  0.639\n"
     ]
    }
   ],
   "source": [
    "#calculate the total Execution time of your Program using the time module\n",
    "import time\n",
    "\n",
    "start_time=time.time()\n",
    "mylist=[]\n",
    "for i in range (1000000):\n",
    "    mylist.append(i*i)\n",
    "\n",
    "end_time=time.time()\n",
    "total_time=end_time-start_time\n",
    "print(\"time taken to Complete Execution is \",round(total_time,3))\n"
   ]
  },
  {
   "cell_type": "code",
   "execution_count": 112,
   "id": "09b98a3a",
   "metadata": {},
   "outputs": [
    {
     "name": "stdout",
     "output_type": "stream",
     "text": [
      "time taken to Complete Execution is  0.412\n"
     ]
    }
   ],
   "source": [
    "# here we can see the time.time() method may be not provide the accurate answer\n",
    "# so to make it more accurate we use time.monotonic() function\n",
    "# using monotonic()\n",
    "import time\n",
    "\n",
    "start_time=time.monotonic()\n",
    "mylist=[]\n",
    "for i in range (1000000):\n",
    "    mylist.append(i*i)\n",
    "\n",
    "end_time=time.monotonic()\n",
    "total_time=end_time-start_time\n",
    "print(\"time taken to Complete Execution is \",round(total_time,3))\n"
   ]
  }
 ],
 "metadata": {
  "kernelspec": {
   "display_name": "Python 3",
   "language": "python",
   "name": "python3"
  },
  "language_info": {
   "codemirror_mode": {
    "name": "ipython",
    "version": 3
   },
   "file_extension": ".py",
   "mimetype": "text/x-python",
   "name": "python",
   "nbconvert_exporter": "python",
   "pygments_lexer": "ipython3",
   "version": "3.13.5"
  }
 },
 "nbformat": 4,
 "nbformat_minor": 5
}
