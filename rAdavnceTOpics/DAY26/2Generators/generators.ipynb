{
 "cells": [
  {
   "cell_type": "markdown",
   "id": "cced4e5c",
   "metadata": {},
   "source": [
    "__GENERATORS__\n",
    "\n",
    "Python Generators are the simple way to create Iterators....\n",
    "We have discussed the Iterators in last file\n",
    "\n",
    "[__ITERATORS__](../1Iterators/iterators.ipynb)"
   ]
  },
  {
   "cell_type": "code",
   "execution_count": null,
   "id": "9c71e47f",
   "metadata": {},
   "outputs": [],
   "source": [
    "# A generator is a special type of iterator that:\n",
    "\n",
    "# Uses yield instead of return\n",
    "# Doesn't store the entire result in memory\n",
    "\n",
    "\"\"\"\n",
    "yield keyword :::\n",
    "Similar to return, but pauses the function\n",
    "The function remembers where it left off\n",
    "\"\"\""
   ]
  },
  {
   "cell_type": "code",
   "execution_count": null,
   "id": "91bde38a",
   "metadata": {},
   "outputs": [],
   "source": [
    "\"\"\"\n",
    "THeory\n",
    "Generators in Python = Functions That Yield Generator Objects\n",
    "When you write a function that uses the yield keyword, Python automatically turns it into a generator.\"\"\"\n",
    "def my_gen():\n",
    "    yield 1\n",
    "    yield 2\n",
    "\"\"\"\n",
    "Calling my_gen() does not run the function — it just gives you a generator object:\n",
    "\"\"\"\n",
    "gen = my_gen()         #  generator object created\n",
    "print(next(gen))       #  runs until first yield: prints 1\n",
    "print(next(gen))       #  continues: prints 2\n",
    "\n",
    "\"\"\"\n",
    "A generator function is just a function, but when you call it, it returns a generator object (which is an iterator)\n",
    "Generator Object = An Iterator.\"\"\"\n"
   ]
  },
  {
   "cell_type": "code",
   "execution_count": null,
   "id": "2cbbfeb0",
   "metadata": {},
   "outputs": [
    {
     "name": "stdout",
     "output_type": "stream",
     "text": [
      "Hello first time\n",
      "Hello 2nd time\n",
      "Hello 3rd time\n",
      "Hello first time\n",
      "Hello 2nd time\n",
      "Hello 3rd time\n"
     ]
    }
   ],
   "source": [
    "def my_gen():\n",
    "    yield \"Hello first time\"\n",
    "    yield \"Hello 2nd time\"\n",
    "    yield \"Hello 3rd time\"\n",
    "\n",
    "# WE can also Use \n",
    "my_obj=my_gen()\n",
    "print(next(my_obj))\n",
    "print(next(my_obj))\n",
    "print(next(my_obj))\n",
    "\n",
    "# another way\n",
    "obj=my_gen()\n",
    "for i in my_gen():\n",
    "    print(i)\n"
   ]
  },
  {
   "cell_type": "code",
   "execution_count": 31,
   "id": "cace8501",
   "metadata": {},
   "outputs": [
    {
     "name": "stdout",
     "output_type": "stream",
     "text": [
      "1\n",
      "2\n",
      "3\n"
     ]
    }
   ],
   "source": [
    "def gen_count(n):\n",
    "   \n",
    "   for i in range(1,n+1):\n",
    "      yield i\n",
    "\n",
    "    \n",
    "gen_obj=gen_count(3)\n",
    "print(next(gen_obj)) #1\n",
    "print(next(gen_obj)) #2\n",
    "print(next(gen_obj)) #3\n",
    "\n"
   ]
  },
  {
   "cell_type": "code",
   "execution_count": 36,
   "id": "fc897fdf",
   "metadata": {},
   "outputs": [
    {
     "name": "stdout",
     "output_type": "stream",
     "text": [
      "1\n",
      "2\n",
      "3\n"
     ]
    }
   ],
   "source": [
    "# Same work with For loop\n",
    "def gen_count(n):\n",
    "   \n",
    "   for i in range(1,n+1):\n",
    "      yield i\n",
    "\n",
    "gen_obj2=gen_count(3)\n",
    "for i in gen_obj2:\n",
    "    print(i)"
   ]
  },
  {
   "cell_type": "code",
   "execution_count": 1,
   "metadata": {},
   "outputs": [
    {
     "name": "stdout",
     "output_type": "stream",
     "text": [
      "1 4 9 16 25 36 49 64 81 100 "
     ]
    }
   ],
   "source": [
    "# forexample \n",
    "\n",
    "# simple function\n",
    "def square(n):\n",
    "    print(n**2,end=' ')\n",
    "\n",
    "for i in range(1,11):\n",
    "    square(i)"
   ]
  },
  {
   "cell_type": "code",
   "execution_count": null,
   "id": "ce909636",
   "metadata": {},
   "outputs": [
    {
     "name": "stdout",
     "output_type": "stream",
     "text": [
      "1  4  9  16  25  36  49  64  81  100  [1, 4, 9, 16, 25, 36, 49, 64, 81, 100]\n"
     ]
    }
   ],
   "source": [
    "# generator function\n",
    "\n",
    "def Gen_square(list):\n",
    "    \n",
    "    for i in list:\n",
    "       \n",
    "        yield i**2\n",
    "    \n",
    "\n",
    "L=[i for i in range(1,11)]\n",
    "gen=Gen_square(L)\n",
    "for i in gen:\n",
    "    print(i,end='  ')\n",
    "\n",
    "\n"
   ]
  },
  {
   "cell_type": "code",
   "execution_count": null,
   "id": "772b96a1",
   "metadata": {},
   "outputs": [],
   "source": [
    "# we know that to create our own iterator it \n",
    "# needs lot of lines of codes \n",
    "#so to overcome this we use the Generators\n",
    "\n"
   ]
  }
 ],
 "metadata": {
  "kernelspec": {
   "display_name": "Python 3",
   "language": "python",
   "name": "python3"
  },
  "language_info": {
   "codemirror_mode": {
    "name": "ipython",
    "version": 3
   },
   "file_extension": ".py",
   "mimetype": "text/x-python",
   "name": "python",
   "nbconvert_exporter": "python",
   "pygments_lexer": "ipython3",
   "version": "3.13.5"
  }
 },
 "nbformat": 4,
 "nbformat_minor": 5
}
