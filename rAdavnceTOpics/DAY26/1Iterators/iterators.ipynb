{
 "cells": [
  {
   "cell_type": "markdown",
   "id": "50310fc7",
   "metadata": {},
   "source": [
    "# What is an Iteration.\n",
    "\n",
    "Iteration is a general term for taking each item of something.one by Another one. Any time you use a Loop ,Explicit or Implicit to go over a group of items ,that is Iteration.\n",
    "THe process of Traversing the Elements of Objects one by one."
   ]
  },
  {
   "cell_type": "code",
   "execution_count": 16,
   "id": "0fb6f28e",
   "metadata": {},
   "outputs": [
    {
     "name": "stdout",
     "output_type": "stream",
     "text": [
      "[0, 1, 4, 9, 16, 25, 36, 49, 64, 81, 100]\n",
      "0 1 4 9 16 25 36 49 64 81 100 "
     ]
    }
   ],
   "source": [
    "#Example\n",
    "Square=[i**2 for i in range(0,11)]\n",
    "print(Square)\n",
    "\n",
    "# Now to iterate Over the Square List we use Iteration\n",
    "for i in Square:\n",
    "    print(i,end=' ')"
   ]
  },
  {
   "cell_type": "markdown",
   "id": "e3ba646d",
   "metadata": {},
   "source": [
    "*****\n",
    "# What is Iterator \n",
    "\n",
    "An Iterator is an Object that Allows a Programmer to traverse through a sequence of data without having to store the entire data in the memory .\n",
    "\n",
    "SO There is always a Iterator to iteration over the Sequence of data, Which means Iterator is the thing which allow the Iteration.\n",
    "\n",
    "Everytime when we Use loop ,There exist a Iterator that fetch the data and gives to loop to use that data one by one.\n",
    "\n"
   ]
  },
  {
   "cell_type": "code",
   "execution_count": null,
   "id": "2d0d461f",
   "metadata": {},
   "outputs": [
    {
     "name": "stdout",
     "output_type": "stream",
     "text": [
      "In bytes 800984\n",
      "In Kb 100123.0\n",
      "In Mb 782.2109375\n",
      "In bytes 48\n",
      "In Kb 6.0\n",
      "In Mb 0.046875\n"
     ]
    }
   ],
   "source": [
    "# Example :: list of Around 1 lakh Numbers\n",
    "# List is not an Iterator \n",
    "# because it store all the Data in memory\n",
    "L=[x for x in range(1,100000)]\n",
    "\n",
    "# to get the size of  our List\n",
    "import sys\n",
    "x=sys.getsizeof(L)\n",
    "print(\"In bytes\",x)\n",
    "\n",
    "# in \"Kb\"\n",
    "print(\"In Kb\",x/8) \n",
    "# in \"Mb\"\n",
    "print(\"In Mb\",x/1024) #around 782 Mb \n",
    "\n",
    "\n",
    "\n",
    "# now same thing with another method\n",
    "# It is an iterable that is memory efficient and behaves like a generator. \n",
    "num=range(1,100000) #iterator \n",
    "s=sys.getsizeof(num)\n",
    "\n",
    "print(\"In bytes\",s)\n",
    "\n",
    "# in \"Kb\"\n",
    "print(\"In Kb\",s/8) \n",
    "# in \"Mb\"\n",
    "print(\"In Mb\",s/1024) #around 0.04Mb\n",
    "\n",
    "\n"
   ]
  },
  {
   "cell_type": "markdown",
   "id": "4e2849c1",
   "metadata": {},
   "source": [
    "*****\n",
    "# What Is Iterable\n",
    "\n",
    "Iterable is an object ,which one can iterate over.\n",
    "It generates an Iterator when passed to iter() method.When We use ITerable it gives us a Iterator ..\n",
    "\n",
    "So every object on which we can iterate is called Iterable ,for eg. List,Range() they are the ITerable we can iterate over them.\n",
    "\n"
   ]
  },
  {
   "cell_type": "code",
   "execution_count": 5,
   "id": "f7cf1048",
   "metadata": {},
   "outputs": [
    {
     "data": {
      "text/plain": [
       "list_iterator"
      ]
     },
     "execution_count": 5,
     "metadata": {},
     "output_type": "execute_result"
    }
   ],
   "source": [
    "# example\n",
    "L=[1,2,3]\n",
    "type(L)\n",
    "\n",
    "# L is an Iterable \n",
    "\n",
    "type(iter(L))\n",
    "\n",
    "# iter(L) --> is an Iterator\n",
    "\n"
   ]
  },
  {
   "cell_type": "markdown",
   "id": "b67000e6",
   "metadata": {},
   "source": [
    "# Point To remember\n",
    "\n",
    "- Every Iterator is also An Iterable ..\n",
    "- Not all Iterables are Iterators"
   ]
  },
  {
   "cell_type": "markdown",
   "id": "c0b15b65",
   "metadata": {},
   "source": [
    "- Trick:\n",
    "- Every Iterable has An Iter Function\n",
    "- Every Iterator has Both iter Function as well as a next function. "
   ]
  },
  {
   "cell_type": "code",
   "execution_count": 58,
   "id": "50608f0c",
   "metadata": {},
   "outputs": [
    {
     "name": "stdout",
     "output_type": "stream",
     "text": [
      "1\n",
      "2\n",
      "3\n",
      "['__add__', '__class__', '__class_getitem__', '__contains__', '__delattr__', '__dir__', '__doc__', '__eq__', '__format__', '__ge__', '__getattribute__', '__getitem__', '__getnewargs__', '__getstate__', '__gt__', '__hash__', '__init__', '__init_subclass__', '__iter__', '__le__', '__len__', '__lt__', '__mul__', '__ne__', '__new__', '__reduce__', '__reduce_ex__', '__repr__', '__rmul__', '__setattr__', '__sizeof__', '__str__', '__subclasshook__', 'count', 'index']\n",
      "Iterable\n"
     ]
    }
   ],
   "source": [
    "# To check the Object is Iterable or not\n",
    "# two Methods\n",
    "# 1. Try to iterate with for loop\n",
    "# 2. check the dir(object name) it provide the view of Magic methods ,find __iter__()\n",
    "# if it is found in that magic methods it is iterable\n",
    "mytuple=(1,2,3)\n",
    "#1.  -> \n",
    "for i in mytuple:\n",
    "    print(i)\n",
    "\n",
    "#2. -> \n",
    "print(dir(mytuple))\n",
    "if \"__iter__\" in dir(mytuple):\n",
    "    print(\"Iterable\")\n",
    "# if the dir "
   ]
  },
  {
   "cell_type": "code",
   "execution_count": null,
   "id": "cd7dec08",
   "metadata": {},
   "outputs": [
    {
     "name": "stdout",
     "output_type": "stream",
     "text": [
      "Iterable\n",
      "Iterable and iterator \n"
     ]
    }
   ],
   "source": [
    "# To check the Object is Iterator or not:\n",
    "# 1. Method\n",
    "# use dir(object_name) if \n",
    "# it contains the __iter__ as well __next__ Magic Methods\n",
    "# then the Object is an Iterator,and Iterable \n",
    "\n",
    "def Check(x):\n",
    "    if \"__iter__\" in dir(x) and \"__next__\" in dir(x):\n",
    "        print(\"Iterable and iterator \")\n",
    "    elif \"__iter__\" in dir(x):\n",
    "        print(\"Iterable\")\n",
    "    else:\n",
    "        print(\"Not Iterable and iterator\")\n",
    "\n",
    "x=range(0,10000) #itearble \n",
    "Check(x)\n",
    "\n",
    "\n",
    "iterator_x=iter(x)#itearble and iterator\n",
    "Check(iterator_x)"
   ]
  },
  {
   "cell_type": "markdown",
   "id": "269021ea",
   "metadata": {},
   "source": [
    "# Understanding How for looop works\n"
   ]
  },
  {
   "cell_type": "code",
   "execution_count": null,
   "id": "452fac7b",
   "metadata": {},
   "outputs": [
    {
     "name": "stdout",
     "output_type": "stream",
     "text": [
      "1\n",
      "2\n",
      "3\n"
     ]
    }
   ],
   "source": [
    "num=[1,2,3]\n",
    "\n",
    "for i in num:\n",
    "    print(i)\n",
    "\n"
   ]
  },
  {
   "cell_type": "code",
   "execution_count": null,
   "id": "2ea2975c",
   "metadata": {},
   "outputs": [
    {
     "data": {
      "text/plain": [
       "2"
      ]
     },
     "execution_count": 62,
     "metadata": {},
     "output_type": "execute_result"
    }
   ],
   "source": [
    "#let us understand how the for loop works in python\n",
    "num=[1,2,3]\n",
    "#1....\n",
    "#From here python Fetches the Iterator \n",
    "# by using the Iter() function\n",
    "myiter=iter(num)\n",
    "\n",
    "\n",
    "#2... \n",
    "# then python calls the next function\n",
    "next(myiter) #     1\n",
    "next(myiter) #     2\n",
    "next(myiter) #     3\n",
    "\n",
    "#summary: when we use for loop on our any iterable object\n",
    "# python finds the Iterator from it and then \n",
    "# by calling the next function on that iterator until the all elements get fetched\n",
    "# this is simple logic of for loop"
   ]
  },
  {
   "cell_type": "code",
   "execution_count": 1,
   "id": "f2f4f91e",
   "metadata": {},
   "outputs": [
    {
     "name": "stdout",
     "output_type": "stream",
     "text": [
      "h e l l o \n",
      "1 2 3 \n",
      "1 2 3 \n",
      "0 1 \n"
     ]
    }
   ],
   "source": [
    "# making own For loop\n",
    "\n",
    "def MyownFORLOOP(iterable):\n",
    "    myiterator=iter(iterable)\n",
    "    \n",
    "    while True:\n",
    "        try:\n",
    "            print(next(myiterator),end=' ')\n",
    "        except StopIteration:\n",
    "            print()\n",
    "            break\n",
    "a=\"hello\"           \n",
    "b=(1,2,3)\n",
    "c={1,2,3}\n",
    "d={0:1,1:2}\n",
    "\n",
    "MyownFORLOOP(a)\n",
    "MyownFORLOOP(b)\n",
    "MyownFORLOOP(c)\n",
    "MyownFORLOOP(d)  \n"
   ]
  },
  {
   "cell_type": "markdown",
   "id": "ffaaf433",
   "metadata": {},
   "source": [
    "# confusion\n",
    "WE know when we use iter() function on iterable we get the iterator , and we know in that iterator we will get two Magic methods __iter__, __next__ (we can observe this by using the dir(iterator)).\n",
    "\n",
    "...so we can observe that what we will get when we perform the iter () function again on iterator.......\n",
    "\n",
    "__Important: if we perform iter() on   iterator we will get the same iterator again...__\n",
    "\n"
   ]
  },
  {
   "cell_type": "code",
   "execution_count": 72,
   "id": "c4874708",
   "metadata": {},
   "outputs": [
    {
     "name": "stdout",
     "output_type": "stream",
     "text": [
      "Iterable\n",
      "Iterable and iterator \n",
      "First iterator by iter(L) 2868288127568\n",
      "Iterable and iterator \n",
      "Second iterator by iter(Iterator_obj) 2868288127568\n"
     ]
    }
   ],
   "source": [
    "# L is iterable \n",
    "L=[1,2,3]\n",
    "Check(L)\n",
    "\n",
    "# by using the iter() we get iterator \n",
    "Iterator_obj=iter(L)\n",
    "Check(Iterator_obj)\n",
    "print(\"First iterator by iter(L)\",id(Iterator_obj))\n",
    "\n",
    "\n",
    "# now again try the iter() fucntion on Iterator\n",
    "newiter=iter(Iterator_obj)\n",
    "Check(newiter)\n",
    "print(\"Second iterator by iter(Iterator_obj)\",id(newiter))\n",
    "\n",
    "# we observe that if we use iter() on iterable we get iterator\n",
    "# and if we perform iter() on iterator we will get the same iterator...\n",
    "\n"
   ]
  },
  {
   "cell_type": "markdown",
   "id": "7ae6374e",
   "metadata": {},
   "source": [
    "__Now why we understand this concept__\n",
    "\n",
    "- Because when we want to create our own data type class ,if we want to add the functionality of iteration to it we can add it by using the __iter__ and __next__ methods\n"
   ]
  },
  {
   "cell_type": "code",
   "execution_count": 85,
   "id": "695d2511",
   "metadata": {},
   "outputs": [
    {
     "name": "stdout",
     "output_type": "stream",
     "text": [
      "1\n",
      "2\n",
      "3\n",
      "4\n",
      "5\n",
      "6\n",
      "7\n",
      "8\n",
      "9\n"
     ]
    }
   ],
   "source": [
    "#lets create our own data type that works same as range() function\n",
    "\n",
    "# iterable class\n",
    "class Myrange:\n",
    "    def __init__(self,start=0,end=0):\n",
    "        \n",
    "        self.start=start\n",
    "        self.end=end\n",
    "    \n",
    "    def __iter__(self):\n",
    "       return MyrangeIterator(self.start,self.end)\n",
    "\n",
    "class MyrangeIterator:\n",
    "    def __init__(self,start,end):\n",
    "        self.start=start\n",
    "        self.end=end\n",
    "    def __iter__(self):\n",
    "       return self\n",
    "    # we know when we call the iter() on iterator we get the same iterator itself\n",
    "    def __next__(self):\n",
    "         if self.start>=self.end:\n",
    "             raise StopIteration\n",
    "         current=self.start\n",
    "         self.start+=1 \n",
    "         return current\n",
    "       \n",
    "for i in Myrange(1,10):\n",
    "    print(i)\n"
   ]
  },
  {
   "cell_type": "code",
   "execution_count": null,
   "id": "d06f281e",
   "metadata": {},
   "outputs": [
    {
     "data": {
      "text/plain": [
       "__main__.Myrange"
      ]
     },
     "execution_count": 90,
     "metadata": {},
     "output_type": "execute_result"
    }
   ],
   "source": [
    "# iterable\n",
    "myobj=Myrange(1,11)\n",
    "type(myobj)"
   ]
  },
  {
   "cell_type": "code",
   "execution_count": null,
   "id": "52d222e9",
   "metadata": {},
   "outputs": [
    {
     "data": {
      "text/plain": [
       "<__main__.MyrangeIterator at 0x29bd3e50ef0>"
      ]
     },
     "execution_count": 94,
     "metadata": {},
     "output_type": "execute_result"
    }
   ],
   "source": [
    "#iterator \n",
    "iter(myobj)"
   ]
  },
  {
   "cell_type": "markdown",
   "id": "9e02fde7",
   "metadata": {},
   "source": [
    "__NEXT TOPIC__\n",
    "\n",
    "\n",
    "[__GENERATORS__](../2Generators/generators.ipynb)"
   ]
  }
 ],
 "metadata": {
  "kernelspec": {
   "display_name": "Python 3",
   "language": "python",
   "name": "python3"
  },
  "language_info": {
   "codemirror_mode": {
    "name": "ipython",
    "version": 3
   },
   "file_extension": ".py",
   "mimetype": "text/x-python",
   "name": "python",
   "nbconvert_exporter": "python",
   "pygments_lexer": "ipython3",
   "version": "3.13.5"
  }
 },
 "nbformat": 4,
 "nbformat_minor": 5
}
