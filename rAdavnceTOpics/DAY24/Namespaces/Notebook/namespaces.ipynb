{
 "cells": [
  {
   "cell_type": "markdown",
   "id": "489edffa",
   "metadata": {},
   "source": [
    "# Namespaces In python::\n",
    "A namespace is a system that maps names (identifiers) to objects in Python.\n",
    "Think of it like a dictionary where variable names are the keys and their values are the objects in memory.\n",
    "\n",
    "Example:\n",
    "\n",
    "x = 10\n",
    "\n",
    "#In the namespace: {'x': 10}\n",
    "\n",
    "\n"
   ]
  },
  {
   "cell_type": "markdown",
   "id": "df599664",
   "metadata": {},
   "source": [
    "---------------------------------------\n",
    "Python has four main types of namespaces based on scope and lifetime:\n",
    "\n",
    "1.Local namespace\n",
    "\n",
    "2.Enclosing namespace\n",
    "\n",
    "3.Global Namsepace\n",
    "\n",
    "4.Built-in namespace"
   ]
  },
  {
   "cell_type": "markdown",
   "id": "154bbf58",
   "metadata": {},
   "source": [
    "\n",
    "\n",
    "# LEGB : RUle\n",
    "L → E → G → B\n",
    "\n",
    "1.Local\n",
    "\n",
    "2.Enclosing\n",
    "\n",
    "3.Global\n",
    "\n",
    "4.Built-in\n",
    "\n",
    "It means  The interpreter Searches for name from Inside out ,First it looks in Local Scope then ->> Enclosing ->> and Global Scope ->>at Last it check in Build in Scope \n",
    "\n",
    "If python Does not find the name any of these ,Namespaces it Raises the NameError Exception\n",
    "\n"
   ]
  },
  {
   "cell_type": "markdown",
   "id": "22e313b4",
   "metadata": {},
   "source": [
    "------------------------------"
   ]
  },
  {
   "cell_type": "code",
   "execution_count": 4,
   "id": "5c30cb56",
   "metadata": {},
   "outputs": [
    {
     "name": "stdout",
     "output_type": "stream",
     "text": [
      "Local Scope : Local_var\n",
      "Global  Scope : global_var\n"
     ]
    }
   ],
   "source": [
    "# GLobal And Local scope\n",
    "#1.. let us Understand the Local and Global First \n",
    "#local Scope :Region inside a function where variables are only accessible within that function.Region inside the function.)\n",
    "#global scope: Variables defined at the top level of a script or notebook — accessible throughout the entire program/module.(Scope across the entire program/module.)\n",
    "x=\"global_var\"\n",
    "\n",
    "def myfunct():\n",
    "    x=\"Local_var\"\n",
    "    print(\"Local Scope :\",x)\n",
    "\n",
    "myfunct()\n",
    "print(\"Global  Scope :\",x)"
   ]
  },
  {
   "cell_type": "code",
   "execution_count": 6,
   "id": "89950b49",
   "metadata": {},
   "outputs": [
    {
     "name": "stdout",
     "output_type": "stream",
     "text": [
      "Local Area : global_var\n",
      "Global  Scope : global_var\n"
     ]
    }
   ],
   "source": [
    "#2 .. If the Local Variable is not defined \n",
    "#python interpreter automaticaly checks in global scope\n",
    "#but the Converse is not true\n",
    "x=\"global_var\"\n",
    "\n",
    "def myfunct():\n",
    "    print(\"Local Area :\",x)\n",
    "\n",
    "myfunct()\n",
    "print(\"Global  Area :\",x)\n",
    "\n",
    "#we can access the gloabl variables in local scope"
   ]
  },
  {
   "cell_type": "code",
   "execution_count": 7,
   "id": "4421bd78",
   "metadata": {},
   "outputs": [
    {
     "ename": "UnboundLocalError",
     "evalue": "cannot access local variable 'x' where it is not associated with a value",
     "output_type": "error",
     "traceback": [
      "\u001b[31m---------------------------------------------------------------------------\u001b[39m",
      "\u001b[31mUnboundLocalError\u001b[39m                         Traceback (most recent call last)",
      "\u001b[36mCell\u001b[39m\u001b[36m \u001b[39m\u001b[32mIn[7]\u001b[39m\u001b[32m, line 8\u001b[39m\n\u001b[32m      5\u001b[39m     x=x+\u001b[33m'\u001b[39m\u001b[33mchanging\u001b[39m\u001b[33m'\u001b[39m      \u001b[38;5;66;03m# changing the global variable\u001b[39;00m\n\u001b[32m      6\u001b[39m     \u001b[38;5;28mprint\u001b[39m(\u001b[33m\"\u001b[39m\u001b[33mLocal Area :\u001b[39m\u001b[33m\"\u001b[39m,x)\n\u001b[32m----> \u001b[39m\u001b[32m8\u001b[39m \u001b[43mmyfunct\u001b[49m\u001b[43m(\u001b[49m\u001b[43m)\u001b[49m\n\u001b[32m      9\u001b[39m \u001b[38;5;28mprint\u001b[39m(\u001b[33m\"\u001b[39m\u001b[33mGlobal  Scope :\u001b[39m\u001b[33m\"\u001b[39m,x)\n",
      "\u001b[36mCell\u001b[39m\u001b[36m \u001b[39m\u001b[32mIn[7]\u001b[39m\u001b[32m, line 5\u001b[39m, in \u001b[36mmyfunct\u001b[39m\u001b[34m()\u001b[39m\n\u001b[32m      4\u001b[39m \u001b[38;5;28;01mdef\u001b[39;00m\u001b[38;5;250m \u001b[39m\u001b[34mmyfunct\u001b[39m():\n\u001b[32m----> \u001b[39m\u001b[32m5\u001b[39m     x=\u001b[43mx\u001b[49m+\u001b[33m'\u001b[39m\u001b[33mchanging\u001b[39m\u001b[33m'\u001b[39m      \u001b[38;5;66;03m# changing the global variable\u001b[39;00m\n\u001b[32m      6\u001b[39m     \u001b[38;5;28mprint\u001b[39m(\u001b[33m\"\u001b[39m\u001b[33mLocal Area :\u001b[39m\u001b[33m\"\u001b[39m,x)\n",
      "\u001b[31mUnboundLocalError\u001b[39m: cannot access local variable 'x' where it is not associated with a value"
     ]
    }
   ],
   "source": [
    "# we can access and view the global varibales but dont overwrite it( cant change)\n",
    "x=\"global_var\"\n",
    "\n",
    "def myfunct():\n",
    "    x=x+'changing'      # changing the global variable\n",
    "    print(\"Local Area :\",x)\n",
    "\n",
    "myfunct()\n",
    "print(\"Global  Scope :\",x)\n"
   ]
  },
  {
   "cell_type": "code",
   "execution_count": 24,
   "id": "34bebd92",
   "metadata": {},
   "outputs": [
    {
     "name": "stdout",
     "output_type": "stream",
     "text": [
      "Local Area : 50\n",
      "Global  Scope : 50\n"
     ]
    }
   ],
   "source": [
    "# TO change it we have to write the keyword\n",
    "# global varibale_name\n",
    "x=\"global_var\"\n",
    "\n",
    "def myfunct():\n",
    "    global x\n",
    "    x=x+'changing'      # changing the global variable\n",
    "    print(\"Local Area :\",x)\n",
    "            \n",
    "myfunct()\n",
    "print(\"Global  Scope :\",x)\n"
   ]
  },
  {
   "cell_type": "code",
   "execution_count": 20,
   "id": "ba7f2335",
   "metadata": {},
   "outputs": [
    {
     "ename": "NameError",
     "evalue": "name 'y' is not defined",
     "output_type": "error",
     "traceback": [
      "\u001b[31m---------------------------------------------------------------------------\u001b[39m",
      "\u001b[31mNameError\u001b[39m                                 Traceback (most recent call last)",
      "\u001b[36mCell\u001b[39m\u001b[36m \u001b[39m\u001b[32mIn[20]\u001b[39m\u001b[32m, line 12\u001b[39m\n\u001b[32m      9\u001b[39m     y=y+\u001b[33m'\u001b[39m\u001b[33mchanging\u001b[39m\u001b[33m'\u001b[39m      \u001b[38;5;66;03m# changing the global variable\u001b[39;00m\n\u001b[32m     10\u001b[39m     \u001b[38;5;28mprint\u001b[39m(\u001b[33m\"\u001b[39m\u001b[33mLocal Area :\u001b[39m\u001b[33m\"\u001b[39m,y)\n\u001b[32m---> \u001b[39m\u001b[32m12\u001b[39m \u001b[43mmyfunct\u001b[49m\u001b[43m(\u001b[49m\u001b[43m)\u001b[49m\n\u001b[32m     13\u001b[39m \u001b[38;5;28mprint\u001b[39m(\u001b[33m\"\u001b[39m\u001b[33mGlobal  Scope :\u001b[39m\u001b[33m\"\u001b[39m,y)\n\u001b[32m     15\u001b[39m \u001b[38;5;66;03m#it will throw error\u001b[39;00m\n\u001b[32m     16\u001b[39m \u001b[38;5;66;03m#name 'y' is not defined\u001b[39;00m\n\u001b[32m     17\u001b[39m \u001b[38;5;66;03m#we can create the global variable from local scope with this but dont change them\u001b[39;00m\n",
      "\u001b[36mCell\u001b[39m\u001b[36m \u001b[39m\u001b[32mIn[20]\u001b[39m\u001b[32m, line 9\u001b[39m, in \u001b[36mmyfunct\u001b[39m\u001b[34m()\u001b[39m\n\u001b[32m      7\u001b[39m \u001b[38;5;28;01mdef\u001b[39;00m\u001b[38;5;250m \u001b[39m\u001b[34mmyfunct\u001b[39m():\n\u001b[32m      8\u001b[39m     \u001b[38;5;28;01mglobal\u001b[39;00m y\n\u001b[32m----> \u001b[39m\u001b[32m9\u001b[39m     y=\u001b[43my\u001b[49m+\u001b[33m'\u001b[39m\u001b[33mchanging\u001b[39m\u001b[33m'\u001b[39m      \u001b[38;5;66;03m# changing the global variable\u001b[39;00m\n\u001b[32m     10\u001b[39m     \u001b[38;5;28mprint\u001b[39m(\u001b[33m\"\u001b[39m\u001b[33mLocal Area :\u001b[39m\u001b[33m\"\u001b[39m,y)\n",
      "\u001b[31mNameError\u001b[39m: name 'y' is not defined"
     ]
    }
   ],
   "source": [
    "# what if we are trying to access a global variable \n",
    "# with keyword (global var_name) but it is not declared in Global Scope\n",
    "\n",
    "#without intialization\n",
    "# y=\"global_var\"\n",
    "\n",
    "def myfunct():\n",
    "    global y\n",
    "    y=y+'changing'      # changing the global variable\n",
    "    print(\"Local Area :\",y)\n",
    "            \n",
    "myfunct()\n",
    "print(\"Global  Scope :\",y)\n",
    "\n",
    "#it will throw error\n",
    "#name 'y' is not defined\n",
    "# We use (global y), so Python expects y to already exist at the global level.\n",
    "# But y is not yet defined before this function runs.\n",
    "# So y = y + 'changing' fails, because y has no value yet when you try to read it.\n",
    "\n"
   ]
  },
  {
   "cell_type": "code",
   "execution_count": 27,
   "id": "7ee5b009",
   "metadata": {},
   "outputs": [
    {
     "name": "stdout",
     "output_type": "stream",
     "text": [
      "Local Area : 10\n",
      "Global  Scope : 10\n"
     ]
    }
   ],
   "source": [
    "#if the intialization is not present in global scope ,and we are still\n",
    "# try to access it from local scope with global keyword \n",
    "# its requireed to intialize it first .\n",
    "# and this is way to create the global variables from local scope\n",
    "\n",
    "def myfunct():\n",
    "\n",
    "    global y\n",
    "    y=10      # just intiailize the global variable\n",
    "    #this line also creates the global variable with same name y=10\n",
    "    print(\"Local Area :\",y)\n",
    "            \n",
    "myfunct()\n",
    "print(\"Global  Scope :\",y)\n",
    "\n",
    "\n"
   ]
  },
  {
   "cell_type": "code",
   "execution_count": 28,
   "id": "24fc53bc",
   "metadata": {},
   "outputs": [
    {
     "ename": "SyntaxError",
     "evalue": "name 'y' is assigned to before global declaration (2734490904.py, line 5)",
     "output_type": "error",
     "traceback": [
      "  \u001b[36mCell\u001b[39m\u001b[36m \u001b[39m\u001b[32mIn[28]\u001b[39m\u001b[32m, line 5\u001b[39m\n\u001b[31m    \u001b[39m\u001b[31mglobal y\u001b[39m\n    ^\n\u001b[31mSyntaxError\u001b[39m\u001b[31m:\u001b[39m name 'y' is assigned to before global declaration\n"
     ]
    }
   ],
   "source": [
    "#What if we create the local variable in function and try to\n",
    "# access the same name varible of global scope\n",
    "def myfunct():\n",
    "    y=15   #creating the local variable \n",
    "    global y #then try to access the global variable with same name\n",
    "    y=10     \n",
    "    print(\"Local Area :\",y)\n",
    "            \n",
    "myfunct()\n",
    "print(\"Global  Scope :\",y)\n",
    "\n",
    "# this cause Error because\n",
    "# In Python, a variable in a function scope must be treated as either:\n",
    "# Local, or\n",
    "# Global (with global keyword)\n",
    "#We cannot mix both for the same variable in the same function."
   ]
  },
  {
   "cell_type": "markdown",
   "id": "06e29332",
   "metadata": {},
   "source": [
    "Built-in Scope:\n",
    "\n",
    "The built-in scope contains names that are always available in Python, without any need to import or define them — like print(), len(), type(), sum(), etc."
   ]
  },
  {
   "cell_type": "code",
   "execution_count": 40,
   "id": "96baad0e",
   "metadata": {},
   "outputs": [
    {
     "name": "stdout",
     "output_type": "stream",
     "text": [
      "['ArithmeticError', 'AssertionError', 'AttributeError', 'BaseException', 'BaseExceptionGroup', 'BlockingIOError', 'BrokenPipeError', 'BufferError', 'BytesWarning', 'ChildProcessError', 'ConnectionAbortedError', 'ConnectionError', 'ConnectionRefusedError', 'ConnectionResetError', 'DeprecationWarning', 'EOFError', 'Ellipsis', 'EncodingWarning', 'EnvironmentError', 'Exception', 'ExceptionGroup', 'False', 'FileExistsError', 'FileNotFoundError', 'FloatingPointError', 'FutureWarning', 'GeneratorExit', 'IOError', 'ImportError', 'ImportWarning', 'IndentationError', 'IndexError', 'InterruptedError', 'IsADirectoryError', 'KeyError', 'KeyboardInterrupt', 'LookupError', 'MemoryError', 'ModuleNotFoundError', 'NameError', 'None', 'NotADirectoryError', 'NotImplemented', 'NotImplementedError', 'OSError', 'OverflowError', 'PendingDeprecationWarning', 'PermissionError', 'ProcessLookupError', 'PythonFinalizationError', 'RecursionError', 'ReferenceError', 'ResourceWarning', 'RuntimeError', 'RuntimeWarning', 'StopAsyncIteration', 'StopIteration', 'SyntaxError', 'SyntaxWarning', 'SystemError', 'SystemExit', 'TabError', 'TimeoutError', 'True', 'TypeError', 'UnboundLocalError', 'UnicodeDecodeError', 'UnicodeEncodeError', 'UnicodeError', 'UnicodeTranslateError', 'UnicodeWarning', 'UserWarning', 'ValueError', 'Warning', 'WindowsError', 'ZeroDivisionError', '_IncompleteInputError', '__IPYTHON__', '__build_class__', '__builtins__', '__debug__', '__doc__', '__import__', '__loader__', '__name__', '__package__', '__spec__', 'abs', 'aiter', 'all', 'anext', 'any', 'ascii', 'bin', 'bool', 'breakpoint', 'bytearray', 'bytes', 'callable', 'chr', 'classmethod', 'compile', 'complex', 'copyright', 'credits', 'delattr', 'dict', 'dir', 'display', 'divmod', 'enumerate', 'eval', 'exec', 'execfile', 'filter', 'float', 'format', 'frozenset', 'get_ipython', 'getattr', 'globals', 'hasattr', 'hash', 'help', 'hex', 'id', 'input', 'int', 'isinstance', 'issubclass', 'iter', 'len', 'license', 'list', 'locals', 'map', 'max', 'memoryview', 'min', 'next', 'object', 'oct', 'open', 'ord', 'pow', 'print', 'property', 'range', 'repr', 'reversed', 'round', 'runfile', 'set', 'setattr', 'slice', 'sorted', 'staticmethod', 'str', 'sum', 'super', 'tuple', 'type', 'vars', 'zip']\n",
      "['ArithmeticError', 'AssertionError', 'AttributeError', 'BaseException', 'BaseExceptionGroup', 'BlockingIOError', 'BrokenPipeError', 'BufferError', 'BytesWarning', 'ChildProcessError', 'ConnectionAbortedError', 'ConnectionError', 'ConnectionRefusedError', 'ConnectionResetError', 'DeprecationWarning', 'EOFError', 'Ellipsis', 'EncodingWarning', 'EnvironmentError', 'Exception', 'ExceptionGroup', 'False', 'FileExistsError', 'FileNotFoundError', 'FloatingPointError', 'FutureWarning', 'GeneratorExit', 'IOError', 'ImportError', 'ImportWarning', 'IndentationError', 'IndexError', 'InterruptedError', 'IsADirectoryError', 'KeyError', 'KeyboardInterrupt', 'LookupError', 'MemoryError', 'ModuleNotFoundError', 'NameError', 'None', 'NotADirectoryError', 'NotImplemented', 'NotImplementedError', 'OSError', 'OverflowError', 'PendingDeprecationWarning', 'PermissionError', 'ProcessLookupError', 'PythonFinalizationError', 'RecursionError', 'ReferenceError', 'ResourceWarning', 'RuntimeError', 'RuntimeWarning', 'StopAsyncIteration', 'StopIteration', 'SyntaxError', 'SyntaxWarning', 'SystemError', 'SystemExit', 'TabError', 'TimeoutError', 'True', 'TypeError', 'UnboundLocalError', 'UnicodeDecodeError', 'UnicodeEncodeError', 'UnicodeError', 'UnicodeTranslateError', 'UnicodeWarning', 'UserWarning', 'ValueError', 'Warning', 'WindowsError', 'ZeroDivisionError', '_IncompleteInputError', '__IPYTHON__', '__build_class__', '__builtins__', '__debug__', '__doc__', '__import__', '__loader__', '__name__', '__package__', '__spec__', 'abs', 'aiter', 'all', 'anext', 'any', 'ascii', 'bin', 'bool', 'breakpoint', 'bytearray', 'bytes', 'callable', 'chr', 'classmethod', 'compile', 'complex', 'copyright', 'credits', 'delattr', 'dict', 'dir', 'display', 'divmod', 'enumerate', 'eval', 'exec', 'execfile', 'filter', 'float', 'format', 'frozenset', 'get_ipython', 'getattr', 'globals', 'hasattr', 'hash', 'help', 'hex', 'id', 'input', 'int', 'isinstance', 'issubclass', 'iter', 'len', 'license', 'list', 'locals', 'map', 'max', 'memoryview', 'min', 'next', 'object', 'oct', 'open', 'ord', 'pow', 'print', 'property', 'range', 'repr', 'reversed', 'round', 'runfile', 'set', 'setattr', 'slice', 'sorted', 'staticmethod', 'str', 'sum', 'super', 'tuple', 'type', 'vars', 'zip']\n",
      "Help on list object:\n",
      "\n",
      "class list(object)\n",
      " |  list(iterable=(), /)\n",
      " |\n",
      " |  Built-in mutable sequence.\n",
      " |\n",
      " |  If no argument is given, the constructor creates a new empty list.\n",
      " |  The argument must be an iterable if specified.\n",
      " |\n",
      " |  Methods defined here:\n",
      " |\n",
      " |  __add__(self, value, /)\n",
      " |      Return self+value.\n",
      " |\n",
      " |  __contains__(self, key, /)\n",
      " |      Return bool(key in self).\n",
      " |\n",
      " |  __delitem__(self, key, /)\n",
      " |      Delete self[key].\n",
      " |\n",
      " |  __eq__(self, value, /)\n",
      " |      Return self==value.\n",
      " |\n",
      " |  __ge__(self, value, /)\n",
      " |      Return self>=value.\n",
      " |\n",
      " |  __getattribute__(self, name, /)\n",
      " |      Return getattr(self, name).\n",
      " |\n",
      " |  __getitem__(self, index, /)\n",
      " |      Return self[index].\n",
      " |\n",
      " |  __gt__(self, value, /)\n",
      " |      Return self>value.\n",
      " |\n",
      " |  __iadd__(self, value, /)\n",
      " |      Implement self+=value.\n",
      " |\n",
      " |  __imul__(self, value, /)\n",
      " |      Implement self*=value.\n",
      " |\n",
      " |  __init__(self, /, *args, **kwargs)\n",
      " |      Initialize self.  See help(type(self)) for accurate signature.\n",
      " |\n",
      " |  __iter__(self, /)\n",
      " |      Implement iter(self).\n",
      " |\n",
      " |  __le__(self, value, /)\n",
      " |      Return self<=value.\n",
      " |\n",
      " |  __len__(self, /)\n",
      " |      Return len(self).\n",
      " |\n",
      " |  __lt__(self, value, /)\n",
      " |      Return self<value.\n",
      " |\n",
      " |  __mul__(self, value, /)\n",
      " |      Return self*value.\n",
      " |\n",
      " |  __ne__(self, value, /)\n",
      " |      Return self!=value.\n",
      " |\n",
      " |  __repr__(self, /)\n",
      " |      Return repr(self).\n",
      " |\n",
      " |  __reversed__(self, /)\n",
      " |      Return a reverse iterator over the list.\n",
      " |\n",
      " |  __rmul__(self, value, /)\n",
      " |      Return value*self.\n",
      " |\n",
      " |  __setitem__(self, key, value, /)\n",
      " |      Set self[key] to value.\n",
      " |\n",
      " |  __sizeof__(self, /)\n",
      " |      Return the size of the list in memory, in bytes.\n",
      " |\n",
      " |  append(self, object, /)\n",
      " |      Append object to the end of the list.\n",
      " |\n",
      " |  clear(self, /)\n",
      " |      Remove all items from list.\n",
      " |\n",
      " |  copy(self, /)\n",
      " |      Return a shallow copy of the list.\n",
      " |\n",
      " |  count(self, value, /)\n",
      " |      Return number of occurrences of value.\n",
      " |\n",
      " |  extend(self, iterable, /)\n",
      " |      Extend list by appending elements from the iterable.\n",
      " |\n",
      " |  index(self, value, start=0, stop=9223372036854775807, /)\n",
      " |      Return first index of value.\n",
      " |\n",
      " |      Raises ValueError if the value is not present.\n",
      " |\n",
      " |  insert(self, index, object, /)\n",
      " |      Insert object before index.\n",
      " |\n",
      " |  pop(self, index=-1, /)\n",
      " |      Remove and return item at index (default last).\n",
      " |\n",
      " |      Raises IndexError if list is empty or index is out of range.\n",
      " |\n",
      " |  remove(self, value, /)\n",
      " |      Remove first occurrence of value.\n",
      " |\n",
      " |      Raises ValueError if the value is not present.\n",
      " |\n",
      " |  reverse(self, /)\n",
      " |      Reverse *IN PLACE*.\n",
      " |\n",
      " |  sort(self, /, *, key=None, reverse=False)\n",
      " |      Sort the list in ascending order and return None.\n",
      " |\n",
      " |      The sort is in-place (i.e. the list itself is modified) and stable (i.e. the\n",
      " |      order of two equal elements is maintained).\n",
      " |\n",
      " |      If a key function is given, apply it once to each list item and sort them,\n",
      " |      ascending or descending, according to their function values.\n",
      " |\n",
      " |      The reverse flag can be set to sort in descending order.\n",
      " |\n",
      " |  ----------------------------------------------------------------------\n",
      " |  Class methods defined here:\n",
      " |\n",
      " |  __class_getitem__(object, /)\n",
      " |      See PEP 585\n",
      " |\n",
      " |  ----------------------------------------------------------------------\n",
      " |  Static methods defined here:\n",
      " |\n",
      " |  __new__(*args, **kwargs)\n",
      " |      Create and return a new object.  See help(type) for accurate signature.\n",
      " |\n",
      " |  ----------------------------------------------------------------------\n",
      " |  Data and other attributes defined here:\n",
      " |\n",
      " |  __hash__ = None\n",
      "\n"
     ]
    }
   ],
   "source": [
    "#to print Build in functions\n",
    "#1 \n",
    "import builtins\n",
    "print(dir(builtins))\n",
    "\n",
    "#2\n",
    "print(dir(__builtins__)) #saame as above\n",
    "help(dir(__builtins__))\n",
    "#useful to get list of all function and classes builtin\n"
   ]
  },
  {
   "cell_type": "code",
   "execution_count": null,
   "id": "e24c3031",
   "metadata": {},
   "outputs": [
    {
     "ename": "TypeError",
     "evalue": "max() takes 0 positional arguments but 1 was given",
     "output_type": "error",
     "traceback": [
      "\u001b[31m---------------------------------------------------------------------------\u001b[39m",
      "\u001b[31mTypeError\u001b[39m                                 Traceback (most recent call last)",
      "\u001b[36mCell\u001b[39m\u001b[36m \u001b[39m\u001b[32mIn[47]\u001b[39m\u001b[32m, line 10\u001b[39m\n\u001b[32m      8\u001b[39m \u001b[38;5;28;01mdef\u001b[39;00m\u001b[38;5;250m \u001b[39m\u001b[34mmax\u001b[39m():\n\u001b[32m      9\u001b[39m     \u001b[38;5;28mprint\u001b[39m(\u001b[33m\"\u001b[39m\u001b[33mHello we are doing Built ins\u001b[39m\u001b[33m\"\u001b[39m)\n\u001b[32m---> \u001b[39m\u001b[32m10\u001b[39m a=\u001b[38;5;28;43mmax\u001b[39;49m\u001b[43m(\u001b[49m\u001b[43mmylist\u001b[49m\u001b[43m)\u001b[49m\n\u001b[32m     11\u001b[39m \u001b[38;5;28mprint\u001b[39m(a)\n\u001b[32m     12\u001b[39m \u001b[38;5;66;03m#max() is built_ins function\u001b[39;00m\n",
      "\u001b[31mTypeError\u001b[39m: max() takes 0 positional arguments but 1 was given"
     ]
    }
   ],
   "source": [
    "# TO Rename the Built ins function\n",
    "\n",
    "mylist=[1,2,3]\n",
    "# we know max is built in function,\n",
    "# so if we overwrite it again in global scope \n",
    "#the python dont use that built in function \n",
    "#according to LEGB rule\n",
    "def max():\n",
    "    print(\"Hello we are doing Built ins\")\n",
    "a=max(mylist)\n",
    "print(a)"
   ]
  },
  {
   "cell_type": "markdown",
   "id": "5cc8e5f4",
   "metadata": {},
   "source": []
  },
  {
   "cell_type": "markdown",
   "id": "378dde3d",
   "metadata": {},
   "source": [
    "Enclosing Scope:\n",
    "\n",
    "Enclosing scope is found inside nested functions. It's the non-local scope — the scope of the outer function that surrounds an inner function.\n",
    "\n",
    "1.The inner function can access variables from the outer function.\n",
    "\n",
    "2.But it cannot modify them unless you use the nonlocal keyword.\n",
    "\n"
   ]
  },
  {
   "cell_type": "code",
   "execution_count": null,
   "id": "4f726086",
   "metadata": {},
   "outputs": [
    {
     "name": "stdout",
     "output_type": "stream",
     "text": [
      "Inner FUnction \n",
      "outer Function \n"
     ]
    }
   ],
   "source": [
    "#global Scope\n",
    "\n",
    "def OuterFunct():\n",
    "    # Enclosing Scope(Non Local Scope)\n",
    "\n",
    "    def InnerFunct():\n",
    "        #locaL Scope\n",
    "        print(\"Inner FUnction \")\n",
    "    InnerFunct()\n",
    "    print(\"outer Function \")\n",
    "\n",
    "OuterFunct()"
   ]
  },
  {
   "cell_type": "code",
   "execution_count": null,
   "id": "0a20cef4",
   "metadata": {},
   "outputs": [
    {
     "name": "stdout",
     "output_type": "stream",
     "text": [
      "x= LOcal Scope\n",
      "x= Enclosing NonLocal\n",
      "x= Global\n"
     ]
    }
   ],
   "source": [
    "#global Scope\n",
    "\n",
    "x=\"Global\"\n",
    "def OuterFunct():\n",
    "    # Enclosing Scope(Non Local Scope)\n",
    "\n",
    "    x=\"Enclosing NonLocal\"\n",
    "    def InnerFunct():\n",
    "        \n",
    "        #locaL Scope\n",
    "\n",
    "        x=\"LOcal Scope\"\n",
    "        print(\"x=\",x)\n",
    "        \n",
    "    InnerFunct()\n",
    "    print(\"x=\",x)\n",
    "\n",
    "OuterFunct()\n",
    "print(\"x=\",x)"
   ]
  },
  {
   "cell_type": "markdown",
   "id": "ca2ab3a0",
   "metadata": {},
   "source": [
    "Python Always Follow\n",
    "\n",
    "L->E->G->B \n",
    "\n",
    "RUle :\n",
    "\n",
    "Python first see in local scope (inside The Nested Function) and then checks for Enclosing Scope(outer FUnction) -> then Global scope at last built_in scope"
   ]
  },
  {
   "cell_type": "markdown",
   "id": "fd03cfcd",
   "metadata": {},
   "source": [
    "# Some Practice\n"
   ]
  },
  {
   "cell_type": "code",
   "execution_count": null,
   "id": "7ceff2ea",
   "metadata": {},
   "outputs": [
    {
     "name": "stdout",
     "output_type": "stream",
     "text": [
      "Local Scope= LocalVersion\n",
      "Global Scope= LocalVersion\n"
     ]
    }
   ],
   "source": [
    "#create a Variable in Global Scope then Change it in LOcal Scope\n",
    "# using global Keyword\n",
    "x=\"Global\"\n",
    "def OuterFunct():\n",
    "    global x\n",
    "    x=\"LocalVersion\"\n",
    "    print(\"Local Scope=\",x)\n",
    "\n",
    "OuterFunct()\n",
    "print(\"Global Scope=\",x)"
   ]
  },
  {
   "cell_type": "code",
   "execution_count": null,
   "id": "2a8732c8",
   "metadata": {},
   "outputs": [
    {
     "name": "stdout",
     "output_type": "stream",
     "text": [
      "x= LOcal Scope\n",
      "x= LOcal Scope\n",
      "x= Globalversion\n"
     ]
    }
   ],
   "source": [
    "# create a variable in Enclosing Scope then change it from the Local Scope\n",
    "# Using nonlocal keyword to Modify Enclosing Variables\n",
    "\n",
    "\n",
    "x=\"Globalversion\"\n",
    "def OuterFunct():\n",
    "    # Enclosing Scope(Non Local Scope)\n",
    "    x=\"Enclosing NonLocal\"\n",
    "\n",
    "    def InnerFunct():\n",
    "        #locaL Scope\n",
    "        nonlocal x  # using nonlocal to changethe Enclosing Scope\n",
    "        x=\"LOcal Scope\"\n",
    "        print(\"x=\",x)\n",
    "        \n",
    "    InnerFunct()\n",
    "    print(\"x=\",x)\n",
    "\n",
    "OuterFunct()\n",
    "print(\"x=\",x)"
   ]
  },
  {
   "cell_type": "markdown",
   "id": "9bcfc7e1",
   "metadata": {},
   "source": [
    "**\n",
    "TO view the Namespace dictionary \n",
    "of global and local space"
   ]
  },
  {
   "cell_type": "code",
   "execution_count": null,
   "id": "dd8c0765",
   "metadata": {},
   "outputs": [
    {
     "name": "stdout",
     "output_type": "stream",
     "text": [
      "{'__name__': '__main__', '__doc__': 'Automatically created module for IPython interactive environment', '__package__': None, '__loader__': None, '__spec__': None, '__builtin__': <module 'builtins' (built-in)>, '__builtins__': <module 'builtins' (built-in)>, '_ih': ['', '#global Scope\\n\\ndef OuterFunct():\\n    def InnerFunct():\\n        print(\"Inner FUnction \")\\n    InnerFunct()\\n    print(\"outer Function \")\\n\\nOuterFunct()', '#global Scope\\n\\nx=\"Global\"\\ndef OuterFunct():\\n    # Enclosing Scope(Non Local Scope)\\n\\n    x=\"Enclosing NonLocal\"\\n    def InnerFunct():\\n\\n        #locaL Scope\\n\\n        x=\"LOcal Scope\"\\n        print(x)\\n    InnerFunct()\\n    print(x)\\n\\nOuterFunct()\\nprint(x)', '#global Scope\\n\\nx=\"Global\"\\ndef OuterFunct():\\n    # Enclosing Scope(Non Local Scope)\\n\\n    x=\"Enclosing NonLocal\"\\n    def InnerFunct():\\n\\n        #locaL Scope\\n\\n        x=\"LOcal Scope\"\\n        print(\"x=\",x)\\n    InnerFunct()\\n    print(\"x=\",x)\\n\\nOuterFunct()\\nprint(\"x=,\"x)', '#global Scope\\n\\nx=\"Global\"\\ndef OuterFunct():\\n    # Enclosing Scope(Non Local Scope)\\n\\n    x=\"Enclosing NonLocal\"\\n    def InnerFunct():\\n\\n        #locaL Scope\\n\\n        x=\"LOcal Scope\"\\n        print(\"x=\",x)\\n    InnerFunct()\\n    print(\"x=\",x)\\n\\nOuterFunct()\\nprint(\"x=\",x)', '#create a Variable in Global Scope then Change it in LOcal Scope\\nx=\"Global\"\\ndef OuterFunct():\\n    global x\\n    x=\"Local\"\\n    print(\"Local Scope=\",x)\\n\\nOuterFunct()\\nprint(\"Global Scope=\",x)', '#create a Variable in Global Scope then Change it in LOcal Scope\\nx=\"Global\"\\ndef OuterFunct():\\n    global x\\n    x=\"LocalVersion\"\\n    print(\"Local Scope=\",x)\\n\\nOuterFunct()\\nprint(\"Global Scope=\",x)', '# create a variable in Global Scope then change it from the Enclosing\\n#global Scope\\n\\nx=\"Globalversion\"\\ndef OuterFunct():\\n    # Enclosing Scope(Non Local Scope)\\n    global x\\n    x=\"Enclosing NonLocal\"\\n    def InnerFunct():\\n\\n        #locaL Scope\\n\\n        x=\"LOcal Scope\"\\n        print(\"x=\",x)\\n\\n    InnerFunct()\\n    print(\"x=\",x)\\n\\nOuterFunct()\\nprint(\"x=\",x)', '# create a variable in Global Scope then change it from the Enclosing\\n#global Scope\\n\\nx=\"Globalversion\"\\ndef OuterFunct():\\n    # Enclosing Scope(Non Local Scope)\\n    x=\"Enclosing NonLocal\"\\n    def InnerFunct():\\n        #locaL Scope\\n        nonlocal x\\n        x=\"LOcal Scope\"\\n        print(\"x=\",x)\\n\\n    InnerFunct()\\n    print(\"x=\",x)\\n\\nOuterFunct()\\nprint(\"x=\",x)', '# create a variable in Enclosing Scope then change it from the Local Scope\\n# Using nonlocal to Modify Enclosing Variables\\n\\n\\nx=\"Globalversion\"\\ndef OuterFunct():\\n    # Enclosing Scope(Non Local Scope)\\n    x=\"Enclosing NonLocal\"\\n\\n    def InnerFunct():\\n        #locaL Scope\\n        nonlocal x  # using nonlocal to changethe Enclosing Scope\\n        x=\"LOcal Scope\"\\n        print(\"x=\",x)\\n\\n    InnerFunct()\\n    print(\"x=\",x)\\n\\nOuterFunct()\\nprint(\"x=\",x)', 'x=56\\nname=\"sharma\"\\n\\nprint(globals())', 'x=56\\nname=\"sharma\"\\n\\nprint(globals().keys())', 'x=56\\nname=\"sharma\"\\n\\nprint(globals().keys())', 'x=56\\nname=\"sharma\"\\n\\nprint(globals().keys())', 'x=56\\nname=\"sharma\"\\ndef mytest():\\n    print(globals().keys())', 'x=56\\nname=\"sharma\"\\ndef mytest():\\n    print(globals().keys())', 'x=56\\nname=\"sharma\"\\ndef mytest():\\n    print(globals().keys())\\n\\nmytest()', 'x=56\\nname=\"sharma\"\\ndef mytest():\\n    print(dir(globals().keys()))\\n\\nmytest()', 'x=56\\nname=\"sharma\"\\ndef mytest():\\n    print(dir(globals().keys()))\\n\\nmytest()', 'x=56\\nname=\"sharma\"\\ndef mytest():\\n    print(dir(globals().keys()))\\n\\nmytest()', 'x=56\\nname=\"sharma\"\\ndef mytest():\\n    print(list(globals().keys()))\\n\\nmytest()', 'x=56\\nname=\"sharma\"\\ndef mytest():\\n    mylocal=5\\n    print(list(globals().keys()))\\n    print(list(locals().keys()))\\n\\nmytest()', 'x=56\\nname=\"sharma\"\\ndef mytest():\\n    mylocal=5\\n    print(list(globals().keys()))\\n    print(locals().keys())\\n\\nmytest()', 'x=56\\nname=\"sharma\"\\ndef mytest():\\n    mylocal=5\\n    print(list(globals().keys()))\\n    print(locals())\\n\\nmytest()', 'x=56\\nname=\"sharma\"\\ndef mytest():\\n    mylocal=5\\n    print(globals())\\n    print(locals())\\n\\nmytest()', 'x=56\\nname=\"sharma\"\\ndef mytest():\\n    mylocal=5\\n    print(globals())\\n    print(locals())\\n\\nmytest()', 'x=56\\nname=\"sharma\"\\ndef mytest():\\n    mylocal=5\\n    print(globals())\\n    print(locals())\\nprint(locals())\\nmytest()', 'x=56\\nname=\"sharma\"\\ndef mytest():\\n    mylocal=5\\n    print(globals())\\n    print(locals())\\n\\nmytest()\\nprint(locals())', 'x=56\\nname=\"sharma\"\\ndef mytest():\\n    mylocal=5\\n    print(globals())\\n    print(locals())\\n\\nmytest()\\nprint(locals())'], '_oh': {}, '_dh': [WindowsPath('c:/Users/a/Desktop/PYTHON/rAdavnceTOpics/DAY24/Namespaces/Notebook')], 'In': ['', '#global Scope\\n\\ndef OuterFunct():\\n    def InnerFunct():\\n        print(\"Inner FUnction \")\\n    InnerFunct()\\n    print(\"outer Function \")\\n\\nOuterFunct()', '#global Scope\\n\\nx=\"Global\"\\ndef OuterFunct():\\n    # Enclosing Scope(Non Local Scope)\\n\\n    x=\"Enclosing NonLocal\"\\n    def InnerFunct():\\n\\n        #locaL Scope\\n\\n        x=\"LOcal Scope\"\\n        print(x)\\n    InnerFunct()\\n    print(x)\\n\\nOuterFunct()\\nprint(x)', '#global Scope\\n\\nx=\"Global\"\\ndef OuterFunct():\\n    # Enclosing Scope(Non Local Scope)\\n\\n    x=\"Enclosing NonLocal\"\\n    def InnerFunct():\\n\\n        #locaL Scope\\n\\n        x=\"LOcal Scope\"\\n        print(\"x=\",x)\\n    InnerFunct()\\n    print(\"x=\",x)\\n\\nOuterFunct()\\nprint(\"x=,\"x)', '#global Scope\\n\\nx=\"Global\"\\ndef OuterFunct():\\n    # Enclosing Scope(Non Local Scope)\\n\\n    x=\"Enclosing NonLocal\"\\n    def InnerFunct():\\n\\n        #locaL Scope\\n\\n        x=\"LOcal Scope\"\\n        print(\"x=\",x)\\n    InnerFunct()\\n    print(\"x=\",x)\\n\\nOuterFunct()\\nprint(\"x=\",x)', '#create a Variable in Global Scope then Change it in LOcal Scope\\nx=\"Global\"\\ndef OuterFunct():\\n    global x\\n    x=\"Local\"\\n    print(\"Local Scope=\",x)\\n\\nOuterFunct()\\nprint(\"Global Scope=\",x)', '#create a Variable in Global Scope then Change it in LOcal Scope\\nx=\"Global\"\\ndef OuterFunct():\\n    global x\\n    x=\"LocalVersion\"\\n    print(\"Local Scope=\",x)\\n\\nOuterFunct()\\nprint(\"Global Scope=\",x)', '# create a variable in Global Scope then change it from the Enclosing\\n#global Scope\\n\\nx=\"Globalversion\"\\ndef OuterFunct():\\n    # Enclosing Scope(Non Local Scope)\\n    global x\\n    x=\"Enclosing NonLocal\"\\n    def InnerFunct():\\n\\n        #locaL Scope\\n\\n        x=\"LOcal Scope\"\\n        print(\"x=\",x)\\n\\n    InnerFunct()\\n    print(\"x=\",x)\\n\\nOuterFunct()\\nprint(\"x=\",x)', '# create a variable in Global Scope then change it from the Enclosing\\n#global Scope\\n\\nx=\"Globalversion\"\\ndef OuterFunct():\\n    # Enclosing Scope(Non Local Scope)\\n    x=\"Enclosing NonLocal\"\\n    def InnerFunct():\\n        #locaL Scope\\n        nonlocal x\\n        x=\"LOcal Scope\"\\n        print(\"x=\",x)\\n\\n    InnerFunct()\\n    print(\"x=\",x)\\n\\nOuterFunct()\\nprint(\"x=\",x)', '# create a variable in Enclosing Scope then change it from the Local Scope\\n# Using nonlocal to Modify Enclosing Variables\\n\\n\\nx=\"Globalversion\"\\ndef OuterFunct():\\n    # Enclosing Scope(Non Local Scope)\\n    x=\"Enclosing NonLocal\"\\n\\n    def InnerFunct():\\n        #locaL Scope\\n        nonlocal x  # using nonlocal to changethe Enclosing Scope\\n        x=\"LOcal Scope\"\\n        print(\"x=\",x)\\n\\n    InnerFunct()\\n    print(\"x=\",x)\\n\\nOuterFunct()\\nprint(\"x=\",x)', 'x=56\\nname=\"sharma\"\\n\\nprint(globals())', 'x=56\\nname=\"sharma\"\\n\\nprint(globals().keys())', 'x=56\\nname=\"sharma\"\\n\\nprint(globals().keys())', 'x=56\\nname=\"sharma\"\\n\\nprint(globals().keys())', 'x=56\\nname=\"sharma\"\\ndef mytest():\\n    print(globals().keys())', 'x=56\\nname=\"sharma\"\\ndef mytest():\\n    print(globals().keys())', 'x=56\\nname=\"sharma\"\\ndef mytest():\\n    print(globals().keys())\\n\\nmytest()', 'x=56\\nname=\"sharma\"\\ndef mytest():\\n    print(dir(globals().keys()))\\n\\nmytest()', 'x=56\\nname=\"sharma\"\\ndef mytest():\\n    print(dir(globals().keys()))\\n\\nmytest()', 'x=56\\nname=\"sharma\"\\ndef mytest():\\n    print(dir(globals().keys()))\\n\\nmytest()', 'x=56\\nname=\"sharma\"\\ndef mytest():\\n    print(list(globals().keys()))\\n\\nmytest()', 'x=56\\nname=\"sharma\"\\ndef mytest():\\n    mylocal=5\\n    print(list(globals().keys()))\\n    print(list(locals().keys()))\\n\\nmytest()', 'x=56\\nname=\"sharma\"\\ndef mytest():\\n    mylocal=5\\n    print(list(globals().keys()))\\n    print(locals().keys())\\n\\nmytest()', 'x=56\\nname=\"sharma\"\\ndef mytest():\\n    mylocal=5\\n    print(list(globals().keys()))\\n    print(locals())\\n\\nmytest()', 'x=56\\nname=\"sharma\"\\ndef mytest():\\n    mylocal=5\\n    print(globals())\\n    print(locals())\\n\\nmytest()', 'x=56\\nname=\"sharma\"\\ndef mytest():\\n    mylocal=5\\n    print(globals())\\n    print(locals())\\n\\nmytest()', 'x=56\\nname=\"sharma\"\\ndef mytest():\\n    mylocal=5\\n    print(globals())\\n    print(locals())\\nprint(locals())\\nmytest()', 'x=56\\nname=\"sharma\"\\ndef mytest():\\n    mylocal=5\\n    print(globals())\\n    print(locals())\\n\\nmytest()\\nprint(locals())', 'x=56\\nname=\"sharma\"\\ndef mytest():\\n    mylocal=5\\n    print(globals())\\n    print(locals())\\n\\nmytest()\\nprint(locals())'], 'Out': {}, 'get_ipython': <bound method InteractiveShell.get_ipython of <ipykernel.zmqshell.ZMQInteractiveShell object at 0x000002AEC192EE40>>, 'exit': <IPython.core.autocall.ZMQExitAutocall object at 0x000002AEC19C0830>, 'quit': <IPython.core.autocall.ZMQExitAutocall object at 0x000002AEC19C0830>, 'open': <function open at 0x000002AEBF9FCEA0>, '_': '', '__': '', '___': '', '__vsc_ipynb_file__': 'c:\\\\Users\\\\a\\\\Desktop\\\\PYTHON\\\\rAdavnceTOpics\\\\DAY24\\\\Namespaces\\\\Notebook\\\\namespaces.ipynb', '_i': 'x=56\\nname=\"sharma\"\\ndef mytest():\\n    mylocal=5\\n    print(globals())\\n    print(locals())\\n\\nmytest()\\nprint(locals())', '_ii': 'x=56\\nname=\"sharma\"\\ndef mytest():\\n    mylocal=5\\n    print(globals())\\n    print(locals())\\nprint(locals())\\nmytest()', '_iii': 'x=56\\nname=\"sharma\"\\ndef mytest():\\n    mylocal=5\\n    print(globals())\\n    print(locals())\\n\\nmytest()', '_i1': '#global Scope\\n\\ndef OuterFunct():\\n    def InnerFunct():\\n        print(\"Inner FUnction \")\\n    InnerFunct()\\n    print(\"outer Function \")\\n\\nOuterFunct()', 'OuterFunct': <function OuterFunct at 0x000002AEC1B276A0>, '_i2': '#global Scope\\n\\nx=\"Global\"\\ndef OuterFunct():\\n    # Enclosing Scope(Non Local Scope)\\n\\n    x=\"Enclosing NonLocal\"\\n    def InnerFunct():\\n        \\n        #locaL Scope\\n\\n        x=\"LOcal Scope\"\\n        print(x)\\n    InnerFunct()\\n    print(x)\\n\\nOuterFunct()\\nprint(x)', 'x': 56, '_i3': '#global Scope\\n\\nx=\"Global\"\\ndef OuterFunct():\\n    # Enclosing Scope(Non Local Scope)\\n\\n    x=\"Enclosing NonLocal\"\\n    def InnerFunct():\\n        \\n        #locaL Scope\\n\\n        x=\"LOcal Scope\"\\n        print(\"x=\",x)\\n    InnerFunct()\\n    print(\"x=\",x)\\n\\nOuterFunct()\\nprint(\"x=,\"x)', '_i4': '#global Scope\\n\\nx=\"Global\"\\ndef OuterFunct():\\n    # Enclosing Scope(Non Local Scope)\\n\\n    x=\"Enclosing NonLocal\"\\n    def InnerFunct():\\n        \\n        #locaL Scope\\n\\n        x=\"LOcal Scope\"\\n        print(\"x=\",x)\\n    InnerFunct()\\n    print(\"x=\",x)\\n\\nOuterFunct()\\nprint(\"x=\",x)', '_i5': '#create a Variable in Global Scope then Change it in LOcal Scope\\nx=\"Global\"\\ndef OuterFunct():\\n    global x\\n    x=\"Local\"\\n    print(\"Local Scope=\",x)\\n\\nOuterFunct()\\nprint(\"Global Scope=\",x)', '_i6': '#create a Variable in Global Scope then Change it in LOcal Scope\\nx=\"Global\"\\ndef OuterFunct():\\n    global x\\n    x=\"LocalVersion\"\\n    print(\"Local Scope=\",x)\\n\\nOuterFunct()\\nprint(\"Global Scope=\",x)', '_i7': '# create a variable in Global Scope then change it from the Enclosing\\n#global Scope\\n\\nx=\"Globalversion\"\\ndef OuterFunct():\\n    # Enclosing Scope(Non Local Scope)\\n    global x\\n    x=\"Enclosing NonLocal\"\\n    def InnerFunct():\\n        \\n        #locaL Scope\\n        \\n        x=\"LOcal Scope\"\\n        print(\"x=\",x)\\n        \\n    InnerFunct()\\n    print(\"x=\",x)\\n\\nOuterFunct()\\nprint(\"x=\",x)', '_i8': '# create a variable in Global Scope then change it from the Enclosing\\n#global Scope\\n\\nx=\"Globalversion\"\\ndef OuterFunct():\\n    # Enclosing Scope(Non Local Scope)\\n    x=\"Enclosing NonLocal\"\\n    def InnerFunct():\\n        #locaL Scope\\n        nonlocal x\\n        x=\"LOcal Scope\"\\n        print(\"x=\",x)\\n        \\n    InnerFunct()\\n    print(\"x=\",x)\\n\\nOuterFunct()\\nprint(\"x=\",x)', '_i9': '# create a variable in Enclosing Scope then change it from the Local Scope\\n# Using nonlocal to Modify Enclosing Variables\\n\\n\\nx=\"Globalversion\"\\ndef OuterFunct():\\n    # Enclosing Scope(Non Local Scope)\\n    x=\"Enclosing NonLocal\"\\n\\n    def InnerFunct():\\n        #locaL Scope\\n        nonlocal x  # using nonlocal to changethe Enclosing Scope\\n        x=\"LOcal Scope\"\\n        print(\"x=\",x)\\n        \\n    InnerFunct()\\n    print(\"x=\",x)\\n\\nOuterFunct()\\nprint(\"x=\",x)', '_i10': 'x=56\\nname=\"sharma\"\\n\\nprint(globals())', 'name': 'sharma', '_i11': 'x=56\\nname=\"sharma\"\\n\\nprint(globals().keys())', '_i12': 'x=56\\nname=\"sharma\"\\n\\nprint(globals().keys())', '_i13': 'x=56\\nname=\"sharma\"\\n\\nprint(globals().keys())', '_i14': 'x=56\\nname=\"sharma\"\\ndef mytest():\\n    print(globals().keys())', 'mytest': <function mytest at 0x000002AEC1B5DF80>, '_i15': 'x=56\\nname=\"sharma\"\\ndef mytest():\\n    print(globals().keys())', '_i16': 'x=56\\nname=\"sharma\"\\ndef mytest():\\n    print(globals().keys())\\n\\nmytest()', '_i17': 'x=56\\nname=\"sharma\"\\ndef mytest():\\n    print(dir(globals().keys()))\\n\\nmytest()', '_i18': 'x=56\\nname=\"sharma\"\\ndef mytest():\\n    print(dir(globals().keys()))\\n\\nmytest()', '_i19': 'x=56\\nname=\"sharma\"\\ndef mytest():\\n    print(dir(globals().keys()))\\n\\nmytest()', '_i20': 'x=56\\nname=\"sharma\"\\ndef mytest():\\n    print(list(globals().keys()))\\n\\nmytest()', '_i21': 'x=56\\nname=\"sharma\"\\ndef mytest():\\n    mylocal=5\\n    print(list(globals().keys()))\\n    print(list(locals().keys()))\\n\\nmytest()', '_i22': 'x=56\\nname=\"sharma\"\\ndef mytest():\\n    mylocal=5\\n    print(list(globals().keys()))\\n    print(locals().keys())\\n\\nmytest()', '_i23': 'x=56\\nname=\"sharma\"\\ndef mytest():\\n    mylocal=5\\n    print(list(globals().keys()))\\n    print(locals())\\n\\nmytest()', '_i24': 'x=56\\nname=\"sharma\"\\ndef mytest():\\n    mylocal=5\\n    print(globals())\\n    print(locals())\\n\\nmytest()', '_i25': 'x=56\\nname=\"sharma\"\\ndef mytest():\\n    mylocal=5\\n    print(globals())\\n    print(locals())\\n\\nmytest()', '_i26': 'x=56\\nname=\"sharma\"\\ndef mytest():\\n    mylocal=5\\n    print(globals())\\n    print(locals())\\nprint(locals())\\nmytest()', '_i27': 'x=56\\nname=\"sharma\"\\ndef mytest():\\n    mylocal=5\\n    print(globals())\\n    print(locals())\\n\\nmytest()\\nprint(locals())', '_i28': 'x=56\\nname=\"sharma\"\\ndef mytest():\\n    mylocal=5\\n    print(globals())\\n    print(locals())\\n\\nmytest()\\nprint(locals())'}\n",
      "{'mylocal': 5}\n",
      "{'__name__': '__main__', '__doc__': 'Automatically created module for IPython interactive environment', '__package__': None, '__loader__': None, '__spec__': None, '__builtin__': <module 'builtins' (built-in)>, '__builtins__': <module 'builtins' (built-in)>, '_ih': ['', '#global Scope\\n\\ndef OuterFunct():\\n    def InnerFunct():\\n        print(\"Inner FUnction \")\\n    InnerFunct()\\n    print(\"outer Function \")\\n\\nOuterFunct()', '#global Scope\\n\\nx=\"Global\"\\ndef OuterFunct():\\n    # Enclosing Scope(Non Local Scope)\\n\\n    x=\"Enclosing NonLocal\"\\n    def InnerFunct():\\n\\n        #locaL Scope\\n\\n        x=\"LOcal Scope\"\\n        print(x)\\n    InnerFunct()\\n    print(x)\\n\\nOuterFunct()\\nprint(x)', '#global Scope\\n\\nx=\"Global\"\\ndef OuterFunct():\\n    # Enclosing Scope(Non Local Scope)\\n\\n    x=\"Enclosing NonLocal\"\\n    def InnerFunct():\\n\\n        #locaL Scope\\n\\n        x=\"LOcal Scope\"\\n        print(\"x=\",x)\\n    InnerFunct()\\n    print(\"x=\",x)\\n\\nOuterFunct()\\nprint(\"x=,\"x)', '#global Scope\\n\\nx=\"Global\"\\ndef OuterFunct():\\n    # Enclosing Scope(Non Local Scope)\\n\\n    x=\"Enclosing NonLocal\"\\n    def InnerFunct():\\n\\n        #locaL Scope\\n\\n        x=\"LOcal Scope\"\\n        print(\"x=\",x)\\n    InnerFunct()\\n    print(\"x=\",x)\\n\\nOuterFunct()\\nprint(\"x=\",x)', '#create a Variable in Global Scope then Change it in LOcal Scope\\nx=\"Global\"\\ndef OuterFunct():\\n    global x\\n    x=\"Local\"\\n    print(\"Local Scope=\",x)\\n\\nOuterFunct()\\nprint(\"Global Scope=\",x)', '#create a Variable in Global Scope then Change it in LOcal Scope\\nx=\"Global\"\\ndef OuterFunct():\\n    global x\\n    x=\"LocalVersion\"\\n    print(\"Local Scope=\",x)\\n\\nOuterFunct()\\nprint(\"Global Scope=\",x)', '# create a variable in Global Scope then change it from the Enclosing\\n#global Scope\\n\\nx=\"Globalversion\"\\ndef OuterFunct():\\n    # Enclosing Scope(Non Local Scope)\\n    global x\\n    x=\"Enclosing NonLocal\"\\n    def InnerFunct():\\n\\n        #locaL Scope\\n\\n        x=\"LOcal Scope\"\\n        print(\"x=\",x)\\n\\n    InnerFunct()\\n    print(\"x=\",x)\\n\\nOuterFunct()\\nprint(\"x=\",x)', '# create a variable in Global Scope then change it from the Enclosing\\n#global Scope\\n\\nx=\"Globalversion\"\\ndef OuterFunct():\\n    # Enclosing Scope(Non Local Scope)\\n    x=\"Enclosing NonLocal\"\\n    def InnerFunct():\\n        #locaL Scope\\n        nonlocal x\\n        x=\"LOcal Scope\"\\n        print(\"x=\",x)\\n\\n    InnerFunct()\\n    print(\"x=\",x)\\n\\nOuterFunct()\\nprint(\"x=\",x)', '# create a variable in Enclosing Scope then change it from the Local Scope\\n# Using nonlocal to Modify Enclosing Variables\\n\\n\\nx=\"Globalversion\"\\ndef OuterFunct():\\n    # Enclosing Scope(Non Local Scope)\\n    x=\"Enclosing NonLocal\"\\n\\n    def InnerFunct():\\n        #locaL Scope\\n        nonlocal x  # using nonlocal to changethe Enclosing Scope\\n        x=\"LOcal Scope\"\\n        print(\"x=\",x)\\n\\n    InnerFunct()\\n    print(\"x=\",x)\\n\\nOuterFunct()\\nprint(\"x=\",x)', 'x=56\\nname=\"sharma\"\\n\\nprint(globals())', 'x=56\\nname=\"sharma\"\\n\\nprint(globals().keys())', 'x=56\\nname=\"sharma\"\\n\\nprint(globals().keys())', 'x=56\\nname=\"sharma\"\\n\\nprint(globals().keys())', 'x=56\\nname=\"sharma\"\\ndef mytest():\\n    print(globals().keys())', 'x=56\\nname=\"sharma\"\\ndef mytest():\\n    print(globals().keys())', 'x=56\\nname=\"sharma\"\\ndef mytest():\\n    print(globals().keys())\\n\\nmytest()', 'x=56\\nname=\"sharma\"\\ndef mytest():\\n    print(dir(globals().keys()))\\n\\nmytest()', 'x=56\\nname=\"sharma\"\\ndef mytest():\\n    print(dir(globals().keys()))\\n\\nmytest()', 'x=56\\nname=\"sharma\"\\ndef mytest():\\n    print(dir(globals().keys()))\\n\\nmytest()', 'x=56\\nname=\"sharma\"\\ndef mytest():\\n    print(list(globals().keys()))\\n\\nmytest()', 'x=56\\nname=\"sharma\"\\ndef mytest():\\n    mylocal=5\\n    print(list(globals().keys()))\\n    print(list(locals().keys()))\\n\\nmytest()', 'x=56\\nname=\"sharma\"\\ndef mytest():\\n    mylocal=5\\n    print(list(globals().keys()))\\n    print(locals().keys())\\n\\nmytest()', 'x=56\\nname=\"sharma\"\\ndef mytest():\\n    mylocal=5\\n    print(list(globals().keys()))\\n    print(locals())\\n\\nmytest()', 'x=56\\nname=\"sharma\"\\ndef mytest():\\n    mylocal=5\\n    print(globals())\\n    print(locals())\\n\\nmytest()', 'x=56\\nname=\"sharma\"\\ndef mytest():\\n    mylocal=5\\n    print(globals())\\n    print(locals())\\n\\nmytest()', 'x=56\\nname=\"sharma\"\\ndef mytest():\\n    mylocal=5\\n    print(globals())\\n    print(locals())\\nprint(locals())\\nmytest()', 'x=56\\nname=\"sharma\"\\ndef mytest():\\n    mylocal=5\\n    print(globals())\\n    print(locals())\\n\\nmytest()\\nprint(locals())', 'x=56\\nname=\"sharma\"\\ndef mytest():\\n    mylocal=5\\n    print(globals())\\n    print(locals())\\n\\nmytest()\\nprint(locals())'], '_oh': {}, '_dh': [WindowsPath('c:/Users/a/Desktop/PYTHON/rAdavnceTOpics/DAY24/Namespaces/Notebook')], 'In': ['', '#global Scope\\n\\ndef OuterFunct():\\n    def InnerFunct():\\n        print(\"Inner FUnction \")\\n    InnerFunct()\\n    print(\"outer Function \")\\n\\nOuterFunct()', '#global Scope\\n\\nx=\"Global\"\\ndef OuterFunct():\\n    # Enclosing Scope(Non Local Scope)\\n\\n    x=\"Enclosing NonLocal\"\\n    def InnerFunct():\\n\\n        #locaL Scope\\n\\n        x=\"LOcal Scope\"\\n        print(x)\\n    InnerFunct()\\n    print(x)\\n\\nOuterFunct()\\nprint(x)', '#global Scope\\n\\nx=\"Global\"\\ndef OuterFunct():\\n    # Enclosing Scope(Non Local Scope)\\n\\n    x=\"Enclosing NonLocal\"\\n    def InnerFunct():\\n\\n        #locaL Scope\\n\\n        x=\"LOcal Scope\"\\n        print(\"x=\",x)\\n    InnerFunct()\\n    print(\"x=\",x)\\n\\nOuterFunct()\\nprint(\"x=,\"x)', '#global Scope\\n\\nx=\"Global\"\\ndef OuterFunct():\\n    # Enclosing Scope(Non Local Scope)\\n\\n    x=\"Enclosing NonLocal\"\\n    def InnerFunct():\\n\\n        #locaL Scope\\n\\n        x=\"LOcal Scope\"\\n        print(\"x=\",x)\\n    InnerFunct()\\n    print(\"x=\",x)\\n\\nOuterFunct()\\nprint(\"x=\",x)', '#create a Variable in Global Scope then Change it in LOcal Scope\\nx=\"Global\"\\ndef OuterFunct():\\n    global x\\n    x=\"Local\"\\n    print(\"Local Scope=\",x)\\n\\nOuterFunct()\\nprint(\"Global Scope=\",x)', '#create a Variable in Global Scope then Change it in LOcal Scope\\nx=\"Global\"\\ndef OuterFunct():\\n    global x\\n    x=\"LocalVersion\"\\n    print(\"Local Scope=\",x)\\n\\nOuterFunct()\\nprint(\"Global Scope=\",x)', '# create a variable in Global Scope then change it from the Enclosing\\n#global Scope\\n\\nx=\"Globalversion\"\\ndef OuterFunct():\\n    # Enclosing Scope(Non Local Scope)\\n    global x\\n    x=\"Enclosing NonLocal\"\\n    def InnerFunct():\\n\\n        #locaL Scope\\n\\n        x=\"LOcal Scope\"\\n        print(\"x=\",x)\\n\\n    InnerFunct()\\n    print(\"x=\",x)\\n\\nOuterFunct()\\nprint(\"x=\",x)', '# create a variable in Global Scope then change it from the Enclosing\\n#global Scope\\n\\nx=\"Globalversion\"\\ndef OuterFunct():\\n    # Enclosing Scope(Non Local Scope)\\n    x=\"Enclosing NonLocal\"\\n    def InnerFunct():\\n        #locaL Scope\\n        nonlocal x\\n        x=\"LOcal Scope\"\\n        print(\"x=\",x)\\n\\n    InnerFunct()\\n    print(\"x=\",x)\\n\\nOuterFunct()\\nprint(\"x=\",x)', '# create a variable in Enclosing Scope then change it from the Local Scope\\n# Using nonlocal to Modify Enclosing Variables\\n\\n\\nx=\"Globalversion\"\\ndef OuterFunct():\\n    # Enclosing Scope(Non Local Scope)\\n    x=\"Enclosing NonLocal\"\\n\\n    def InnerFunct():\\n        #locaL Scope\\n        nonlocal x  # using nonlocal to changethe Enclosing Scope\\n        x=\"LOcal Scope\"\\n        print(\"x=\",x)\\n\\n    InnerFunct()\\n    print(\"x=\",x)\\n\\nOuterFunct()\\nprint(\"x=\",x)', 'x=56\\nname=\"sharma\"\\n\\nprint(globals())', 'x=56\\nname=\"sharma\"\\n\\nprint(globals().keys())', 'x=56\\nname=\"sharma\"\\n\\nprint(globals().keys())', 'x=56\\nname=\"sharma\"\\n\\nprint(globals().keys())', 'x=56\\nname=\"sharma\"\\ndef mytest():\\n    print(globals().keys())', 'x=56\\nname=\"sharma\"\\ndef mytest():\\n    print(globals().keys())', 'x=56\\nname=\"sharma\"\\ndef mytest():\\n    print(globals().keys())\\n\\nmytest()', 'x=56\\nname=\"sharma\"\\ndef mytest():\\n    print(dir(globals().keys()))\\n\\nmytest()', 'x=56\\nname=\"sharma\"\\ndef mytest():\\n    print(dir(globals().keys()))\\n\\nmytest()', 'x=56\\nname=\"sharma\"\\ndef mytest():\\n    print(dir(globals().keys()))\\n\\nmytest()', 'x=56\\nname=\"sharma\"\\ndef mytest():\\n    print(list(globals().keys()))\\n\\nmytest()', 'x=56\\nname=\"sharma\"\\ndef mytest():\\n    mylocal=5\\n    print(list(globals().keys()))\\n    print(list(locals().keys()))\\n\\nmytest()', 'x=56\\nname=\"sharma\"\\ndef mytest():\\n    mylocal=5\\n    print(list(globals().keys()))\\n    print(locals().keys())\\n\\nmytest()', 'x=56\\nname=\"sharma\"\\ndef mytest():\\n    mylocal=5\\n    print(list(globals().keys()))\\n    print(locals())\\n\\nmytest()', 'x=56\\nname=\"sharma\"\\ndef mytest():\\n    mylocal=5\\n    print(globals())\\n    print(locals())\\n\\nmytest()', 'x=56\\nname=\"sharma\"\\ndef mytest():\\n    mylocal=5\\n    print(globals())\\n    print(locals())\\n\\nmytest()', 'x=56\\nname=\"sharma\"\\ndef mytest():\\n    mylocal=5\\n    print(globals())\\n    print(locals())\\nprint(locals())\\nmytest()', 'x=56\\nname=\"sharma\"\\ndef mytest():\\n    mylocal=5\\n    print(globals())\\n    print(locals())\\n\\nmytest()\\nprint(locals())', 'x=56\\nname=\"sharma\"\\ndef mytest():\\n    mylocal=5\\n    print(globals())\\n    print(locals())\\n\\nmytest()\\nprint(locals())'], 'Out': {}, 'get_ipython': <bound method InteractiveShell.get_ipython of <ipykernel.zmqshell.ZMQInteractiveShell object at 0x000002AEC192EE40>>, 'exit': <IPython.core.autocall.ZMQExitAutocall object at 0x000002AEC19C0830>, 'quit': <IPython.core.autocall.ZMQExitAutocall object at 0x000002AEC19C0830>, 'open': <function open at 0x000002AEBF9FCEA0>, '_': '', '__': '', '___': '', '__vsc_ipynb_file__': 'c:\\\\Users\\\\a\\\\Desktop\\\\PYTHON\\\\rAdavnceTOpics\\\\DAY24\\\\Namespaces\\\\Notebook\\\\namespaces.ipynb', '_i': 'x=56\\nname=\"sharma\"\\ndef mytest():\\n    mylocal=5\\n    print(globals())\\n    print(locals())\\n\\nmytest()\\nprint(locals())', '_ii': 'x=56\\nname=\"sharma\"\\ndef mytest():\\n    mylocal=5\\n    print(globals())\\n    print(locals())\\nprint(locals())\\nmytest()', '_iii': 'x=56\\nname=\"sharma\"\\ndef mytest():\\n    mylocal=5\\n    print(globals())\\n    print(locals())\\n\\nmytest()', '_i1': '#global Scope\\n\\ndef OuterFunct():\\n    def InnerFunct():\\n        print(\"Inner FUnction \")\\n    InnerFunct()\\n    print(\"outer Function \")\\n\\nOuterFunct()', 'OuterFunct': <function OuterFunct at 0x000002AEC1B276A0>, '_i2': '#global Scope\\n\\nx=\"Global\"\\ndef OuterFunct():\\n    # Enclosing Scope(Non Local Scope)\\n\\n    x=\"Enclosing NonLocal\"\\n    def InnerFunct():\\n        \\n        #locaL Scope\\n\\n        x=\"LOcal Scope\"\\n        print(x)\\n    InnerFunct()\\n    print(x)\\n\\nOuterFunct()\\nprint(x)', 'x': 56, '_i3': '#global Scope\\n\\nx=\"Global\"\\ndef OuterFunct():\\n    # Enclosing Scope(Non Local Scope)\\n\\n    x=\"Enclosing NonLocal\"\\n    def InnerFunct():\\n        \\n        #locaL Scope\\n\\n        x=\"LOcal Scope\"\\n        print(\"x=\",x)\\n    InnerFunct()\\n    print(\"x=\",x)\\n\\nOuterFunct()\\nprint(\"x=,\"x)', '_i4': '#global Scope\\n\\nx=\"Global\"\\ndef OuterFunct():\\n    # Enclosing Scope(Non Local Scope)\\n\\n    x=\"Enclosing NonLocal\"\\n    def InnerFunct():\\n        \\n        #locaL Scope\\n\\n        x=\"LOcal Scope\"\\n        print(\"x=\",x)\\n    InnerFunct()\\n    print(\"x=\",x)\\n\\nOuterFunct()\\nprint(\"x=\",x)', '_i5': '#create a Variable in Global Scope then Change it in LOcal Scope\\nx=\"Global\"\\ndef OuterFunct():\\n    global x\\n    x=\"Local\"\\n    print(\"Local Scope=\",x)\\n\\nOuterFunct()\\nprint(\"Global Scope=\",x)', '_i6': '#create a Variable in Global Scope then Change it in LOcal Scope\\nx=\"Global\"\\ndef OuterFunct():\\n    global x\\n    x=\"LocalVersion\"\\n    print(\"Local Scope=\",x)\\n\\nOuterFunct()\\nprint(\"Global Scope=\",x)', '_i7': '# create a variable in Global Scope then change it from the Enclosing\\n#global Scope\\n\\nx=\"Globalversion\"\\ndef OuterFunct():\\n    # Enclosing Scope(Non Local Scope)\\n    global x\\n    x=\"Enclosing NonLocal\"\\n    def InnerFunct():\\n        \\n        #locaL Scope\\n        \\n        x=\"LOcal Scope\"\\n        print(\"x=\",x)\\n        \\n    InnerFunct()\\n    print(\"x=\",x)\\n\\nOuterFunct()\\nprint(\"x=\",x)', '_i8': '# create a variable in Global Scope then change it from the Enclosing\\n#global Scope\\n\\nx=\"Globalversion\"\\ndef OuterFunct():\\n    # Enclosing Scope(Non Local Scope)\\n    x=\"Enclosing NonLocal\"\\n    def InnerFunct():\\n        #locaL Scope\\n        nonlocal x\\n        x=\"LOcal Scope\"\\n        print(\"x=\",x)\\n        \\n    InnerFunct()\\n    print(\"x=\",x)\\n\\nOuterFunct()\\nprint(\"x=\",x)', '_i9': '# create a variable in Enclosing Scope then change it from the Local Scope\\n# Using nonlocal to Modify Enclosing Variables\\n\\n\\nx=\"Globalversion\"\\ndef OuterFunct():\\n    # Enclosing Scope(Non Local Scope)\\n    x=\"Enclosing NonLocal\"\\n\\n    def InnerFunct():\\n        #locaL Scope\\n        nonlocal x  # using nonlocal to changethe Enclosing Scope\\n        x=\"LOcal Scope\"\\n        print(\"x=\",x)\\n        \\n    InnerFunct()\\n    print(\"x=\",x)\\n\\nOuterFunct()\\nprint(\"x=\",x)', '_i10': 'x=56\\nname=\"sharma\"\\n\\nprint(globals())', 'name': 'sharma', '_i11': 'x=56\\nname=\"sharma\"\\n\\nprint(globals().keys())', '_i12': 'x=56\\nname=\"sharma\"\\n\\nprint(globals().keys())', '_i13': 'x=56\\nname=\"sharma\"\\n\\nprint(globals().keys())', '_i14': 'x=56\\nname=\"sharma\"\\ndef mytest():\\n    print(globals().keys())', 'mytest': <function mytest at 0x000002AEC1B5DF80>, '_i15': 'x=56\\nname=\"sharma\"\\ndef mytest():\\n    print(globals().keys())', '_i16': 'x=56\\nname=\"sharma\"\\ndef mytest():\\n    print(globals().keys())\\n\\nmytest()', '_i17': 'x=56\\nname=\"sharma\"\\ndef mytest():\\n    print(dir(globals().keys()))\\n\\nmytest()', '_i18': 'x=56\\nname=\"sharma\"\\ndef mytest():\\n    print(dir(globals().keys()))\\n\\nmytest()', '_i19': 'x=56\\nname=\"sharma\"\\ndef mytest():\\n    print(dir(globals().keys()))\\n\\nmytest()', '_i20': 'x=56\\nname=\"sharma\"\\ndef mytest():\\n    print(list(globals().keys()))\\n\\nmytest()', '_i21': 'x=56\\nname=\"sharma\"\\ndef mytest():\\n    mylocal=5\\n    print(list(globals().keys()))\\n    print(list(locals().keys()))\\n\\nmytest()', '_i22': 'x=56\\nname=\"sharma\"\\ndef mytest():\\n    mylocal=5\\n    print(list(globals().keys()))\\n    print(locals().keys())\\n\\nmytest()', '_i23': 'x=56\\nname=\"sharma\"\\ndef mytest():\\n    mylocal=5\\n    print(list(globals().keys()))\\n    print(locals())\\n\\nmytest()', '_i24': 'x=56\\nname=\"sharma\"\\ndef mytest():\\n    mylocal=5\\n    print(globals())\\n    print(locals())\\n\\nmytest()', '_i25': 'x=56\\nname=\"sharma\"\\ndef mytest():\\n    mylocal=5\\n    print(globals())\\n    print(locals())\\n\\nmytest()', '_i26': 'x=56\\nname=\"sharma\"\\ndef mytest():\\n    mylocal=5\\n    print(globals())\\n    print(locals())\\nprint(locals())\\nmytest()', '_i27': 'x=56\\nname=\"sharma\"\\ndef mytest():\\n    mylocal=5\\n    print(globals())\\n    print(locals())\\n\\nmytest()\\nprint(locals())', '_i28': 'x=56\\nname=\"sharma\"\\ndef mytest():\\n    mylocal=5\\n    print(globals())\\n    print(locals())\\n\\nmytest()\\nprint(locals())'}\n"
     ]
    }
   ],
   "source": [
    "x=56\n",
    "name=\"sharma\"\n",
    "def mytest():\n",
    "    mylocal=5\n",
    "    print(globals())\n",
    "    print(locals())\n",
    "\n",
    "mytest()\n"
   ]
  }
 ],
 "metadata": {
  "kernelspec": {
   "display_name": "Python 3",
   "language": "python",
   "name": "python3"
  },
  "language_info": {
   "codemirror_mode": {
    "name": "ipython",
    "version": 3
   },
   "file_extension": ".py",
   "mimetype": "text/x-python",
   "name": "python",
   "nbconvert_exporter": "python",
   "pygments_lexer": "ipython3",
   "version": "3.13.5"
  }
 },
 "nbformat": 4,
 "nbformat_minor": 5
}
